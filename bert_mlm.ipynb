{
 "cells": [
  {
   "cell_type": "markdown",
   "id": "3594e220",
   "metadata": {},
   "source": [
    "### BERT Embeddings"
   ]
  },
  {
   "cell_type": "code",
   "execution_count": 1,
   "id": "c8438363",
   "metadata": {},
   "outputs": [
    {
     "name": "stderr",
     "output_type": "stream",
     "text": [
      "/home/opc/anaconda3/envs/labrador/lib/python3.9/site-packages/tqdm/auto.py:21: TqdmWarning: IProgress not found. Please update jupyter and ipywidgets. See https://ipywidgets.readthedocs.io/en/stable/user_install.html\n",
      "  from .autonotebook import tqdm as notebook_tqdm\n"
     ]
    }
   ],
   "source": [
    "import pandas as pd\n",
    "import torch\n",
    "from transformers import BertForMaskedLM\n",
    "from src.preprocessing import preprocess_df, random_train_test_split, TextEncoder, set_labels_features\n",
    "from src.tokenizers import CustomBertTokenizer\n",
    "from src.dataset import LabValuesDataset\n",
    "from src.train import train_mlm\n",
    "from src.embeddings import load_model, get_embeddings"
   ]
  },
  {
   "cell_type": "markdown",
   "id": "3b42aeb9",
   "metadata": {},
   "source": [
    "### Read dataset"
   ]
  },
  {
   "cell_type": "code",
   "execution_count": 2,
   "id": "a3f2ab99",
   "metadata": {},
   "outputs": [],
   "source": [
    "FILE = 'data/morning_lab_values.csv'\n",
    "\n",
    "df = pd.read_csv(FILE)"
   ]
  },
  {
   "cell_type": "code",
   "execution_count": 3,
   "id": "50ea9b69",
   "metadata": {},
   "outputs": [
    {
     "data": {
      "text/html": [
       "<div>\n",
       "<style scoped>\n",
       "    .dataframe tbody tr th:only-of-type {\n",
       "        vertical-align: middle;\n",
       "    }\n",
       "\n",
       "    .dataframe tbody tr th {\n",
       "        vertical-align: top;\n",
       "    }\n",
       "\n",
       "    .dataframe thead th {\n",
       "        text-align: right;\n",
       "    }\n",
       "</style>\n",
       "<table border=\"1\" class=\"dataframe\">\n",
       "  <thead>\n",
       "    <tr style=\"text-align: right;\">\n",
       "      <th></th>\n",
       "      <th>hadm_id</th>\n",
       "      <th>subject_id</th>\n",
       "      <th>itemid</th>\n",
       "      <th>charttime</th>\n",
       "      <th>charthour</th>\n",
       "      <th>storetime</th>\n",
       "      <th>storehour</th>\n",
       "      <th>chartday</th>\n",
       "      <th>valuenum</th>\n",
       "      <th>cnt</th>\n",
       "    </tr>\n",
       "  </thead>\n",
       "  <tbody>\n",
       "    <tr>\n",
       "      <th>0</th>\n",
       "      <td>NaN</td>\n",
       "      <td>10312413</td>\n",
       "      <td>51222</td>\n",
       "      <td>2173-06-05 08:20:00</td>\n",
       "      <td>8</td>\n",
       "      <td>2173-06-05 08:47:00</td>\n",
       "      <td>8</td>\n",
       "      <td>2173-06-05</td>\n",
       "      <td>12.8</td>\n",
       "      <td>8</td>\n",
       "    </tr>\n",
       "    <tr>\n",
       "      <th>1</th>\n",
       "      <td>25669789.0</td>\n",
       "      <td>10390828</td>\n",
       "      <td>51222</td>\n",
       "      <td>2181-10-26 07:55:00</td>\n",
       "      <td>7</td>\n",
       "      <td>2181-10-26 08:46:00</td>\n",
       "      <td>8</td>\n",
       "      <td>2181-10-26</td>\n",
       "      <td>9.4</td>\n",
       "      <td>8</td>\n",
       "    </tr>\n",
       "    <tr>\n",
       "      <th>2</th>\n",
       "      <td>26646522.0</td>\n",
       "      <td>10447634</td>\n",
       "      <td>51222</td>\n",
       "      <td>2165-03-07 06:55:00</td>\n",
       "      <td>6</td>\n",
       "      <td>2165-03-07 07:23:00</td>\n",
       "      <td>7</td>\n",
       "      <td>2165-03-07</td>\n",
       "      <td>11.1</td>\n",
       "      <td>8</td>\n",
       "    </tr>\n",
       "    <tr>\n",
       "      <th>3</th>\n",
       "      <td>27308928.0</td>\n",
       "      <td>10784877</td>\n",
       "      <td>51222</td>\n",
       "      <td>2170-05-11 06:00:00</td>\n",
       "      <td>6</td>\n",
       "      <td>2170-05-11 06:43:00</td>\n",
       "      <td>6</td>\n",
       "      <td>2170-05-11</td>\n",
       "      <td>10.3</td>\n",
       "      <td>8</td>\n",
       "    </tr>\n",
       "    <tr>\n",
       "      <th>4</th>\n",
       "      <td>28740988.0</td>\n",
       "      <td>11298819</td>\n",
       "      <td>51222</td>\n",
       "      <td>2142-09-13 07:15:00</td>\n",
       "      <td>7</td>\n",
       "      <td>2142-09-13 09:23:00</td>\n",
       "      <td>9</td>\n",
       "      <td>2142-09-13</td>\n",
       "      <td>10.2</td>\n",
       "      <td>8</td>\n",
       "    </tr>\n",
       "  </tbody>\n",
       "</table>\n",
       "</div>"
      ],
      "text/plain": [
       "      hadm_id  subject_id  itemid            charttime  charthour  \\\n",
       "0         NaN    10312413   51222  2173-06-05 08:20:00          8   \n",
       "1  25669789.0    10390828   51222  2181-10-26 07:55:00          7   \n",
       "2  26646522.0    10447634   51222  2165-03-07 06:55:00          6   \n",
       "3  27308928.0    10784877   51222  2170-05-11 06:00:00          6   \n",
       "4  28740988.0    11298819   51222  2142-09-13 07:15:00          7   \n",
       "\n",
       "             storetime  storehour    chartday  valuenum  cnt  \n",
       "0  2173-06-05 08:47:00          8  2173-06-05      12.8    8  \n",
       "1  2181-10-26 08:46:00          8  2181-10-26       9.4    8  \n",
       "2  2165-03-07 07:23:00          7  2165-03-07      11.1    8  \n",
       "3  2170-05-11 06:43:00          6  2170-05-11      10.3    8  \n",
       "4  2142-09-13 09:23:00          9  2142-09-13      10.2    8  "
      ]
     },
     "execution_count": 3,
     "metadata": {},
     "output_type": "execute_result"
    }
   ],
   "source": [
    "df.head()"
   ]
  },
  {
   "cell_type": "markdown",
   "id": "252ee2df",
   "metadata": {},
   "source": [
    "### Preprocessing"
   ]
  },
  {
   "cell_type": "code",
   "execution_count": 4,
   "id": "7e08c3bd",
   "metadata": {},
   "outputs": [],
   "source": [
    "COLUMNS = ['Bic', 'Crt', 'Pot', 'Sod', 'Ure', 'Hgb', 'Plt', 'Wbc']"
   ]
  },
  {
   "cell_type": "code",
   "execution_count": 5,
   "id": "436ec03d",
   "metadata": {},
   "outputs": [],
   "source": [
    "mrl = preprocess_df(df, columns_to_scale=COLUMNS)"
   ]
  },
  {
   "cell_type": "code",
   "execution_count": 6,
   "id": "86bc3944",
   "metadata": {},
   "outputs": [],
   "source": [
    "text_encoder = TextEncoder()\n",
    "mrl, grouped_mrl = text_encoder.encode_text(mrl)"
   ]
  },
  {
   "cell_type": "code",
   "execution_count": 7,
   "id": "9b7aade5",
   "metadata": {},
   "outputs": [
    {
     "data": {
      "text/html": [
       "<div>\n",
       "<style scoped>\n",
       "    .dataframe tbody tr th:only-of-type {\n",
       "        vertical-align: middle;\n",
       "    }\n",
       "\n",
       "    .dataframe tbody tr th {\n",
       "        vertical-align: top;\n",
       "    }\n",
       "\n",
       "    .dataframe thead th {\n",
       "        text-align: right;\n",
       "    }\n",
       "</style>\n",
       "<table border=\"1\" class=\"dataframe\">\n",
       "  <thead>\n",
       "    <tr style=\"text-align: right;\">\n",
       "      <th></th>\n",
       "      <th>hadm_id</th>\n",
       "      <th>nstr</th>\n",
       "    </tr>\n",
       "  </thead>\n",
       "  <tbody>\n",
       "    <tr>\n",
       "      <th>0</th>\n",
       "      <td>20000019.0</td>\n",
       "      <td>[Bic BicAS Crt CrtC Pot PotR Sod SodBI Ure Ure...</td>\n",
       "    </tr>\n",
       "    <tr>\n",
       "      <th>1</th>\n",
       "      <td>20000024.0</td>\n",
       "      <td>[Bic BicAU Crt CrtC Pot PotAF Sod SodBL Ure Ur...</td>\n",
       "    </tr>\n",
       "    <tr>\n",
       "      <th>2</th>\n",
       "      <td>20000034.0</td>\n",
       "      <td>[Bic BicAS Crt CrtG Pot PotAC Sod SodBM Ure Ur...</td>\n",
       "    </tr>\n",
       "    <tr>\n",
       "      <th>3</th>\n",
       "      <td>20000041.0</td>\n",
       "      <td>[Bic BicAW Crt CrtC Pot PotU Sod SodBI Ure Ure...</td>\n",
       "    </tr>\n",
       "    <tr>\n",
       "      <th>4</th>\n",
       "      <td>20000057.0</td>\n",
       "      <td>[Bic BicAK Crt CrtC Pot PotY Sod SodBI Ure Ure...</td>\n",
       "    </tr>\n",
       "    <tr>\n",
       "      <th>...</th>\n",
       "      <td>...</td>\n",
       "      <td>...</td>\n",
       "    </tr>\n",
       "    <tr>\n",
       "      <th>264582</th>\n",
       "      <td>29999625.0</td>\n",
       "      <td>[Bic BicAZ Crt CrtC Pot PotAC Sod SodBS Ure Ur...</td>\n",
       "    </tr>\n",
       "    <tr>\n",
       "      <th>264583</th>\n",
       "      <td>29999670.0</td>\n",
       "      <td>[Bic BicAZ Crt CrtD Pot PotW Sod SodBO Ure Ure...</td>\n",
       "    </tr>\n",
       "    <tr>\n",
       "      <th>264584</th>\n",
       "      <td>29999723.0</td>\n",
       "      <td>[Bic BicBB Crt CrtC Pot PotU Sod SodBM Ure Ure...</td>\n",
       "    </tr>\n",
       "    <tr>\n",
       "      <th>264585</th>\n",
       "      <td>29999745.0</td>\n",
       "      <td>[Bic BicBD Crt CrtB Pot PotX Sod SodBP Ure Ure...</td>\n",
       "    </tr>\n",
       "    <tr>\n",
       "      <th>264586</th>\n",
       "      <td>29999809.0</td>\n",
       "      <td>[Bic BicAW Crt CrtC Pot PotM Sod SodBN Ure Ure...</td>\n",
       "    </tr>\n",
       "  </tbody>\n",
       "</table>\n",
       "<p>264587 rows × 2 columns</p>\n",
       "</div>"
      ],
      "text/plain": [
       "           hadm_id                                               nstr\n",
       "0       20000019.0  [Bic BicAS Crt CrtC Pot PotR Sod SodBI Ure Ure...\n",
       "1       20000024.0  [Bic BicAU Crt CrtC Pot PotAF Sod SodBL Ure Ur...\n",
       "2       20000034.0  [Bic BicAS Crt CrtG Pot PotAC Sod SodBM Ure Ur...\n",
       "3       20000041.0  [Bic BicAW Crt CrtC Pot PotU Sod SodBI Ure Ure...\n",
       "4       20000057.0  [Bic BicAK Crt CrtC Pot PotY Sod SodBI Ure Ure...\n",
       "...            ...                                                ...\n",
       "264582  29999625.0  [Bic BicAZ Crt CrtC Pot PotAC Sod SodBS Ure Ur...\n",
       "264583  29999670.0  [Bic BicAZ Crt CrtD Pot PotW Sod SodBO Ure Ure...\n",
       "264584  29999723.0  [Bic BicBB Crt CrtC Pot PotU Sod SodBM Ure Ure...\n",
       "264585  29999745.0  [Bic BicBD Crt CrtB Pot PotX Sod SodBP Ure Ure...\n",
       "264586  29999809.0  [Bic BicAW Crt CrtC Pot PotM Sod SodBN Ure Ure...\n",
       "\n",
       "[264587 rows x 2 columns]"
      ]
     },
     "execution_count": 7,
     "metadata": {},
     "output_type": "execute_result"
    }
   ],
   "source": [
    "grouped_mrl"
   ]
  },
  {
   "cell_type": "markdown",
   "id": "4e60e574",
   "metadata": {},
   "source": [
    "### Tokenize"
   ]
  },
  {
   "cell_type": "code",
   "execution_count": 8,
   "id": "0e823b9c",
   "metadata": {},
   "outputs": [],
   "source": [
    "special_tokens = {0: '[PAD]', 101: '[CLS]', 102: '[SEP]', 103: '[MASK]'}\n",
    "vocab_list = mrl['nstr'].str.split(' ').explode().unique().tolist()\n",
    "\n",
    "tokenizer = CustomBertTokenizer.create_bert_tokenizer(vocab_list, special_tokens=special_tokens)"
   ]
  },
  {
   "cell_type": "code",
   "execution_count": 9,
   "id": "cd61554d",
   "metadata": {},
   "outputs": [],
   "source": [
    "text = grouped_mrl['nstr'].apply(lambda x: ' [SEP] '.join(x)).tolist()\n",
    "train, test = random_train_test_split(text)"
   ]
  },
  {
   "cell_type": "code",
   "execution_count": 10,
   "id": "76d7a656",
   "metadata": {},
   "outputs": [],
   "source": [
    "train_inputs = tokenizer(train, return_tensors='pt', max_length=100, truncation=True, padding='max_length')\n",
    "\n",
    "test_inputs = tokenizer(test, return_tensors='pt', max_length=100, truncation=True, padding='max_length')"
   ]
  },
  {
   "cell_type": "markdown",
   "id": "09b13325",
   "metadata": {},
   "source": [
    "### Dataset Perparation"
   ]
  },
  {
   "cell_type": "code",
   "execution_count": null,
   "id": "ab071ca4",
   "metadata": {},
   "outputs": [],
   "source": [
    "MASKING = 0.20\n",
    "train_inputs, test_inputs = set_labels_features(train_inputs, test_inputs, parcentage=MASKING)"
   ]
  },
  {
   "cell_type": "code",
   "execution_count": null,
   "id": "5322de6f",
   "metadata": {},
   "outputs": [],
   "source": [
    "train_dataset = LabValuesDataset(train_inputs)\n",
    "test_dataset = LabValuesDataset(test_inputs)"
   ]
  },
  {
   "cell_type": "code",
   "execution_count": null,
   "id": "7152260e",
   "metadata": {},
   "outputs": [],
   "source": [
    "train_loader = torch.utils.data.DataLoader(train_dataset, batch_size=16, shuffle=True)\n",
    "test_loader = torch.utils.data.DataLoader(test_dataset, batch_size=16, shuffle=True)"
   ]
  },
  {
   "cell_type": "markdown",
   "id": "541e60cb",
   "metadata": {},
   "source": [
    "### Model"
   ]
  },
  {
   "cell_type": "code",
   "execution_count": null,
   "id": "aea39f4e",
   "metadata": {},
   "outputs": [],
   "source": [
    "device = torch.device('cuda') if torch.cuda.is_available() else torch.device('cpu')\n",
    "\n",
    "# Apple slilicon:\n",
    "# device = torch.device('mps') if torch.cuda.is_available() else torch.device('cpu')"
   ]
  },
  {
   "cell_type": "code",
   "execution_count": null,
   "id": "2960c468",
   "metadata": {},
   "outputs": [
    {
     "name": "stderr",
     "output_type": "stream",
     "text": [
      "Some weights of the model checkpoint at bert-base-uncased were not used when initializing BertForMaskedLM: ['cls.seq_relationship.bias', 'bert.pooler.dense.weight', 'cls.seq_relationship.weight', 'bert.pooler.dense.bias']\n",
      "- This IS expected if you are initializing BertForMaskedLM from the checkpoint of a model trained on another task or with another architecture (e.g. initializing a BertForSequenceClassification model from a BertForPreTraining model).\n",
      "- This IS NOT expected if you are initializing BertForMaskedLM from the checkpoint of a model that you expect to be exactly identical (initializing a BertForSequenceClassification model from a BertForSequenceClassification model).\n"
     ]
    },
    {
     "data": {
      "text/plain": [
       "BertForMaskedLM(\n",
       "  (bert): BertModel(\n",
       "    (embeddings): BertEmbeddings(\n",
       "      (word_embeddings): Embedding(624, 768)\n",
       "      (position_embeddings): Embedding(512, 768)\n",
       "      (token_type_embeddings): Embedding(2, 768)\n",
       "      (LayerNorm): LayerNorm((768,), eps=1e-12, elementwise_affine=True)\n",
       "      (dropout): Dropout(p=0.1, inplace=False)\n",
       "    )\n",
       "    (encoder): BertEncoder(\n",
       "      (layer): ModuleList(\n",
       "        (0-11): 12 x BertLayer(\n",
       "          (attention): BertAttention(\n",
       "            (self): BertSelfAttention(\n",
       "              (query): Linear(in_features=768, out_features=768, bias=True)\n",
       "              (key): Linear(in_features=768, out_features=768, bias=True)\n",
       "              (value): Linear(in_features=768, out_features=768, bias=True)\n",
       "              (dropout): Dropout(p=0.1, inplace=False)\n",
       "            )\n",
       "            (output): BertSelfOutput(\n",
       "              (dense): Linear(in_features=768, out_features=768, bias=True)\n",
       "              (LayerNorm): LayerNorm((768,), eps=1e-12, elementwise_affine=True)\n",
       "              (dropout): Dropout(p=0.1, inplace=False)\n",
       "            )\n",
       "          )\n",
       "          (intermediate): BertIntermediate(\n",
       "            (dense): Linear(in_features=768, out_features=3072, bias=True)\n",
       "            (intermediate_act_fn): GELUActivation()\n",
       "          )\n",
       "          (output): BertOutput(\n",
       "            (dense): Linear(in_features=3072, out_features=768, bias=True)\n",
       "            (LayerNorm): LayerNorm((768,), eps=1e-12, elementwise_affine=True)\n",
       "            (dropout): Dropout(p=0.1, inplace=False)\n",
       "          )\n",
       "        )\n",
       "      )\n",
       "    )\n",
       "  )\n",
       "  (cls): BertOnlyMLMHead(\n",
       "    (predictions): BertLMPredictionHead(\n",
       "      (transform): BertPredictionHeadTransform(\n",
       "        (dense): Linear(in_features=768, out_features=768, bias=True)\n",
       "        (transform_act_fn): GELUActivation()\n",
       "        (LayerNorm): LayerNorm((768,), eps=1e-12, elementwise_affine=True)\n",
       "      )\n",
       "      (decoder): Linear(in_features=768, out_features=624, bias=True)\n",
       "    )\n",
       "  )\n",
       ")"
      ]
     },
     "execution_count": 15,
     "metadata": {},
     "output_type": "execute_result"
    }
   ],
   "source": [
    "model = BertForMaskedLM.from_pretrained('bert-base-uncased')\n",
    "model.resize_token_embeddings(len(tokenizer))\n",
    "# and move our model over to the selected device\n",
    "model.to(device)"
   ]
  },
  {
   "cell_type": "markdown",
   "id": "4f7f2e3d",
   "metadata": {},
   "source": [
    "### Training"
   ]
  },
  {
   "cell_type": "code",
   "execution_count": null,
   "id": "cd80a416",
   "metadata": {},
   "outputs": [],
   "source": [
    "train_mlm(model, train_loader, test_loader, device, tokenizer)"
   ]
  },
  {
   "cell_type": "markdown",
   "id": "c3710a9e",
   "metadata": {},
   "source": [
    "### Load model"
   ]
  },
  {
   "cell_type": "code",
   "execution_count": null,
   "id": "01ccdb8a",
   "metadata": {},
   "outputs": [
    {
     "name": "stderr",
     "output_type": "stream",
     "text": [
      "The tokenizer class you load from this checkpoint is not the same type as the class this function is called from. It may result in unexpected tokenization. \n",
      "The tokenizer class you load from this checkpoint is 'CustomBertTokenizer'. \n",
      "The class this function is called from is 'BertTokenizer'.\n"
     ]
    }
   ],
   "source": [
    "model, tokenizer = load_model(model_path=\"model/\", tokenizer_path=\"tokenizer/\")"
   ]
  },
  {
   "cell_type": "markdown",
   "id": "bb57f5bd",
   "metadata": {},
   "source": [
    "### Generate embeddings"
   ]
  },
  {
   "cell_type": "code",
   "execution_count": null,
   "id": "9872984d",
   "metadata": {},
   "outputs": [
    {
     "name": "stderr",
     "output_type": "stream",
     "text": [
      "Asking to truncate to max_length but no maximum length is provided and the model has no predefined maximum length. Default to no truncation.\n"
     ]
    },
    {
     "name": "stdout",
     "output_type": "stream",
     "text": [
      "Embeddings Shape: (2, 10, 768)\n",
      "[[[-1.1674141  -0.03205423 -0.83196145 ... -0.25210625  0.2533358\n",
      "    0.5407926 ]\n",
      "  [-0.9985977   0.6987042  -0.11391093 ... -0.2438933   0.10005566\n",
      "   -0.2770821 ]\n",
      "  [ 1.2565708   0.17699586  0.22682366 ...  0.16105117 -0.22948685\n",
      "    0.41730225]\n",
      "  ...\n",
      "  [ 1.2413157   1.1760116  -0.5074808  ... -0.47217977 -0.99362564\n",
      "   -1.2414502 ]\n",
      "  [ 0.24586165 -0.2888732   0.8921513  ...  0.29769474 -0.5381557\n",
      "    0.30063152]\n",
      "  [-0.09828736 -0.1483139   0.0121102  ...  0.6725325   0.39603958\n",
      "   -0.43334928]]\n",
      "\n",
      " [[-1.2411058   0.35089105 -0.77869827 ... -0.31622928  0.13699816\n",
      "    0.58438724]\n",
      "  [-0.69782966  0.5594827   0.5022457  ... -0.35116678  0.5592405\n",
      "    0.03209981]\n",
      "  [ 0.10558576  0.47911486  1.0057693  ... -0.10532114 -0.09810198\n",
      "   -0.15093239]\n",
      "  ...\n",
      "  [ 0.46017697  0.4877037   0.68133605 ... -0.04234336 -0.8137266\n",
      "    0.19985583]\n",
      "  [-0.9214135  -0.39549658  0.06390405 ...  0.22225861  0.50593334\n",
      "    0.48475447]\n",
      "  [-0.13972664  0.02047924  0.13895945 ...  0.63089424  0.2914275\n",
      "   -0.29574943]]]\n"
     ]
    }
   ],
   "source": [
    "texts_to_embed = [\"BicAS CrtC PotR SodBI UreG HgbAQ PltH WbcB\", \"BicBD CrtB PotX SodBP UreE HgbBM PltJ WbcA\"]\n",
    "\n",
    "embeddings = get_embeddings(model, tokenizer, texts_to_embed)\n",
    "print(\"Embeddings Shape:\", embeddings.shape)\n",
    "print(embeddings)"
   ]
  },
  {
   "cell_type": "markdown",
   "id": "08c2cde5",
   "metadata": {},
   "source": [
    "### TODO:\n",
    "\n",
    "1. EDA: on raw data!\n",
    "2. What is going wrong with the model. Debugging XGBoost -> Lucas!\n",
    "2. Modify the bins. Right now, we just use 10. 5-20 bins\n",
    "3. Use position as lab id -> Remove lab ids\n",
    "4. Masking -> Play with masking percentage. Right now, we mask 20% of the tokens\n",
    "5. Model size -> Play with model size. Right now we use base model BERT.\n",
    "6. Maybe add other lab values and increase the sequence length."
   ]
  },
  {
   "cell_type": "code",
   "execution_count": null,
   "id": "16a75496",
   "metadata": {},
   "outputs": [],
   "source": []
  }
 ],
 "metadata": {
  "kernelspec": {
   "display_name": "labrador",
   "language": "python",
   "name": "python3"
  },
  "language_info": {
   "codemirror_mode": {
    "name": "ipython",
    "version": 3
   },
   "file_extension": ".py",
   "mimetype": "text/x-python",
   "name": "python",
   "nbconvert_exporter": "python",
   "pygments_lexer": "ipython3",
   "version": "3.9.18"
  }
 },
 "nbformat": 4,
 "nbformat_minor": 5
}
