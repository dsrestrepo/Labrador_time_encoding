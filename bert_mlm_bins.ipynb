{
 "cells": [
  {
   "cell_type": "markdown",
   "id": "3594e220",
   "metadata": {},
   "source": [
    "### BERT Embeddings"
   ]
  },
  {
   "cell_type": "code",
   "execution_count": 1,
   "id": "c8438363",
   "metadata": {},
   "outputs": [],
   "source": [
    "import pandas as pd\n",
    "import torch\n",
    "from transformers import BertForMaskedLM\n",
    "from src.preprocessing import preprocess_df, random_train_test_split, TextEncoder, set_labels_features\n",
    "from src.tokenizers import CustomBertTokenizer\n",
    "from src.dataset import LabValuesDataset\n",
    "from src.train import train_mlm\n",
    "from src.embeddings import load_model, get_embeddings\n",
    "import numpy as np\n",
    "import matplotlib.pyplot as plt"
   ]
  },
  {
   "cell_type": "code",
   "execution_count": 2,
   "id": "22c6e50c",
   "metadata": {},
   "outputs": [],
   "source": [
    "### Constants\n",
    "\n",
    "FILE = 'data/morning_lab_values.csv'\n",
    "COLUMNS = ['Bic', 'Crt', 'Pot', 'Sod', 'Ure', 'Hgb', 'Plt', 'Wbc']\n",
    "BINS = 10\n",
    "\n",
    "MASKING = 0.20\n",
    "REPEAT_ID = False # If repetition_id is True, <<lab_id>> <<lab_id>><<lab_value_str>> else: <<lab_id>><<lab_value_str\n",
    "USE_LAB_ID = False # If lab_id is True, <<lab_id>><<lab_value_str>> else: <<lab_value_str>>\n",
    "\n",
    "device = torch.device('cuda') if torch.cuda.is_available() else torch.device('cpu')\n",
    "# device = torch.device('mps') if torch.cuda.is_available() else torch.device('cpu') # Apple slilicon"
   ]
  },
  {
   "cell_type": "markdown",
   "id": "3b42aeb9",
   "metadata": {},
   "source": [
    "### Read dataset"
   ]
  },
  {
   "cell_type": "code",
   "execution_count": 3,
   "id": "a3f2ab99",
   "metadata": {},
   "outputs": [],
   "source": [
    "df = pd.read_csv(FILE)"
   ]
  },
  {
   "cell_type": "code",
   "execution_count": 4,
   "id": "50ea9b69",
   "metadata": {},
   "outputs": [
    {
     "data": {
      "text/html": [
       "<div>\n",
       "<style scoped>\n",
       "    .dataframe tbody tr th:only-of-type {\n",
       "        vertical-align: middle;\n",
       "    }\n",
       "\n",
       "    .dataframe tbody tr th {\n",
       "        vertical-align: top;\n",
       "    }\n",
       "\n",
       "    .dataframe thead th {\n",
       "        text-align: right;\n",
       "    }\n",
       "</style>\n",
       "<table border=\"1\" class=\"dataframe\">\n",
       "  <thead>\n",
       "    <tr style=\"text-align: right;\">\n",
       "      <th></th>\n",
       "      <th>hadm_id</th>\n",
       "      <th>subject_id</th>\n",
       "      <th>itemid</th>\n",
       "      <th>charttime</th>\n",
       "      <th>charthour</th>\n",
       "      <th>storetime</th>\n",
       "      <th>storehour</th>\n",
       "      <th>chartday</th>\n",
       "      <th>valuenum</th>\n",
       "      <th>cnt</th>\n",
       "    </tr>\n",
       "  </thead>\n",
       "  <tbody>\n",
       "    <tr>\n",
       "      <th>0</th>\n",
       "      <td>NaN</td>\n",
       "      <td>10312413</td>\n",
       "      <td>51222</td>\n",
       "      <td>2173-06-05 08:20:00</td>\n",
       "      <td>8</td>\n",
       "      <td>2173-06-05 08:47:00</td>\n",
       "      <td>8</td>\n",
       "      <td>2173-06-05</td>\n",
       "      <td>12.8</td>\n",
       "      <td>8</td>\n",
       "    </tr>\n",
       "    <tr>\n",
       "      <th>1</th>\n",
       "      <td>25669789.0</td>\n",
       "      <td>10390828</td>\n",
       "      <td>51222</td>\n",
       "      <td>2181-10-26 07:55:00</td>\n",
       "      <td>7</td>\n",
       "      <td>2181-10-26 08:46:00</td>\n",
       "      <td>8</td>\n",
       "      <td>2181-10-26</td>\n",
       "      <td>9.4</td>\n",
       "      <td>8</td>\n",
       "    </tr>\n",
       "    <tr>\n",
       "      <th>2</th>\n",
       "      <td>26646522.0</td>\n",
       "      <td>10447634</td>\n",
       "      <td>51222</td>\n",
       "      <td>2165-03-07 06:55:00</td>\n",
       "      <td>6</td>\n",
       "      <td>2165-03-07 07:23:00</td>\n",
       "      <td>7</td>\n",
       "      <td>2165-03-07</td>\n",
       "      <td>11.1</td>\n",
       "      <td>8</td>\n",
       "    </tr>\n",
       "    <tr>\n",
       "      <th>3</th>\n",
       "      <td>27308928.0</td>\n",
       "      <td>10784877</td>\n",
       "      <td>51222</td>\n",
       "      <td>2170-05-11 06:00:00</td>\n",
       "      <td>6</td>\n",
       "      <td>2170-05-11 06:43:00</td>\n",
       "      <td>6</td>\n",
       "      <td>2170-05-11</td>\n",
       "      <td>10.3</td>\n",
       "      <td>8</td>\n",
       "    </tr>\n",
       "    <tr>\n",
       "      <th>4</th>\n",
       "      <td>28740988.0</td>\n",
       "      <td>11298819</td>\n",
       "      <td>51222</td>\n",
       "      <td>2142-09-13 07:15:00</td>\n",
       "      <td>7</td>\n",
       "      <td>2142-09-13 09:23:00</td>\n",
       "      <td>9</td>\n",
       "      <td>2142-09-13</td>\n",
       "      <td>10.2</td>\n",
       "      <td>8</td>\n",
       "    </tr>\n",
       "  </tbody>\n",
       "</table>\n",
       "</div>"
      ],
      "text/plain": [
       "      hadm_id  subject_id  itemid            charttime  charthour  \\\n",
       "0         NaN    10312413   51222  2173-06-05 08:20:00          8   \n",
       "1  25669789.0    10390828   51222  2181-10-26 07:55:00          7   \n",
       "2  26646522.0    10447634   51222  2165-03-07 06:55:00          6   \n",
       "3  27308928.0    10784877   51222  2170-05-11 06:00:00          6   \n",
       "4  28740988.0    11298819   51222  2142-09-13 07:15:00          7   \n",
       "\n",
       "             storetime  storehour    chartday  valuenum  cnt  \n",
       "0  2173-06-05 08:47:00          8  2173-06-05      12.8    8  \n",
       "1  2181-10-26 08:46:00          8  2181-10-26       9.4    8  \n",
       "2  2165-03-07 07:23:00          7  2165-03-07      11.1    8  \n",
       "3  2170-05-11 06:43:00          6  2170-05-11      10.3    8  \n",
       "4  2142-09-13 09:23:00          9  2142-09-13      10.2    8  "
      ]
     },
     "execution_count": 4,
     "metadata": {},
     "output_type": "execute_result"
    }
   ],
   "source": [
    "df.head()"
   ]
  },
  {
   "cell_type": "markdown",
   "id": "252ee2df",
   "metadata": {},
   "source": [
    "### Preprocessing"
   ]
  },
  {
   "cell_type": "code",
   "execution_count": 5,
   "id": "436ec03d",
   "metadata": {},
   "outputs": [],
   "source": [
    "mrl = preprocess_df(df, scaler='log', columns_to_scale=COLUMNS, num_bins=BINS)"
   ]
  },
  {
   "cell_type": "code",
   "execution_count": 6,
   "id": "a40c373e",
   "metadata": {},
   "outputs": [
    {
     "data": {
      "image/png": "[encoded data removed]",
      "text/plain": [
       "<Figure size 640x480 with 1 Axes>"
      ]
     },
     "metadata": {},
     "output_type": "display_data"
    }
   ],
   "source": [
    "# Compute the empirical distribution function\n",
    "def compute_edf(data):\n",
    "    \"\"\" compute the empirical distribution function for a 1D array of measurements\"\"\"\n",
    "\n",
    "    n = len(data)\n",
    "    x = np.sort(data)\n",
    "    y = np.arange(1, n+1) / n\n",
    "\n",
    "    return x, y\n",
    "\n",
    "\n",
    "x, y = compute_edf(mrl['Bic'])\n",
    "\n",
    "# Plotting the EDF\n",
    "plt.step(x, y, where=\"post\")\n",
    "plt.xlabel('Data Points')\n",
    "plt.ylabel('ECDF')\n",
    "plt.title('Empirical Cumulative Distribution Function')\n",
    "plt.grid(True)\n",
    "plt.show()"
   ]
  },
  {
   "cell_type": "code",
   "execution_count": 7,
   "id": "86bc3944",
   "metadata": {},
   "outputs": [],
   "source": [
    "text_encoder = TextEncoder(bins=BINS, Repetition_id=REPEAT_ID, lab_id=USE_LAB_ID)\n",
    "mrl, grouped_mrl = text_encoder.encode_text(mrl)"
   ]
  },
  {
   "cell_type": "code",
   "execution_count": 8,
   "id": "9b7aade5",
   "metadata": {},
   "outputs": [
    {
     "data": {
      "text/html": [
       "<div>\n",
       "<style scoped>\n",
       "    .dataframe tbody tr th:only-of-type {\n",
       "        vertical-align: middle;\n",
       "    }\n",
       "\n",
       "    .dataframe tbody tr th {\n",
       "        vertical-align: top;\n",
       "    }\n",
       "\n",
       "    .dataframe thead th {\n",
       "        text-align: right;\n",
       "    }\n",
       "</style>\n",
       "<table border=\"1\" class=\"dataframe\">\n",
       "  <thead>\n",
       "    <tr style=\"text-align: right;\">\n",
       "      <th></th>\n",
       "      <th>hadm_id</th>\n",
       "      <th>nstr</th>\n",
       "    </tr>\n",
       "  </thead>\n",
       "  <tbody>\n",
       "    <tr>\n",
       "      <th>0</th>\n",
       "      <td>20000019.0</td>\n",
       "      <td>[D E A D F C E J, H F B C E D E G, F D D E D B...</td>\n",
       "    </tr>\n",
       "    <tr>\n",
       "      <th>1</th>\n",
       "      <td>20000024.0</td>\n",
       "      <td>[E E J G H F E B]</td>\n",
       "    </tr>\n",
       "    <tr>\n",
       "      <th>2</th>\n",
       "      <td>20000034.0</td>\n",
       "      <td>[D I J H H D D H, B I G I G E D D]</td>\n",
       "    </tr>\n",
       "    <tr>\n",
       "      <th>3</th>\n",
       "      <td>20000041.0</td>\n",
       "      <td>[F E D C E C G G, D E F C F B G G]</td>\n",
       "    </tr>\n",
       "    <tr>\n",
       "      <th>4</th>\n",
       "      <td>20000057.0</td>\n",
       "      <td>[A E G D F I D F, I E A H G I C E, I E A J E J...</td>\n",
       "    </tr>\n",
       "    <tr>\n",
       "      <th>...</th>\n",
       "      <td>...</td>\n",
       "      <td>...</td>\n",
       "    </tr>\n",
       "    <tr>\n",
       "      <th>264582</th>\n",
       "      <td>29999625.0</td>\n",
       "      <td>[G C J J I J I I, H C J J I J I J, G C J H I J...</td>\n",
       "    </tr>\n",
       "    <tr>\n",
       "      <th>264583</th>\n",
       "      <td>29999670.0</td>\n",
       "      <td>[G G F I H F D B, I G F I H E C B, I G H G I E...</td>\n",
       "    </tr>\n",
       "    <tr>\n",
       "      <th>264584</th>\n",
       "      <td>29999723.0</td>\n",
       "      <td>[H D D H G J G F]</td>\n",
       "    </tr>\n",
       "    <tr>\n",
       "      <th>264585</th>\n",
       "      <td>29999745.0</td>\n",
       "      <td>[I C F J C J G C]</td>\n",
       "    </tr>\n",
       "    <tr>\n",
       "      <th>264586</th>\n",
       "      <td>29999809.0</td>\n",
       "      <td>[F C A I D I E E, A D A I C I C F, A D A H B I...</td>\n",
       "    </tr>\n",
       "  </tbody>\n",
       "</table>\n",
       "<p>264587 rows × 2 columns</p>\n",
       "</div>"
      ],
      "text/plain": [
       "           hadm_id                                               nstr\n",
       "0       20000019.0  [D E A D F C E J, H F B C E D E G, F D D E D B...\n",
       "1       20000024.0                                  [E E J G H F E B]\n",
       "2       20000034.0                 [D I J H H D D H, B I G I G E D D]\n",
       "3       20000041.0                 [F E D C E C G G, D E F C F B G G]\n",
       "4       20000057.0  [A E G D F I D F, I E A H G I C E, I E A J E J...\n",
       "...            ...                                                ...\n",
       "264582  29999625.0  [G C J J I J I I, H C J J I J I J, G C J H I J...\n",
       "264583  29999670.0  [G G F I H F D B, I G F I H E C B, I G H G I E...\n",
       "264584  29999723.0                                  [H D D H G J G F]\n",
       "264585  29999745.0                                  [I C F J C J G C]\n",
       "264586  29999809.0  [F C A I D I E E, A D A I C I C F, A D A H B I...\n",
       "\n",
       "[264587 rows x 2 columns]"
      ]
     },
     "execution_count": 8,
     "metadata": {},
     "output_type": "execute_result"
    }
   ],
   "source": [
    "grouped_mrl"
   ]
  },
  {
   "cell_type": "markdown",
   "id": "4e60e574",
   "metadata": {},
   "source": [
    "### Tokenize"
   ]
  },
  {
   "cell_type": "code",
   "execution_count": 9,
   "id": "0e823b9c",
   "metadata": {},
   "outputs": [],
   "source": [
    "vocab_list = mrl['nstr'].str.split(' ').explode().unique().tolist()\n",
    "\n",
    "# Set special tokens:\n",
    "# if length of vocab_list is less than 100, then use the default special tokens\n",
    "if len(vocab_list) < 100:\n",
    "    special_tokens = {0: '[PAD]', len(vocab_list)+1: '[CLS]', len(vocab_list)+2: '[SEP]', len(vocab_list)+3: '[MASK]'}\n",
    "else:\n",
    "    special_tokens = {0: '[PAD]', 101: '[CLS]', 102: '[SEP]', 103: '[MASK]'}\n",
    "    \n",
    "special_tokens_positions = {value: key for key, value in special_tokens.items()}\n",
    "\n",
    "tokenizer = CustomBertTokenizer.create_bert_tokenizer(vocab_list, special_tokens=special_tokens)"
   ]
  },
  {
   "cell_type": "code",
   "execution_count": 10,
   "id": "cd61554d",
   "metadata": {},
   "outputs": [],
   "source": [
    "text = grouped_mrl['nstr'].apply(lambda x: ' [SEP] '.join(x)).tolist()\n",
    "train, test = random_train_test_split(text)"
   ]
  },
  {
   "cell_type": "code",
   "execution_count": 11,
   "id": "76d7a656",
   "metadata": {},
   "outputs": [],
   "source": [
    "train_inputs = tokenizer(train, return_tensors='pt', max_length=100, truncation=True, padding='max_length')\n",
    "\n",
    "test_inputs = tokenizer(test, return_tensors='pt', max_length=100, truncation=True, padding='max_length')"
   ]
  },
  {
   "cell_type": "markdown",
   "id": "09b13325",
   "metadata": {},
   "source": [
    "### Dataset Perparation"
   ]
  },
  {
   "cell_type": "code",
   "execution_count": 12,
   "id": "ab071ca4",
   "metadata": {},
   "outputs": [],
   "source": [
    "train_inputs, test_inputs = set_labels_features(train_inputs, test_inputs, parcentage=MASKING, CLS=special_tokens_positions['[CLS]'], SEP=special_tokens_positions['[SEP]'], PAD=0, MASK=special_tokens_positions['[MASK]'])"
   ]
  },
  {
   "cell_type": "code",
   "execution_count": 13,
   "id": "5322de6f",
   "metadata": {},
   "outputs": [],
   "source": [
    "train_dataset = LabValuesDataset(train_inputs)\n",
    "test_dataset = LabValuesDataset(test_inputs)"
   ]
  },
  {
   "cell_type": "code",
   "execution_count": 14,
   "id": "7152260e",
   "metadata": {},
   "outputs": [],
   "source": [
    "train_loader = torch.utils.data.DataLoader(train_dataset, batch_size=16, shuffle=True, num_workers=1)\n",
    "test_loader = torch.utils.data.DataLoader(test_dataset, batch_size=16, shuffle=True, num_workers=1)"
   ]
  },
  {
   "cell_type": "markdown",
   "id": "541e60cb",
   "metadata": {},
   "source": [
    "### Model"
   ]
  },
  {
   "cell_type": "code",
   "execution_count": 15,
   "id": "2960c468",
   "metadata": {},
   "outputs": [
    {
     "name": "stderr",
     "output_type": "stream",
     "text": [
      "Some weights of the model checkpoint at bert-base-uncased were not used when initializing BertForMaskedLM: ['bert.pooler.dense.bias', 'cls.seq_relationship.bias', 'cls.seq_relationship.weight', 'bert.pooler.dense.weight']\n",
      "- This IS expected if you are initializing BertForMaskedLM from the checkpoint of a model trained on another task or with another architecture (e.g. initializing a BertForSequenceClassification model from a BertForPreTraining model).\n",
      "- This IS NOT expected if you are initializing BertForMaskedLM from the checkpoint of a model that you expect to be exactly identical (initializing a BertForSequenceClassification model from a BertForSequenceClassification model).\n"
     ]
    },
    {
     "name": "stdout",
     "output_type": "stream",
     "text": [
      "Using 2 GPUs!\n"
     ]
    }
   ],
   "source": [
    "from torch import nn\n",
    "\n",
    "model = BertForMaskedLM.from_pretrained('bert-base-uncased')\n",
    "model.resize_token_embeddings(len(tokenizer))\n",
    "# and move our model over to the selected device\n",
    "model.to(device)\n",
    "\n",
    "# Use DataParallel to parallelize the model across multiple GPUs\n",
    "if torch.cuda.device_count() > 1:\n",
    "    print(\"Using\", torch.cuda.device_count(), \"GPUs!\")\n",
    "    #model = nn.DataParallel(model, [0,1])"
   ]
  },
  {
   "cell_type": "markdown",
   "id": "4f7f2e3d",
   "metadata": {},
   "source": [
    "### Training"
   ]
  },
  {
   "cell_type": "code",
   "execution_count": 16,
   "id": "cd80a416",
   "metadata": {},
   "outputs": [
    {
     "name": "stderr",
     "output_type": "stream",
     "text": [
      "/home/opc/anaconda3/envs/labrador/lib/python3.9/site-packages/transformers/optimization.py:411: FutureWarning: This implementation of AdamW is deprecated and will be removed in a future version. Use the PyTorch implementation torch.optim.AdamW instead, or set `no_deprecation_warning=True` to disable this warning\n",
      "  warnings.warn(\n",
      "  0%|          | 0/13230 [00:00<?, ?it/s]/home/opc/Labrador/src/dataset.py:56: UserWarning: To copy construct from a tensor, it is recommended to use sourceTensor.clone().detach() or sourceTensor.clone().detach().requires_grad_(True), rather than torch.tensor(sourceTensor).\n",
      "  return {key: torch.tensor(val[idx]) for key, val in self.encodings.items()}\n",
      "Epoch 0: 100%|██████████| 13230/13230 [32:55<00:00,  6.70it/s, loss=0.0821]\n",
      "  0%|          | 0/3308 [00:00<?, ?it/s]/home/opc/Labrador/src/dataset.py:56: UserWarning: To copy construct from a tensor, it is recommended to use sourceTensor.clone().detach() or sourceTensor.clone().detach().requires_grad_(True), rather than torch.tensor(sourceTensor).\n",
      "  return {key: torch.tensor(val[idx]) for key, val in self.encodings.items()}\n",
      "Epoch 0 (Eval): 100%|██████████| 3308/3308 [02:41<00:00, 20.43it/s, loss=0.0781]\n",
      "  0%|          | 0/13230 [00:00<?, ?it/s]/home/opc/Labrador/src/dataset.py:56: UserWarning: To copy construct from a tensor, it is recommended to use sourceTensor.clone().detach() or sourceTensor.clone().detach().requires_grad_(True), rather than torch.tensor(sourceTensor).\n",
      "  return {key: torch.tensor(val[idx]) for key, val in self.encodings.items()}\n",
      "Epoch 1: 100%|██████████| 13230/13230 [32:57<00:00,  6.69it/s, loss=0.0712]\n",
      "  0%|          | 0/3308 [00:00<?, ?it/s]/home/opc/Labrador/src/dataset.py:56: UserWarning: To copy construct from a tensor, it is recommended to use sourceTensor.clone().detach() or sourceTensor.clone().detach().requires_grad_(True), rather than torch.tensor(sourceTensor).\n",
      "  return {key: torch.tensor(val[idx]) for key, val in self.encodings.items()}\n",
      "Epoch 1 (Eval): 100%|██████████| 3308/3308 [02:42<00:00, 20.38it/s, loss=0.0629]\n"
     ]
    },
    {
     "data": {
      "image/png": "[encoded data removed]",
      "text/plain": [
       "<Figure size 640x480 with 1 Axes>"
      ]
     },
     "metadata": {},
     "output_type": "display_data"
    }
   ],
   "source": [
    "train_mlm(model, train_loader, test_loader, device, tokenizer)"
   ]
  },
  {
   "cell_type": "markdown",
   "id": "c3710a9e",
   "metadata": {},
   "source": [
    "### Load model"
   ]
  },
  {
   "cell_type": "code",
   "execution_count": 17,
   "id": "01ccdb8a",
   "metadata": {},
   "outputs": [
    {
     "name": "stderr",
     "output_type": "stream",
     "text": [
      "The tokenizer class you load from this checkpoint is not the same type as the class this function is called from. It may result in unexpected tokenization. \n",
      "The tokenizer class you load from this checkpoint is 'CustomBertTokenizer'. \n",
      "The class this function is called from is 'BertTokenizer'.\n"
     ]
    }
   ],
   "source": [
    "model, tokenizer = load_model(model_path=\"model/\", tokenizer_path=\"tokenizer/\")"
   ]
  },
  {
   "cell_type": "markdown",
   "id": "bb57f5bd",
   "metadata": {},
   "source": [
    "### Generate embeddings"
   ]
  },
  {
   "cell_type": "code",
   "execution_count": 18,
   "id": "9872984d",
   "metadata": {},
   "outputs": [
    {
     "name": "stderr",
     "output_type": "stream",
     "text": [
      "Asking to truncate to max_length but no maximum length is provided and the model has no predefined maximum length. Default to no truncation.\n"
     ]
    },
    {
     "name": "stdout",
     "output_type": "stream",
     "text": [
      "Embeddings Shape: (2, 16, 768)\n",
      "[[[ 0.64982677 -0.10566206 -1.0763104  ... -0.884716   -0.23258324\n",
      "    0.3124034 ]\n",
      "  [ 0.20932955  0.26388958 -0.00180858 ...  0.7378236  -0.09827505\n",
      "    0.77728575]\n",
      "  [-0.68087924 -0.04652615 -0.36006537 ...  0.4278307  -0.20046653\n",
      "    0.08136436]\n",
      "  ...\n",
      "  [-0.5111801  -0.31203678 -0.07627459 ...  0.15283796  0.09480215\n",
      "    0.6543326 ]\n",
      "  [ 0.21486    -0.07867875  0.20442484 ...  0.12487031 -0.2093614\n",
      "   -0.65634257]\n",
      "  [-0.03488328  0.68275726  0.32366392 ... -0.23264171  1.1548079\n",
      "    0.15274379]]\n",
      "\n",
      " [[ 0.63117355 -0.12590797 -1.0669001  ... -0.85015893 -0.24791034\n",
      "    0.3324585 ]\n",
      "  [ 0.338554    0.12149534 -0.15336841 ...  0.74225736 -0.0997276\n",
      "    0.6860133 ]\n",
      "  [-0.29411113 -0.27056044 -0.42256898 ...  0.7843338  -0.27316344\n",
      "    0.03977393]\n",
      "  ...\n",
      "  [-0.2664884   0.14758384  0.2668739  ... -0.05765764 -0.01213734\n",
      "    0.1373523 ]\n",
      "  [-0.19465515  0.19953074  0.2297203  ... -0.07089382 -0.04656379\n",
      "    0.10606101]\n",
      "  [-0.12357531  0.1829904   0.25476268 ... -0.0157154  -0.02435275\n",
      "   -0.09623281]]]\n"
     ]
    }
   ],
   "source": [
    "texts_to_embed = [\"Bic BicAS Crt CrtC Pot PotR Sod SodBI Ure UreG Hgb HgbAQ Plt PltH\", \"Bic BicBD Crt CrtB Pot PotX\"]\n",
    "\n",
    "embeddings = get_embeddings(model, tokenizer, texts_to_embed)\n",
    "print(\"Embeddings Shape:\", embeddings.shape)\n",
    "print(embeddings)"
   ]
  },
  {
   "cell_type": "markdown",
   "id": "47436eae",
   "metadata": {},
   "source": [
    "### Model to Hugging Face"
   ]
  },
  {
   "cell_type": "code",
   "execution_count": 20,
   "id": "16a75496",
   "metadata": {},
   "outputs": [
    {
     "data": {
      "application/vnd.jupyter.widget-view+json": {
       "model_id": "eac0cf70fc524972a9bc6ac6e6742711",
       "version_major": 2,
       "version_minor": 0
      },
      "text/plain": [
       "VBox(children=(HTML(value='<center> <img\\nsrc=https://huggingface.co/front/assets/huggingface_logo-noborder.sv…"
      ]
     },
     "metadata": {},
     "output_type": "display_data"
    }
   ],
   "source": [
    "from huggingface_hub import notebook_login\n",
    "\n",
    "notebook_login()"
   ]
  },
  {
   "cell_type": "code",
   "execution_count": 21,
   "id": "8f18b369",
   "metadata": {},
   "outputs": [
    {
     "data": {
      "application/vnd.jupyter.widget-view+json": {
       "model_id": "5357ac9222ef48cab0a840a369ce2376",
       "version_major": 2,
       "version_minor": 0
      },
      "text/plain": [
       "model.safetensors:   0%|          | 0.00/344M [00:00<?, ?B/s]"
      ]
     },
     "metadata": {},
     "output_type": "display_data"
    }
   ],
   "source": [
    "model.push_to_hub(\"dsrestrepo/BERT_Lab_Values_10B_no_lab_id_no_repetition\")\n",
    "tokenizer.push_to_hub('dsrestrepo/BERT_Lab_Values_10B_no_lab_id_no_repetition')"
   ]
  },
  {
   "cell_type": "code",
   "execution_count": null,
   "id": "ed08b65f",
   "metadata": {},
   "outputs": [],
   "source": []
  }
 ],
 "metadata": {
  "kernelspec": {
   "display_name": "labrador",
   "language": "python",
   "name": "python3"
  },
  "language_info": {
   "codemirror_mode": {
    "name": "ipython",
    "version": 3
   },
   "file_extension": ".py",
   "mimetype": "text/x-python",
   "name": "python",
   "nbconvert_exporter": "python",
   "pygments_lexer": "ipython3",
   "version": "3.9.18"
  }
 },
 "nbformat": 4,
 "nbformat_minor": 5
}
