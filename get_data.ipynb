{
 "cells": [
  {
   "cell_type": "markdown",
   "metadata": {},
   "source": [
    "### Set up environment"
   ]
  },
  {
   "cell_type": "code",
   "execution_count": 1,
   "metadata": {},
   "outputs": [],
   "source": [
    "from src.get_data import get_df"
   ]
  },
  {
   "cell_type": "markdown",
   "metadata": {},
   "source": [
    "### Run the Query"
   ]
  },
  {
   "cell_type": "code",
   "execution_count": 2,
   "metadata": {},
   "outputs": [],
   "source": [
    "# Write the SQL query\n",
    "\n",
    "## Morning lab values\n",
    "# From MIMIC-IV database in the table `physionet-data.mimiciv_hosp.labevents`\n",
    "# The lab values are selected from the following itemids:\n",
    "# 50912, 51265, 51222, 51301, 51006, 50983, 50882, 50971\n",
    "# The lab values are selected from the following hours: 5 - 8 am\n",
    "\n",
    "query = \"\"\"\n",
    "WITH cohort AS (\n",
    "  SELECT\n",
    "    hadm_id,\n",
    "    subject_id,\n",
    "    itemid,\n",
    "    charttime,\n",
    "    EXTRACT(HOUR FROM charttime) AS charthour,\n",
    "    storetime,\n",
    "    EXTRACT(HOUR FROM storetime) AS storehour,\n",
    "    EXTRACT(DATE FROM charttime) AS chartday,\n",
    "    valuenum\n",
    "  FROM\n",
    "    `physionet-data.mimiciv_hosp.labevents`\n",
    "  WHERE EXTRACT(HOUR FROM charttime) BETWEEN 5 AND 8\n",
    "    AND itemid IN (50912, 51265, 51222, 51301, 51006, 50983, 50882, 50971)\n",
    "),\n",
    "patdailycnt AS (\n",
    "  SELECT\n",
    "    subject_id,\n",
    "    chartday,\n",
    "    COUNT(DISTINCT itemid) AS cnt\n",
    "  FROM cohort where SAFE_CAST(valuenum AS FLOAT64) IS NOT NULL AND valuenum IS NOT NULL\n",
    "  GROUP BY subject_id, chartday\n",
    ")\n",
    "  SELECT cohort.*,patdailycnt.cnt\n",
    "  FROM cohort\n",
    "  RIGHT JOIN patdailycnt\n",
    "  ON cohort.subject_id = patdailycnt.subject_id AND cohort.chartday = patdailycnt.chartday\n",
    "  WHERE patdailycnt.cnt = 8\n",
    "\n",
    "\"\"\""
   ]
  },
  {
   "cell_type": "code",
   "execution_count": null,
   "metadata": {},
   "outputs": [],
   "source": [
    "df = get_df(query, save_csv=True, csv_name=\"morning_lab_values.csv\")"
   ]
  },
  {
   "cell_type": "code",
   "execution_count": null,
   "metadata": {},
   "outputs": [],
   "source": []
  }
 ],
 "metadata": {
  "kernelspec": {
   "display_name": "Python [conda env:labrador_v0_0_1]",
   "language": "python",
   "name": "conda-env-labrador_v0_0_1-py"
  },
  "language_info": {
   "codemirror_mode": {
    "name": "ipython",
    "version": 3
   },
   "file_extension": ".py",
   "mimetype": "text/x-python",
   "name": "python",
   "nbconvert_exporter": "python",
   "pygments_lexer": "ipython3",
   "version": "3.8.17"
  }
 },
 "nbformat": 4,
 "nbformat_minor": 4
}
