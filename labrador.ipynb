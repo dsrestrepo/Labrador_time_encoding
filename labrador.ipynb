{
 "cells": [
  {
   "cell_type": "markdown",
   "id": "3594e220",
   "metadata": {},
   "source": [
    "### Labrador Embeddings"
   ]
  },
  {
   "cell_type": "code",
   "execution_count": 1,
   "id": "c8438363",
   "metadata": {},
   "outputs": [],
   "source": [
    "import pandas as pd\n",
    "import torch\n",
    "import numpy as np\n",
    "import torch.nn as nn\n",
    "\n",
    "from src.preprocessing import preprocess_df, TextEncoder, set_labels_features\n",
    "from sklearn.model_selection import train_test_split\n",
    "\n",
    "from src.labrador import Labrador\n",
    "from src.tokenizers import LabradorTokenizer\n",
    "from src.dataset import LabradorDataset\n",
    "\n",
    "from src.train import train_labrador"
   ]
  },
  {
   "cell_type": "markdown",
   "id": "839103a9",
   "metadata": {},
   "source": [
    "### Constants"
   ]
  },
  {
   "cell_type": "code",
   "execution_count": 2,
   "id": "22c6e50c",
   "metadata": {},
   "outputs": [],
   "source": [
    "# Dataset:\n",
    "FILE = 'data/morning_lab_values.csv'\n",
    "COLUMNS = ['Bic', 'Crt', 'Pot', 'Sod', 'Ure', 'Hgb', 'Plt', 'Wbc']\n",
    "\n",
    "# Device:\n",
    "device = torch.device('cuda') if torch.cuda.is_available() else torch.device('cpu')\n",
    "# device = torch.device('mps') if torch.cuda.is_available() else torch.device('cpu') # Apple Silicon\n",
    "\n",
    "# Data loader: \n",
    "test_size = 0.2\n",
    "batch_size = 64\n",
    "num_workers = 4\n",
    "max_len = 10\n",
    "MASKING = 0.20\n",
    "\n",
    "# Model:\n",
    "embedding_dim = 756\n",
    "hidden_dim = 756\n",
    "transformer_heads = 12\n",
    "num_blocks = 12\n",
    "transformer_feedforward_dim = 3072\n",
    "dropout_rate = 0.1\n",
    "continuous_head_activation = 'relu'\n",
    "\n",
    "# Training:\n",
    "optimizer = 'Adam'\n",
    "num_epochs = 15\n",
    "save_model = True\n",
    "model_path = 'labrador_model.pth'\n"
   ]
  },
  {
   "cell_type": "markdown",
   "id": "3b42aeb9",
   "metadata": {},
   "source": [
    "### Read dataset"
   ]
  },
  {
   "cell_type": "code",
   "execution_count": 3,
   "id": "50ea9b69",
   "metadata": {},
   "outputs": [
    {
     "data": {
      "text/html": [
       "<div>\n",
       "<style scoped>\n",
       "    .dataframe tbody tr th:only-of-type {\n",
       "        vertical-align: middle;\n",
       "    }\n",
       "\n",
       "    .dataframe tbody tr th {\n",
       "        vertical-align: top;\n",
       "    }\n",
       "\n",
       "    .dataframe thead th {\n",
       "        text-align: right;\n",
       "    }\n",
       "</style>\n",
       "<table border=\"1\" class=\"dataframe\">\n",
       "  <thead>\n",
       "    <tr style=\"text-align: right;\">\n",
       "      <th></th>\n",
       "      <th>hadm_id</th>\n",
       "      <th>subject_id</th>\n",
       "      <th>itemid</th>\n",
       "      <th>charttime</th>\n",
       "      <th>charthour</th>\n",
       "      <th>storetime</th>\n",
       "      <th>storehour</th>\n",
       "      <th>chartday</th>\n",
       "      <th>valuenum</th>\n",
       "      <th>cnt</th>\n",
       "    </tr>\n",
       "  </thead>\n",
       "  <tbody>\n",
       "    <tr>\n",
       "      <th>0</th>\n",
       "      <td>NaN</td>\n",
       "      <td>10312413</td>\n",
       "      <td>51222</td>\n",
       "      <td>2173-06-05 08:20:00</td>\n",
       "      <td>8</td>\n",
       "      <td>2173-06-05 08:47:00</td>\n",
       "      <td>8</td>\n",
       "      <td>2173-06-05</td>\n",
       "      <td>12.8</td>\n",
       "      <td>8</td>\n",
       "    </tr>\n",
       "    <tr>\n",
       "      <th>1</th>\n",
       "      <td>25669789.0</td>\n",
       "      <td>10390828</td>\n",
       "      <td>51222</td>\n",
       "      <td>2181-10-26 07:55:00</td>\n",
       "      <td>7</td>\n",
       "      <td>2181-10-26 08:46:00</td>\n",
       "      <td>8</td>\n",
       "      <td>2181-10-26</td>\n",
       "      <td>9.4</td>\n",
       "      <td>8</td>\n",
       "    </tr>\n",
       "    <tr>\n",
       "      <th>2</th>\n",
       "      <td>26646522.0</td>\n",
       "      <td>10447634</td>\n",
       "      <td>51222</td>\n",
       "      <td>2165-03-07 06:55:00</td>\n",
       "      <td>6</td>\n",
       "      <td>2165-03-07 07:23:00</td>\n",
       "      <td>7</td>\n",
       "      <td>2165-03-07</td>\n",
       "      <td>11.1</td>\n",
       "      <td>8</td>\n",
       "    </tr>\n",
       "    <tr>\n",
       "      <th>3</th>\n",
       "      <td>27308928.0</td>\n",
       "      <td>10784877</td>\n",
       "      <td>51222</td>\n",
       "      <td>2170-05-11 06:00:00</td>\n",
       "      <td>6</td>\n",
       "      <td>2170-05-11 06:43:00</td>\n",
       "      <td>6</td>\n",
       "      <td>2170-05-11</td>\n",
       "      <td>10.3</td>\n",
       "      <td>8</td>\n",
       "    </tr>\n",
       "    <tr>\n",
       "      <th>4</th>\n",
       "      <td>28740988.0</td>\n",
       "      <td>11298819</td>\n",
       "      <td>51222</td>\n",
       "      <td>2142-09-13 07:15:00</td>\n",
       "      <td>7</td>\n",
       "      <td>2142-09-13 09:23:00</td>\n",
       "      <td>9</td>\n",
       "      <td>2142-09-13</td>\n",
       "      <td>10.2</td>\n",
       "      <td>8</td>\n",
       "    </tr>\n",
       "  </tbody>\n",
       "</table>\n",
       "</div>"
      ],
      "text/plain": [
       "      hadm_id  subject_id  itemid            charttime  charthour  \\\n",
       "0         NaN    10312413   51222  2173-06-05 08:20:00          8   \n",
       "1  25669789.0    10390828   51222  2181-10-26 07:55:00          7   \n",
       "2  26646522.0    10447634   51222  2165-03-07 06:55:00          6   \n",
       "3  27308928.0    10784877   51222  2170-05-11 06:00:00          6   \n",
       "4  28740988.0    11298819   51222  2142-09-13 07:15:00          7   \n",
       "\n",
       "             storetime  storehour    chartday  valuenum  cnt  \n",
       "0  2173-06-05 08:47:00          8  2173-06-05      12.8    8  \n",
       "1  2181-10-26 08:46:00          8  2181-10-26       9.4    8  \n",
       "2  2165-03-07 07:23:00          7  2165-03-07      11.1    8  \n",
       "3  2170-05-11 06:43:00          6  2170-05-11      10.3    8  \n",
       "4  2142-09-13 09:23:00          9  2142-09-13      10.2    8  "
      ]
     },
     "execution_count": 3,
     "metadata": {},
     "output_type": "execute_result"
    }
   ],
   "source": [
    "df = pd.read_csv(FILE)\n",
    "df.head()"
   ]
  },
  {
   "cell_type": "markdown",
   "id": "252ee2df",
   "metadata": {},
   "source": [
    "### Preprocessing"
   ]
  },
  {
   "cell_type": "code",
   "execution_count": 4,
   "id": "436ec03d",
   "metadata": {},
   "outputs": [],
   "source": [
    "# MinMaxScaler by default\n",
    "mrl = preprocess_df(df, columns_to_scale=COLUMNS)"
   ]
  },
  {
   "cell_type": "markdown",
   "id": "23ad4f82",
   "metadata": {},
   "source": [
    "### Generate Sequences"
   ]
  },
  {
   "cell_type": "code",
   "execution_count": 5,
   "id": "79463800",
   "metadata": {},
   "outputs": [],
   "source": [
    "# Generate the sequences:\n",
    "text_encoder = TextEncoder(Repetition_id=True, labs_as_num=True, return_lists=True)\n",
    "mrl, grouped_mrl = text_encoder.encode_text(mrl)"
   ]
  },
  {
   "cell_type": "code",
   "execution_count": 6,
   "id": "ce194bf8",
   "metadata": {},
   "outputs": [
    {
     "data": {
      "text/html": [
       "<div>\n",
       "<style scoped>\n",
       "    .dataframe tbody tr th:only-of-type {\n",
       "        vertical-align: middle;\n",
       "    }\n",
       "\n",
       "    .dataframe tbody tr th {\n",
       "        vertical-align: top;\n",
       "    }\n",
       "\n",
       "    .dataframe thead th {\n",
       "        text-align: right;\n",
       "    }\n",
       "</style>\n",
       "<table border=\"1\" class=\"dataframe\">\n",
       "  <thead>\n",
       "    <tr style=\"text-align: right;\">\n",
       "      <th>itemid</th>\n",
       "      <th>subject_id</th>\n",
       "      <th>hadm_id</th>\n",
       "      <th>chartday</th>\n",
       "      <th>Bic</th>\n",
       "      <th>Crt</th>\n",
       "      <th>Pot</th>\n",
       "      <th>Sod</th>\n",
       "      <th>Ure</th>\n",
       "      <th>Hgb</th>\n",
       "      <th>Plt</th>\n",
       "      <th>Wbc</th>\n",
       "      <th>nstr</th>\n",
       "      <th>lab_ids</th>\n",
       "      <th>lab_values</th>\n",
       "    </tr>\n",
       "  </thead>\n",
       "  <tbody>\n",
       "    <tr>\n",
       "      <th>0</th>\n",
       "      <td>10000032</td>\n",
       "      <td>22595853.0</td>\n",
       "      <td>2180-05-07</td>\n",
       "      <td>0.530612</td>\n",
       "      <td>0.007895</td>\n",
       "      <td>0.258621</td>\n",
       "      <td>0.609524</td>\n",
       "      <td>0.088028</td>\n",
       "      <td>0.585253</td>\n",
       "      <td>0.027731</td>\n",
       "      <td>0.004782</td>\n",
       "      <td>Bic 0.5306122448979591 Crt 0.00789473684210526...</td>\n",
       "      <td>[Bic, Crt, Pot, Sod, Ure, Hgb, Plt, Wbc]</td>\n",
       "      <td>[0.5306122448979591, 0.007894736842105262, 0.2...</td>\n",
       "    </tr>\n",
       "    <tr>\n",
       "      <th>1</th>\n",
       "      <td>10000032</td>\n",
       "      <td>22841357.0</td>\n",
       "      <td>2180-06-27</td>\n",
       "      <td>0.469388</td>\n",
       "      <td>0.007895</td>\n",
       "      <td>0.318966</td>\n",
       "      <td>0.504762</td>\n",
       "      <td>0.102113</td>\n",
       "      <td>0.571429</td>\n",
       "      <td>0.055462</td>\n",
       "      <td>0.007515</td>\n",
       "      <td>Bic 0.46938775510204084 Crt 0.0078947368421052...</td>\n",
       "      <td>[Bic, Crt, Pot, Sod, Ure, Hgb, Plt, Wbc]</td>\n",
       "      <td>[0.46938775510204084, 0.007894736842105262, 0....</td>\n",
       "    </tr>\n",
       "    <tr>\n",
       "      <th>2</th>\n",
       "      <td>10000032</td>\n",
       "      <td>25742920.0</td>\n",
       "      <td>2180-08-06</td>\n",
       "      <td>0.489796</td>\n",
       "      <td>0.015789</td>\n",
       "      <td>0.413793</td>\n",
       "      <td>0.504762</td>\n",
       "      <td>0.130282</td>\n",
       "      <td>0.557604</td>\n",
       "      <td>0.053782</td>\n",
       "      <td>0.008539</td>\n",
       "      <td>Bic 0.48979591836734687 Crt 0.0157894736842105...</td>\n",
       "      <td>[Bic, Crt, Pot, Sod, Ure, Hgb, Plt, Wbc]</td>\n",
       "      <td>[0.48979591836734687, 0.015789473684210523, 0....</td>\n",
       "    </tr>\n",
       "  </tbody>\n",
       "</table>\n",
       "</div>"
      ],
      "text/plain": [
       "itemid  subject_id     hadm_id    chartday       Bic       Crt       Pot  \\\n",
       "0         10000032  22595853.0  2180-05-07  0.530612  0.007895  0.258621   \n",
       "1         10000032  22841357.0  2180-06-27  0.469388  0.007895  0.318966   \n",
       "2         10000032  25742920.0  2180-08-06  0.489796  0.015789  0.413793   \n",
       "\n",
       "itemid       Sod       Ure       Hgb       Plt       Wbc  \\\n",
       "0       0.609524  0.088028  0.585253  0.027731  0.004782   \n",
       "1       0.504762  0.102113  0.571429  0.055462  0.007515   \n",
       "2       0.504762  0.130282  0.557604  0.053782  0.008539   \n",
       "\n",
       "itemid                                               nstr  \\\n",
       "0       Bic 0.5306122448979591 Crt 0.00789473684210526...   \n",
       "1       Bic 0.46938775510204084 Crt 0.0078947368421052...   \n",
       "2       Bic 0.48979591836734687 Crt 0.0157894736842105...   \n",
       "\n",
       "itemid                                   lab_ids  \\\n",
       "0       [Bic, Crt, Pot, Sod, Ure, Hgb, Plt, Wbc]   \n",
       "1       [Bic, Crt, Pot, Sod, Ure, Hgb, Plt, Wbc]   \n",
       "2       [Bic, Crt, Pot, Sod, Ure, Hgb, Plt, Wbc]   \n",
       "\n",
       "itemid                                         lab_values  \n",
       "0       [0.5306122448979591, 0.007894736842105262, 0.2...  \n",
       "1       [0.46938775510204084, 0.007894736842105262, 0....  \n",
       "2       [0.48979591836734687, 0.015789473684210523, 0....  "
      ]
     },
     "execution_count": 6,
     "metadata": {},
     "output_type": "execute_result"
    }
   ],
   "source": [
    "mrl.head(3)"
   ]
  },
  {
   "cell_type": "code",
   "execution_count": 7,
   "id": "feaf927d",
   "metadata": {},
   "outputs": [
    {
     "data": {
      "text/html": [
       "<div>\n",
       "<style scoped>\n",
       "    .dataframe tbody tr th:only-of-type {\n",
       "        vertical-align: middle;\n",
       "    }\n",
       "\n",
       "    .dataframe tbody tr th {\n",
       "        vertical-align: top;\n",
       "    }\n",
       "\n",
       "    .dataframe thead th {\n",
       "        text-align: right;\n",
       "    }\n",
       "</style>\n",
       "<table border=\"1\" class=\"dataframe\">\n",
       "  <thead>\n",
       "    <tr style=\"text-align: right;\">\n",
       "      <th></th>\n",
       "      <th>hadm_id</th>\n",
       "      <th>nstr</th>\n",
       "      <th>lab_ids</th>\n",
       "      <th>lab_values</th>\n",
       "    </tr>\n",
       "  </thead>\n",
       "  <tbody>\n",
       "    <tr>\n",
       "      <th>0</th>\n",
       "      <td>20000019.0</td>\n",
       "      <td>[Bic 0.4489795918367347 Crt 0.0289473684210526...</td>\n",
       "      <td>[Bic, Crt, Pot, Sod, Ure, Hgb, Plt, Wbc]</td>\n",
       "      <td>[0.4489795918367347, 0.02894736842105263, 0.17...</td>\n",
       "    </tr>\n",
       "    <tr>\n",
       "      <th>1</th>\n",
       "      <td>20000024.0</td>\n",
       "      <td>[Bic 0.46938775510204084 Crt 0.028947368421052...</td>\n",
       "      <td>[Bic, Crt, Pot, Sod, Ure, Hgb, Plt, Wbc]</td>\n",
       "      <td>[0.46938775510204084, 0.02894736842105263, 0.3...</td>\n",
       "    </tr>\n",
       "    <tr>\n",
       "      <th>2</th>\n",
       "      <td>20000034.0</td>\n",
       "      <td>[Bic 0.4489795918367347 Crt 0.0605263157894736...</td>\n",
       "      <td>[Bic, Crt, Pot, Sod, Ure, Hgb, Plt, Wbc]</td>\n",
       "      <td>[0.4489795918367347, 0.06052631578947368, 0.28...</td>\n",
       "    </tr>\n",
       "  </tbody>\n",
       "</table>\n",
       "</div>"
      ],
      "text/plain": [
       "      hadm_id                                               nstr  \\\n",
       "0  20000019.0  [Bic 0.4489795918367347 Crt 0.0289473684210526...   \n",
       "1  20000024.0  [Bic 0.46938775510204084 Crt 0.028947368421052...   \n",
       "2  20000034.0  [Bic 0.4489795918367347 Crt 0.0605263157894736...   \n",
       "\n",
       "                                    lab_ids  \\\n",
       "0  [Bic, Crt, Pot, Sod, Ure, Hgb, Plt, Wbc]   \n",
       "1  [Bic, Crt, Pot, Sod, Ure, Hgb, Plt, Wbc]   \n",
       "2  [Bic, Crt, Pot, Sod, Ure, Hgb, Plt, Wbc]   \n",
       "\n",
       "                                          lab_values  \n",
       "0  [0.4489795918367347, 0.02894736842105263, 0.17...  \n",
       "1  [0.46938775510204084, 0.02894736842105263, 0.3...  \n",
       "2  [0.4489795918367347, 0.06052631578947368, 0.28...  "
      ]
     },
     "execution_count": 7,
     "metadata": {},
     "output_type": "execute_result"
    }
   ],
   "source": [
    "# See the largest element in: \n",
    "grouped_mrl.head(3)"
   ]
  },
  {
   "cell_type": "markdown",
   "id": "7f92fa35",
   "metadata": {},
   "source": [
    "#### Train and Test Split"
   ]
  },
  {
   "cell_type": "code",
   "execution_count": 8,
   "id": "02b3f7d9",
   "metadata": {},
   "outputs": [],
   "source": [
    "lab_ids = grouped_mrl.lab_ids.values\n",
    "lab_values = grouped_mrl.lab_values.values\n",
    "\n",
    "lab_ids_train, lab_ids_test, lab_values_train, lab_values_test = train_test_split(lab_ids, lab_values, test_size=test_size, random_state=42)"
   ]
  },
  {
   "cell_type": "markdown",
   "id": "1b42ae57",
   "metadata": {},
   "source": [
    "#### Tokenize"
   ]
  },
  {
   "cell_type": "code",
   "execution_count": 9,
   "id": "a5da3a70",
   "metadata": {},
   "outputs": [],
   "source": [
    "tokenizer = LabradorTokenizer()\n",
    "# Get unique lab ids:\n",
    "unique_ids = set(np.concatenate(lab_ids_train))\n",
    "# train the tokenizer:\n",
    "tokenizer.train(unique_ids)"
   ]
  },
  {
   "cell_type": "code",
   "execution_count": 10,
   "id": "ab6ff1fb",
   "metadata": {},
   "outputs": [
    {
     "data": {
      "text/plain": [
       "{'input_ids': array([[ 7,  0,  1,  3,  5,  4,  2,  6, 10, 10],\n",
       "        [ 7,  0,  1,  3,  5,  4,  2,  6, 10, 10],\n",
       "        [ 7,  0,  1,  3,  5,  4,  2,  6, 10, 10],\n",
       "        [ 7,  0,  1,  3,  5,  4,  2,  6, 10, 10],\n",
       "        [ 7,  0,  1,  3,  5,  4,  2,  6, 10, 10]]),\n",
       " 'continuous': array([[6.73469388e-01, 7.89473684e-02, 1.46551724e-01, 6.09523810e-01,\n",
       "         3.80281690e-01, 6.31336406e-01, 4.15966387e-02, 6.94523511e-03,\n",
       "         1.00000000e+01, 1.00000000e+01],\n",
       "        [6.12244898e-01, 2.89473684e-02, 1.37931034e-01, 7.04761905e-01,\n",
       "         9.85915493e-02, 3.50230415e-01, 7.85714286e-02, 1.04747808e-02,\n",
       "         1.00000000e+01, 1.00000000e+01],\n",
       "        [5.30612245e-01, 2.10526316e-02, 2.06896552e-01, 6.28571429e-01,\n",
       "         5.63380282e-02, 4.42396313e-01, 1.18067227e-01, 1.04747808e-02,\n",
       "         1.00000000e+01, 1.00000000e+01],\n",
       "        [4.48979592e-01, 1.84210526e-02, 2.32758621e-01, 6.28571429e-01,\n",
       "         3.16901408e-02, 6.77419355e-01, 1.07983193e-01, 1.04747808e-02,\n",
       "         1.00000000e+01, 1.00000000e+01],\n",
       "        [4.48979592e-01, 4.47368421e-02, 3.10344828e-01, 6.00000000e-01,\n",
       "         1.40845070e-01, 5.11520737e-01, 1.05462185e-01, 2.25435500e-02,\n",
       "         1.00000000e+01, 1.00000000e+01]]),\n",
       " 'attention_mask': array([[1, 1, 1, 1, 1, 1, 1, 1, 0, 0],\n",
       "        [1, 1, 1, 1, 1, 1, 1, 1, 0, 0],\n",
       "        [1, 1, 1, 1, 1, 1, 1, 1, 0, 0],\n",
       "        [1, 1, 1, 1, 1, 1, 1, 1, 0, 0],\n",
       "        [1, 1, 1, 1, 1, 1, 1, 1, 0, 0]])}"
      ]
     },
     "execution_count": 10,
     "metadata": {},
     "output_type": "execute_result"
    }
   ],
   "source": [
    "# Example of how to use the tokenizer:\n",
    "tokenizer.tokenize_batch(lab_ids_train[:5], lab_values_train[:5], max_length=10)"
   ]
  },
  {
   "cell_type": "markdown",
   "id": "f4b7d54c",
   "metadata": {},
   "source": [
    "### Dataloader"
   ]
  },
  {
   "cell_type": "code",
   "execution_count": 11,
   "id": "62fbb38b",
   "metadata": {},
   "outputs": [
    {
     "name": "stdout",
     "output_type": "stream",
     "text": [
      "{'[MASK]': 8, '[NULL]': 9, '[PAD]': 10, 'Crt': 0, 'Pot': 1, 'Plt': 2, 'Sod': 3, 'Hgb': 4, 'Ure': 5, 'Wbc': 6, 'Bic': 7}\n",
      "{'[MASK]': 8, '[NULL]': 9, '[PAD]': 10, 'Crt': 0, 'Pot': 1, 'Plt': 2, 'Sod': 3, 'Hgb': 4, 'Ure': 5, 'Wbc': 6, 'Bic': 7}\n"
     ]
    }
   ],
   "source": [
    "dataset_train = LabradorDataset(continuous=lab_values_train, categorical=lab_ids_train, tokenizer=tokenizer, max_len=max_len, masking_prob=MASKING)\n",
    "dataset_test = LabradorDataset(continuous=lab_values_test, categorical=lab_ids_test, tokenizer=tokenizer, max_len=max_len, masking_prob=MASKING)\n",
    "\n",
    "# Dataloader:\n",
    "train_loader = torch.utils.data.DataLoader(dataset_train, batch_size=batch_size, shuffle=True, num_workers=num_workers)\n",
    "test_loader = torch.utils.data.DataLoader(dataset_test, batch_size=batch_size, shuffle=True, num_workers=num_workers)"
   ]
  },
  {
   "cell_type": "markdown",
   "id": "8c6c9123",
   "metadata": {},
   "source": [
    "### Model"
   ]
  },
  {
   "cell_type": "code",
   "execution_count": 12,
   "id": "d5ed51c1",
   "metadata": {},
   "outputs": [],
   "source": [
    "mask_token = tokenizer.mask_token #-1\n",
    "null_token = tokenizer.null_token #-2\n",
    "pad_token = tokenizer.pad_token #-3\n",
    "vocab_size = tokenizer.vocab_size()"
   ]
  },
  {
   "cell_type": "code",
   "execution_count": 13,
   "id": "624cbd1b",
   "metadata": {},
   "outputs": [
    {
     "data": {
      "text/plain": [
       "Labrador(\n",
       "  (categorical_embedding_layer): Embedding(14, 756)\n",
       "  (continuous_embedding_layer): ContinuousEmbedding(\n",
       "    (special_token_embeddings): Embedding(3, 756)\n",
       "    (dense1): Linear(in_features=1, out_features=756, bias=True)\n",
       "    (dense2): Linear(in_features=756, out_features=756, bias=True)\n",
       "    (layernorm): LayerNorm((756,), eps=1e-05, elementwise_affine=True)\n",
       "  )\n",
       "  (projection_layer): Linear(in_features=1512, out_features=756, bias=True)\n",
       "  (blocks): ModuleList(\n",
       "    (0-11): 12 x TransformerBlock(\n",
       "      (att): MultiheadAttention(\n",
       "        (out_proj): NonDynamicallyQuantizableLinear(in_features=756, out_features=756, bias=True)\n",
       "      )\n",
       "      (ffn): Sequential(\n",
       "        (0): Linear(in_features=756, out_features=3072, bias=True)\n",
       "        (1): ReLU()\n",
       "        (2): Linear(in_features=3072, out_features=756, bias=True)\n",
       "      )\n",
       "      (layernorm1): LayerNorm((756,), eps=1e-05, elementwise_affine=True)\n",
       "      (layernorm2): LayerNorm((756,), eps=1e-05, elementwise_affine=True)\n",
       "      (dropout1): Dropout(p=0.1, inplace=False)\n",
       "      (dropout2): Dropout(p=0.1, inplace=False)\n",
       "    )\n",
       "  )\n",
       "  (head): MLMPredictionHead(\n",
       "    (dense_categorical): Linear(in_features=756, out_features=756, bias=True)\n",
       "    (categorical_head): Linear(in_features=756, out_features=11, bias=True)\n",
       "    (dense_continuous): Linear(in_features=767, out_features=767, bias=True)\n",
       "    (continuous_head): Linear(in_features=767, out_features=1, bias=True)\n",
       "    (continuous_head_activation): ReLU()\n",
       "  )\n",
       ")"
      ]
     },
     "execution_count": 13,
     "metadata": {},
     "output_type": "execute_result"
    }
   ],
   "source": [
    "model = Labrador(mask_token=mask_token, pad_token=pad_token, null_token=null_token, vocab_size=vocab_size, embedding_dim=embedding_dim, transformer_heads=transformer_heads, num_blocks=num_blocks, transformer_feedforward_dim=transformer_feedforward_dim, include_head=True, continuous_head_activation=continuous_head_activation, dropout_rate=dropout_rate)\n",
    "model"
   ]
  },
  {
   "cell_type": "markdown",
   "id": "89fd4089",
   "metadata": {},
   "source": [
    "### Train the model"
   ]
  },
  {
   "cell_type": "code",
   "execution_count": 14,
   "id": "145b5fbe",
   "metadata": {},
   "outputs": [],
   "source": [
    "# Loss functions\n",
    "categorical_loss_fn = nn.CrossEntropyLoss()\n",
    "continuous_loss_fn = nn.MSELoss()  # We'll take the square root of this loss for RMSE"
   ]
  },
  {
   "cell_type": "code",
   "execution_count": 15,
   "id": "3f1eacdb",
   "metadata": {},
   "outputs": [
    {
     "name": "stderr",
     "output_type": "stream",
     "text": [
      "100%|██████████| 3308/3308 [04:14<00:00, 13.00it/s]\n",
      "  0%|          | 0/827 [00:00<?, ?it/s]/home/opc/anaconda3/envs/labrador/lib/python3.9/site-packages/torch/nn/modules/activation.py:1160: UserWarning: Converting mask without torch.bool dtype to bool; this will negatively affect performance. Prefer to use a boolean mask directly. (Triggered internally at ../aten/src/ATen/native/transformers/attention.cpp:150.)\n",
      "  return torch._native_multi_head_attention(\n",
      "100%|██████████| 827/827 [00:18<00:00, 44.18it/s]\n"
     ]
    },
    {
     "name": "stdout",
     "output_type": "stream",
     "text": [
      "Epoch 1/5, Training Loss: 2.714409710346139, Validation Loss: 2.714047341421697\n"
     ]
    },
    {
     "name": "stderr",
     "output_type": "stream",
     "text": [
      "100%|██████████| 3308/3308 [04:14<00:00, 12.97it/s]\n",
      "100%|██████████| 827/827 [00:18<00:00, 44.16it/s]\n"
     ]
    },
    {
     "name": "stdout",
     "output_type": "stream",
     "text": [
      "Epoch 2/5, Training Loss: 2.71342712265981, Validation Loss: 2.7135820155276353\n"
     ]
    },
    {
     "name": "stderr",
     "output_type": "stream",
     "text": [
      "100%|██████████| 3308/3308 [04:14<00:00, 13.02it/s]\n",
      "100%|██████████| 827/827 [00:18<00:00, 44.20it/s]\n"
     ]
    },
    {
     "name": "stdout",
     "output_type": "stream",
     "text": [
      "Epoch 3/5, Training Loss: 2.71328961078028, Validation Loss: 2.7143334255541394\n"
     ]
    },
    {
     "name": "stderr",
     "output_type": "stream",
     "text": [
      "100%|██████████| 3308/3308 [04:13<00:00, 13.02it/s]\n",
      "100%|██████████| 827/827 [00:18<00:00, 44.17it/s]\n"
     ]
    },
    {
     "name": "stdout",
     "output_type": "stream",
     "text": [
      "Epoch 4/5, Training Loss: 2.7135109137450915, Validation Loss: 2.7126136624683346\n"
     ]
    },
    {
     "name": "stderr",
     "output_type": "stream",
     "text": [
      "100%|██████████| 3308/3308 [04:14<00:00, 13.02it/s]\n",
      "100%|██████████| 827/827 [00:18<00:00, 44.12it/s]\n"
     ]
    },
    {
     "name": "stdout",
     "output_type": "stream",
     "text": [
      "Epoch 5/5, Training Loss: 2.713724775787132, Validation Loss: 2.7125895288575808\n"
     ]
    },
    {
     "data": {
      "image/png": "[encoded data removed]",
      "text/plain": [
       "<Figure size 1200x800 with 2 Axes>"
      ]
     },
     "metadata": {},
     "output_type": "display_data"
    }
   ],
   "source": [
    "# Train and validate the model\n",
    "trained_model = train_labrador(model, train_loader, test_loader, categorical_loss_fn, continuous_loss_fn, optimizer=optimizer, num_epochs=num_epochs, device=device, save_model=save_model, model_path=model_path)"
   ]
  },
  {
   "cell_type": "markdown",
   "id": "c88031f0",
   "metadata": {},
   "source": [
    "### Test the model"
   ]
  },
  {
   "cell_type": "code",
   "execution_count": 16,
   "id": "b58e682d",
   "metadata": {},
   "outputs": [
    {
     "name": "stdout",
     "output_type": "stream",
     "text": [
      "{'[MASK]': 8, '[NULL]': 9, '[PAD]': 10, 'Crt': 0, 'Pot': 1, 'Plt': 2, 'Sod': 3, 'Hgb': 4, 'Ure': 5, 'Wbc': 6, 'Bic': 7}\n"
     ]
    }
   ],
   "source": [
    "dataset_test = LabradorDataset(continuous=lab_values_test, categorical=lab_ids_test, tokenizer=tokenizer, max_len=max_len, masking_prob=0)\n",
    "# Dataloader:\n",
    "test_loader = torch.utils.data.DataLoader(dataset_test, batch_size=batch_size, shuffle=False, num_workers=num_workers)"
   ]
  },
  {
   "cell_type": "code",
   "execution_count": 59,
   "id": "c5bf2cab",
   "metadata": {},
   "outputs": [],
   "source": [
    "from tqdm import tqdm\n",
    "import torch\n",
    "from sklearn.metrics import mean_squared_error, mean_absolute_error, r2_score\n",
    "import numpy as np\n",
    "\n",
    "def test_model(model, test_loader, device, labs_list):\n",
    "    model.to(device)\n",
    "    model.eval()\n",
    "\n",
    "    metrics = {lab: {'rmse': [], 'mae': [], 'r2': []} for lab in labs_list}\n",
    "\n",
    "    with torch.no_grad():\n",
    "        for lab in labs_list:\n",
    "            print(f'Evaluating {lab}: ')\n",
    "            lab_token = test_loader.dataset.tokenizer.vocab[lab]\n",
    "\n",
    "            preds = []\n",
    "            true_vals = []\n",
    "            count = 0\n",
    "\n",
    "            for batch in tqdm(test_loader, leave=True):\n",
    "                lab_idx = (batch['input_ids'] == lab_token)\n",
    "                batch['continuous'][lab_idx] = torch.tensor(test_loader.dataset.tokenizer.mask_token, dtype=torch.float32, device=device)\n",
    "\n",
    "                input_ids = batch['input_ids'].to(device)\n",
    "                continuous = batch['continuous'].to(device)\n",
    "                attn_mask = batch['attention_mask'].to(device)\n",
    "                labels_continuous = batch['labels_continuous'].to(device)\n",
    "                \n",
    "                if count == 0:\n",
    "                    #print(f'Input ids: {input_ids}')\n",
    "                    #print(f'Continuous: {continuous}')\n",
    "                    #print(f'Attn mask: {attn_mask}')\n",
    "                    #print(f'Labels continuous: {labels_continuous}')\n",
    "                    pass\n",
    "\n",
    "                outputs = model(input_ids, continuous, attn_mask=attn_mask)\n",
    "                continuous_output = outputs['continuous_output'].squeeze(-1)\n",
    "                if count == 0:\n",
    "                    #print(f'Continuous output: {continuous_output}')\n",
    "                    pass\n",
    "\n",
    "                masked_cont_indices = (continuous == test_loader.dataset.tokenizer.mask_token).to(device)\n",
    "                batch_preds = continuous_output[masked_cont_indices]\n",
    "                batch_labels = labels_continuous[masked_cont_indices].to(device)\n",
    "\n",
    "                preds.extend(batch_preds.tolist())\n",
    "                true_vals.extend(batch_labels.tolist())\n",
    "                \n",
    "                if count == 0:\n",
    "                    print(f'Preds: {batch_preds.tolist()}')\n",
    "                    print(f'True vals: {batch_labels.tolist()}')\n",
    "                    count += 1\n",
    "\n",
    "            rmse = np.sqrt(mean_squared_error(true_vals, preds))\n",
    "            mae = mean_absolute_error(true_vals, preds)\n",
    "            r2 = r2_score(true_vals, preds)\n",
    "\n",
    "            metrics[lab]['rmse'].append(rmse)\n",
    "            metrics[lab]['mae'].append(mae)\n",
    "            metrics[lab]['r2'].append(r2)\n",
    "\n",
    "            print(f'RMSE: {rmse:.3f}')\n",
    "            print(f'MAE: {mae:.3f}')\n",
    "            print(f'R2: {r2:.3f}')\n",
    "            print('-------------------')\n",
    "\n",
    "    return metrics\n"
   ]
  },
  {
   "cell_type": "code",
   "execution_count": 60,
   "id": "9b2cb6ec",
   "metadata": {},
   "outputs": [
    {
     "name": "stdout",
     "output_type": "stream",
     "text": [
      "Evaluating Bic: \n"
     ]
    },
    {
     "name": "stderr",
     "output_type": "stream",
     "text": [
      "  0%|          | 0/827 [00:00<?, ?it/s]/home/opc/anaconda3/envs/labrador/lib/python3.9/site-packages/torch/nn/modules/activation.py:1160: UserWarning: Converting mask without torch.bool dtype to bool; this will negatively affect performance. Prefer to use a boolean mask directly. (Triggered internally at ../aten/src/ATen/native/transformers/attention.cpp:150.)\n",
      "  return torch._native_multi_head_attention(\n",
      "  1%|          | 5/827 [00:00<00:52, 15.57it/s]"
     ]
    },
    {
     "name": "stdout",
     "output_type": "stream",
     "text": [
      "Preds: [0.0, 0.0, 0.0, 0.0, 0.0, 0.0, 0.0, 0.0, 0.0, 0.0, 0.0, 0.0, 0.0, 0.0, 0.0, 0.0, 0.0, 0.0, 0.0, 0.0, 0.0, 0.0, 0.0, 0.0, 0.0, 0.0, 0.0, 0.0, 0.0, 0.0, 0.0, 0.0, 0.0, 0.0, 0.0, 0.0, 0.0, 0.0, 0.0, 0.0, 0.0, 0.0, 0.0, 0.0, 0.0, 0.0, 0.0, 0.0, 0.0, 0.0, 0.0, 0.0, 0.0, 0.0, 0.0, 0.0, 0.0, 0.0, 0.0, 0.0, 0.0, 0.0, 0.0, 0.0]\n",
      "True vals: [0.4285714328289032, 0.5306122303009033, 0.4897959232330322, 0.5102040767669678, 0.5714285969734192, 0.4693877696990967, 0.5102040767669678, 0.3877550959587097, 0.3469387888908386, 0.5102040767669678, 0.5306122303009033, 0.4897959232330322, 0.4285714328289032, 0.4285714328289032, 0.5510203838348389, 0.4285714328289032, 0.5102040767669678, 0.4693877696990967, 0.3877550959587097, 0.6326530575752258, 0.4285714328289032, 0.5510203838348389, 0.5102040767669678, 0.4897959232330322, 0.5918367505073547, 0.40816327929496765, 0.4693877696990967, 0.3469387888908386, 0.5306122303009033, 0.5102040767669678, 0.5306122303009033, 0.5918367505073547, 0.3877550959587097, 0.5306122303009033, 0.4897959232330322, 0.5306122303009033, 0.44897958636283875, 0.40816327929496765, 0.6326530575752258, 0.3877550959587097, 0.36734694242477417, 0.5306122303009033, 0.5102040767669678, 0.4897959232330322, 0.44897958636283875, 0.44897958636283875, 0.36734694242477417, 0.3877550959587097, 0.3877550959587097, 0.5306122303009033, 0.44897958636283875, 0.36734694242477417, 0.4897959232330322, 0.4285714328289032, 0.44897958636283875, 0.5510203838348389, 0.40816327929496765, 0.2857142984867096, 0.36734694242477417, 0.5102040767669678, 0.5918367505073547, 0.4897959232330322, 0.4285714328289032, 0.3877550959587097]\n"
     ]
    },
    {
     "name": "stderr",
     "output_type": "stream",
     "text": [
      "100%|██████████| 827/827 [00:18<00:00, 44.50it/s]\n"
     ]
    },
    {
     "name": "stdout",
     "output_type": "stream",
     "text": [
      "RMSE: 0.486\n",
      "MAE: 0.479\n",
      "R2: -37.309\n",
      "-------------------\n",
      "Evaluating Crt: \n"
     ]
    },
    {
     "name": "stderr",
     "output_type": "stream",
     "text": [
      "  0%|          | 0/827 [00:00<?, ?it/s]/home/opc/anaconda3/envs/labrador/lib/python3.9/site-packages/torch/nn/modules/activation.py:1160: UserWarning: Converting mask without torch.bool dtype to bool; this will negatively affect performance. Prefer to use a boolean mask directly. (Triggered internally at ../aten/src/ATen/native/transformers/attention.cpp:150.)\n",
      "  return torch._native_multi_head_attention(\n",
      "  1%|          | 6/827 [00:00<00:43, 19.05it/s]"
     ]
    },
    {
     "name": "stdout",
     "output_type": "stream",
     "text": [
      "Preds: [0.0, 0.0, 0.0, 0.0, 0.0, 0.0, 0.0, 0.0, 0.0, 0.0, 0.0, 0.0, 0.0, 0.0, 0.0, 0.0, 0.0, 0.0, 0.0, 0.0, 0.0, 0.0, 0.0, 0.0, 0.0, 0.0, 0.0, 0.0, 0.0, 0.0, 0.0, 0.0, 0.0, 0.0, 0.0, 0.0, 0.0, 0.0, 0.0, 0.0, 0.0, 0.0, 0.0, 0.0, 0.0, 0.0, 0.0, 0.0, 0.0, 0.0, 0.0, 0.0, 0.0, 0.0, 0.0, 0.0, 0.0, 0.0, 0.0, 0.0, 0.0, 0.0, 0.0, 0.0]\n",
      "True vals: [0.015789473429322243, 0.03421052545309067, 0.02631578966975212, 0.010526316240429878, 0.018421052023768425, 0.031578946858644485, 0.031578946858644485, 0.04210526496171951, 0.09210526198148727, 0.018421052023768425, 0.028947368264198303, 0.05263157933950424, 0.018421052023768425, 0.02368421107530594, 0.03684210404753685, 0.02631578966975212, 0.021052632480859756, 0.02368421107530594, 0.031578946858644485, 0.057894736528396606, 0.021052632480859756, 0.4236842095851898, 0.018421052023768425, 0.021052632480859756, 0.021052632480859756, 0.02631578966975212, 0.02631578966975212, 0.02631578966975212, 0.018421052023768425, 0.02368421107530594, 0.02631578966975212, 0.02368421107530594, 0.018421052023768425, 0.031578946858644485, 0.015789473429322243, 0.015789473429322243, 0.007894736714661121, 0.021052632480859756, 0.018421052023768425, 0.02631578966975212, 0.02368421107530594, 0.03684210404753685, 0.021052632480859756, 0.03421052545309067, 0.044736843556165695, 0.02368421107530594, 0.018421052023768425, 0.03684210404753685, 0.03421052545309067, 0.02368421107530594, 0.03684210404753685, 0.02631578966975212, 0.010526316240429878, 0.028947368264198303, 0.04736842215061188, 0.021052632480859756, 0.021052632480859756, 0.10000000149011612, 0.021052632480859756, 0.018421052023768425, 0.018421052023768425, 0.031578946858644485, 0.018421052023768425, 0.018421052023768425]\n"
     ]
    },
    {
     "name": "stderr",
     "output_type": "stream",
     "text": [
      "100%|██████████| 827/827 [00:18<00:00, 44.62it/s]\n"
     ]
    },
    {
     "name": "stdout",
     "output_type": "stream",
     "text": [
      "RMSE: 0.053\n",
      "MAE: 0.035\n",
      "R2: -0.733\n",
      "-------------------\n",
      "Evaluating Pot: \n"
     ]
    },
    {
     "name": "stderr",
     "output_type": "stream",
     "text": [
      "  0%|          | 0/827 [00:00<?, ?it/s]/home/opc/anaconda3/envs/labrador/lib/python3.9/site-packages/torch/nn/modules/activation.py:1160: UserWarning: Converting mask without torch.bool dtype to bool; this will negatively affect performance. Prefer to use a boolean mask directly. (Triggered internally at ../aten/src/ATen/native/transformers/attention.cpp:150.)\n",
      "  return torch._native_multi_head_attention(\n",
      "  1%|          | 6/827 [00:00<00:42, 19.14it/s]"
     ]
    },
    {
     "name": "stdout",
     "output_type": "stream",
     "text": [
      "Preds: [0.0, 0.0, 0.0, 0.0, 0.0, 0.0, 0.0, 0.0, 0.0, 0.0, 0.0, 0.0, 0.0, 0.0, 0.0, 0.0, 0.0, 0.0, 0.0, 0.0, 0.0, 0.0, 0.0, 0.0, 0.0, 0.0, 0.0, 0.0, 0.0, 0.0, 0.0, 0.0, 0.0, 0.0, 0.0, 0.0, 0.0, 0.0, 0.0, 0.0, 0.0, 0.0, 0.0, 0.0, 0.0, 0.0, 0.0, 0.0, 0.0, 0.0, 0.0, 0.0, 0.0, 0.0, 0.0, 0.0, 0.0, 0.0, 0.0, 0.0, 0.0, 0.0, 0.0, 0.0]\n",
      "True vals: [0.2586206793785095, 0.18103447556495667, 0.16379310190677643, 0.24137930572032928, 0.27586206793785095, 0.21551723778247833, 0.22413793206214905, 0.18103447556495667, 0.31896552443504333, 0.2068965584039688, 0.17241379618644714, 0.25, 0.23275862634181976, 0.23275862634181976, 0.25, 0.22413793206214905, 0.16379310190677643, 0.2068965584039688, 0.22413793206214905, 0.2068965584039688, 0.18965516984462738, 0.3448275923728943, 0.24137930572032928, 0.2068965584039688, 0.25, 0.22413793206214905, 0.18965516984462738, 0.22413793206214905, 0.23275862634181976, 0.24137930572032928, 0.21551723778247833, 0.23275862634181976, 0.2068965584039688, 0.22413793206214905, 0.22413793206214905, 0.21551723778247833, 0.16379310190677643, 0.21551723778247833, 0.18965516984462738, 0.26724138855934143, 0.22413793206214905, 0.22413793206214905, 0.16379310190677643, 0.13793103396892548, 0.25, 0.18965516984462738, 0.2068965584039688, 0.2068965584039688, 0.25, 0.22413793206214905, 0.23275862634181976, 0.23275862634181976, 0.23275862634181976, 0.21551723778247833, 0.21551723778247833, 0.22413793206214905, 0.2068965584039688, 0.25, 0.2068965584039688, 0.18103447556495667, 0.24137930572032928, 0.2586206793785095, 0.22413793206214905, 0.22413793206214905]\n"
     ]
    },
    {
     "name": "stderr",
     "output_type": "stream",
     "text": [
      "100%|██████████| 827/827 [00:18<00:00, 44.66it/s]\n"
     ]
    },
    {
     "name": "stdout",
     "output_type": "stream",
     "text": [
      "RMSE: 0.230\n",
      "MAE: 0.225\n",
      "R2: -23.767\n",
      "-------------------\n",
      "Evaluating Sod: \n"
     ]
    },
    {
     "name": "stderr",
     "output_type": "stream",
     "text": [
      "  0%|          | 0/827 [00:00<?, ?it/s]/home/opc/anaconda3/envs/labrador/lib/python3.9/site-packages/torch/nn/modules/activation.py:1160: UserWarning: Converting mask without torch.bool dtype to bool; this will negatively affect performance. Prefer to use a boolean mask directly. (Triggered internally at ../aten/src/ATen/native/transformers/attention.cpp:150.)\n",
      "  return torch._native_multi_head_attention(\n",
      "  1%|          | 6/827 [00:00<00:42, 19.25it/s]"
     ]
    },
    {
     "name": "stdout",
     "output_type": "stream",
     "text": [
      "Preds: [0.0, 0.0, 0.0, 0.0, 0.0, 0.0, 0.0, 0.0, 0.0, 0.0, 0.0, 0.0, 0.0, 0.0, 0.0, 0.0, 0.0, 0.0, 0.0, 0.0, 0.0, 0.0, 0.0, 0.0, 0.0, 0.0, 0.0, 0.0, 0.0, 0.0, 0.0, 0.0, 0.0, 0.0, 0.0, 0.0, 0.0, 0.0, 0.0, 0.0, 0.0, 0.0, 0.0, 0.0, 0.0, 0.0, 0.0, 0.0, 0.0, 0.0, 0.0, 0.0, 0.0, 0.0, 0.0, 0.0, 0.0, 0.0, 0.0, 0.0, 0.0, 0.0, 0.0, 0.0]\n",
      "True vals: [0.5809524059295654, 0.6380952596664429, 0.6285714507102966, 0.6285714507102966, 0.6190476417541504, 0.6666666865348816, 0.561904788017273, 0.5523809790611267, 0.6285714507102966, 0.6000000238418579, 0.6761904954910278, 0.6285714507102966, 0.6571428775787354, 0.6000000238418579, 0.6952381134033203, 0.561904788017273, 0.6095238327980042, 0.5809524059295654, 0.6857143044471741, 0.6666666865348816, 0.6380952596664429, 0.6000000238418579, 0.6380952596664429, 0.6095238327980042, 0.6190476417541504, 0.6285714507102966, 0.6571428775787354, 0.6761904954910278, 0.6190476417541504, 0.6952381134033203, 0.6476190686225891, 0.5904762148857117, 0.6285714507102966, 0.6285714507102966, 0.6666666865348816, 0.5904762148857117, 0.5809524059295654, 0.6380952596664429, 0.6380952596664429, 0.6000000238418579, 0.5904762148857117, 0.6476190686225891, 0.6380952596664429, 0.6095238327980042, 0.6476190686225891, 0.6095238327980042, 0.5904762148857117, 0.6190476417541504, 0.5809524059295654, 0.6476190686225891, 0.5904762148857117, 0.6285714507102966, 0.6190476417541504, 0.6190476417541504, 0.5714285969734192, 0.6095238327980042, 0.6095238327980042, 0.6476190686225891, 0.6666666865348816, 0.6095238327980042, 0.6571428775787354, 0.5714285969734192, 0.6380952596664429, 0.6666666865348816]\n"
     ]
    },
    {
     "name": "stderr",
     "output_type": "stream",
     "text": [
      "100%|██████████| 827/827 [00:18<00:00, 44.61it/s]\n"
     ]
    },
    {
     "name": "stdout",
     "output_type": "stream",
     "text": [
      "RMSE: 0.628\n",
      "MAE: 0.627\n",
      "R2: -276.257\n",
      "-------------------\n",
      "Evaluating Ure: \n"
     ]
    },
    {
     "name": "stderr",
     "output_type": "stream",
     "text": [
      "  0%|          | 0/827 [00:00<?, ?it/s]/home/opc/anaconda3/envs/labrador/lib/python3.9/site-packages/torch/nn/modules/activation.py:1160: UserWarning: Converting mask without torch.bool dtype to bool; this will negatively affect performance. Prefer to use a boolean mask directly. (Triggered internally at ../aten/src/ATen/native/transformers/attention.cpp:150.)\n",
      "  return torch._native_multi_head_attention(\n",
      "  1%|          | 6/827 [00:00<00:43, 18.89it/s]"
     ]
    },
    {
     "name": "stdout",
     "output_type": "stream",
     "text": [
      "Preds: [0.0, 0.0, 0.0, 0.0, 0.0, 0.0, 0.0, 0.0, 0.0, 0.0, 0.0, 0.0, 0.0, 0.0, 0.0, 0.0, 0.0, 0.0, 0.0, 0.0, 0.0, 0.0, 0.0, 0.0, 0.0, 0.0, 0.0, 0.0, 0.0, 0.0, 0.0, 0.0, 0.0, 0.0, 0.0, 0.0, 0.0, 0.0, 0.0, 0.0, 0.0, 0.0, 0.0, 0.0, 0.0, 0.0, 0.0, 0.0, 0.0, 0.0, 0.0, 0.0, 0.0, 0.0, 0.0, 0.0, 0.0, 0.0, 0.0, 0.0, 0.0, 0.0, 0.0, 0.0]\n",
      "True vals: [0.05281690135598183, 0.07042253762483597, 0.035211268812417984, 0.05281690135598183, 0.028169013559818268, 0.0845070406794548, 0.0211267601698637, 0.22535210847854614, 0.25704225897789, 0.04929577559232712, 0.11267605423927307, 0.10915493220090866, 0.056338027119636536, 0.07042253762483597, 0.15492957830429077, 0.0809859186410904, 0.014084506779909134, 0.04929577559232712, 0.06690140813589096, 0.18661971390247345, 0.04929577559232712, 0.27112674713134766, 0.035211268812417984, 0.0422535203397274, 0.03169013932347298, 0.05281690135598183, 0.03873239457607269, 0.04929577559232712, 0.0422535203397274, 0.06338027864694595, 0.07746478915214539, 0.06338027864694595, 0.03169013932347298, 0.056338027119636536, 0.05281690135598183, 0.0422535203397274, 0.01056338008493185, 0.04929577559232712, 0.05985915660858154, 0.017605634406208992, 0.07042253762483597, 0.1267605572938919, 0.017605634406208992, 0.07394365966320038, 0.1232394352555275, 0.017605634406208992, 0.0422535203397274, 0.11971831321716309, 0.05281690135598183, 0.035211268812417984, 0.11267605423927307, 0.06338027864694595, 0.035211268812417984, 0.04577464610338211, 0.07746478915214539, 0.03169013932347298, 0.04577464610338211, 0.19014084339141846, 0.05281690135598183, 0.017605634406208992, 0.05281690135598183, 0.07746478915214539, 0.028169013559818268, 0.04577464610338211]\n"
     ]
    },
    {
     "name": "stderr",
     "output_type": "stream",
     "text": [
      "100%|██████████| 827/827 [00:18<00:00, 44.44it/s]\n"
     ]
    },
    {
     "name": "stdout",
     "output_type": "stream",
     "text": [
      "RMSE: 0.097\n",
      "MAE: 0.075\n",
      "R2: -1.485\n",
      "-------------------\n",
      "Evaluating Hgb: \n"
     ]
    },
    {
     "name": "stderr",
     "output_type": "stream",
     "text": [
      "  0%|          | 0/827 [00:00<?, ?it/s]/home/opc/anaconda3/envs/labrador/lib/python3.9/site-packages/torch/nn/modules/activation.py:1160: UserWarning: Converting mask without torch.bool dtype to bool; this will negatively affect performance. Prefer to use a boolean mask directly. (Triggered internally at ../aten/src/ATen/native/transformers/attention.cpp:150.)\n",
      "  return torch._native_multi_head_attention(\n",
      "  1%|          | 6/827 [00:00<00:43, 19.04it/s]"
     ]
    },
    {
     "name": "stdout",
     "output_type": "stream",
     "text": [
      "Preds: [0.0, 0.0, 0.0, 0.0, 0.0, 0.0, 0.0, 0.0, 0.0, 0.0, 0.0, 0.0, 0.0, 0.0, 0.0, 0.0, 0.0, 0.0, 0.0, 0.0, 0.0, 0.0, 0.0, 0.0, 0.0, 0.0, 0.0, 0.0, 0.0, 0.0, 0.0, 0.0, 0.0, 0.0, 0.0, 0.0, 0.0, 0.0, 0.0, 0.0, 0.0, 0.0, 0.0, 0.0, 0.0, 0.0, 0.0, 0.0, 0.0, 0.0, 0.0, 0.0, 0.0, 0.0, 0.0, 0.0, 0.0, 0.0, 0.0, 0.0, 0.0, 0.0, 0.0, 0.0]\n",
      "True vals: [0.40092167258262634, 0.599078357219696, 0.4055299460887909, 0.6221198439598083, 0.5622119903564453, 0.6820276379585266, 0.4838709533214569, 0.4700460731983185, 0.4193548262119293, 0.3870967626571655, 0.5115207433700562, 0.5668202638626099, 0.6129032373428345, 0.35944700241088867, 0.299539178609848, 0.40092167258262634, 0.4516128897666931, 0.6313363909721375, 0.4055299460887909, 0.4516128897666931, 0.5622119903564453, 0.35944700241088867, 0.4423963129520416, 0.6543778777122498, 0.6728110313415527, 0.5437787771224976, 0.6820276379585266, 0.460829496383667, 0.4976958632469177, 0.695852518081665, 0.539170503616333, 0.5806451439857483, 0.5253456234931946, 0.599078357219696, 0.5714285969734192, 0.5668202638626099, 0.36866360902786255, 0.3870967626571655, 0.5115207433700562, 0.5668202638626099, 0.5069124698638916, 0.4285714328289032, 0.4976958632469177, 0.6497696042060852, 0.6036866307258606, 0.5668202638626099, 0.5161290168762207, 0.539170503616333, 0.42396312952041626, 0.5437787771224976, 0.5299538969993591, 0.5069124698638916, 0.5760368704795837, 0.48847925662994385, 0.4055299460887909, 0.4193548262119293, 0.5898617506027222, 0.42396312952041626, 0.4423963129520416, 0.4838709533214569, 0.3732718825340271, 0.4377880096435547, 0.5115207433700562, 0.6912442445755005]\n"
     ]
    },
    {
     "name": "stderr",
     "output_type": "stream",
     "text": [
      "100%|██████████| 827/827 [00:18<00:00, 44.60it/s]\n"
     ]
    },
    {
     "name": "stdout",
     "output_type": "stream",
     "text": [
      "RMSE: 0.516\n",
      "MAE: 0.507\n",
      "R2: -28.780\n",
      "-------------------\n",
      "Evaluating Plt: \n"
     ]
    },
    {
     "name": "stderr",
     "output_type": "stream",
     "text": [
      "  0%|          | 0/827 [00:00<?, ?it/s]/home/opc/anaconda3/envs/labrador/lib/python3.9/site-packages/torch/nn/modules/activation.py:1160: UserWarning: Converting mask without torch.bool dtype to bool; this will negatively affect performance. Prefer to use a boolean mask directly. (Triggered internally at ../aten/src/ATen/native/transformers/attention.cpp:150.)\n",
      "  return torch._native_multi_head_attention(\n",
      "  1%|          | 6/827 [00:00<00:43, 18.90it/s]"
     ]
    },
    {
     "name": "stdout",
     "output_type": "stream",
     "text": [
      "Preds: [0.0, 0.0, 0.0, 0.0, 0.0, 0.0, 0.0, 0.0, 0.0, 0.0, 0.0, 0.0, 0.0, 0.0, 0.0, 0.0, 0.0, 0.0, 0.0, 0.0, 0.0, 0.0, 0.0, 0.0, 0.0, 0.0, 0.0, 0.0, 0.0, 0.0, 0.0, 0.0, 0.0, 0.0, 0.0, 0.0, 0.0, 0.0, 0.0, 0.0, 0.0, 0.0, 0.0, 0.0, 0.0, 0.0, 0.0, 0.0, 0.0, 0.0, 0.0, 0.0, 0.0, 0.0, 0.0, 0.0, 0.0, 0.0, 0.0, 0.0, 0.0, 0.0, 0.0, 0.0]\n",
      "True vals: [0.10042016953229904, 0.043697480112314224, 0.05504201725125313, 0.0865546241402626, 0.13445378839969635, 0.1184873953461647, 0.05714285746216774, 0.07689075917005539, 0.09159664064645767, 0.02521008439362049, 0.07731092721223831, 0.0752100870013237, 0.07184874266386032, 0.07563025504350662, 0.21722689270973206, 0.09663865715265274, 0.1239495798945427, 0.07352941483259201, 0.05126050487160683, 0.08781512826681137, 0.12731093168258667, 0.12352941185235977, 0.0865546241402626, 0.10084033757448196, 0.061764705926179886, 0.0920168086886406, 0.08109243959188461, 0.0865546241402626, 0.22310924530029297, 0.08697479218244553, 0.06974790245294571, 0.10798319429159164, 0.0941176488995552, 0.04117647185921669, 0.11806722730398178, 0.06302521377801895, 0.036554623395204544, 0.04117647185921669, 0.11722689121961594, 0.06848739832639694, 0.07058823853731155, 0.0752100870013237, 0.1147058829665184, 0.12016806751489639, 0.061344537883996964, 0.20000000298023224, 0.0827731117606163, 0.1071428582072258, 0.010924370028078556, 0.05504201725125313, 0.1373949646949768, 0.0638655498623848, 0.1239495798945427, 0.09453781694173813, 0.13193278014659882, 0.18151260912418365, 0.02689075656235218, 0.039495799690485, 0.061764705926179886, 0.09747899323701859, 0.15504202246665955, 0.06638655811548233, 0.08361344784498215, 0.07857143133878708]\n"
     ]
    },
    {
     "name": "stderr",
     "output_type": "stream",
     "text": [
      "100%|██████████| 827/827 [00:18<00:00, 44.49it/s]\n"
     ]
    },
    {
     "name": "stdout",
     "output_type": "stream",
     "text": [
      "RMSE: 0.104\n",
      "MAE: 0.093\n",
      "R2: -4.003\n",
      "-------------------\n",
      "Evaluating Wbc: \n"
     ]
    },
    {
     "name": "stderr",
     "output_type": "stream",
     "text": [
      "  0%|          | 0/827 [00:00<?, ?it/s]/home/opc/anaconda3/envs/labrador/lib/python3.9/site-packages/torch/nn/modules/activation.py:1160: UserWarning: Converting mask without torch.bool dtype to bool; this will negatively affect performance. Prefer to use a boolean mask directly. (Triggered internally at ../aten/src/ATen/native/transformers/attention.cpp:150.)\n",
      "  return torch._native_multi_head_attention(\n",
      "  1%|          | 6/827 [00:00<00:42, 19.19it/s]"
     ]
    },
    {
     "name": "stdout",
     "output_type": "stream",
     "text": [
      "Preds: [0.0, 0.0, 0.0, 0.0, 0.0, 0.0, 0.0, 0.0, 0.0, 0.0, 0.0, 0.0, 0.0, 0.0, 0.0, 0.0, 0.0, 0.0, 0.0, 0.0, 0.0, 0.0, 0.0, 0.0, 0.0, 0.0, 0.0, 0.0, 0.0, 0.0, 0.0, 0.0, 0.0, 0.0, 0.0, 0.0, 0.0, 0.0, 0.0, 0.0, 0.0, 0.0, 0.0, 0.0, 0.0, 0.0, 0.0, 0.0, 0.0, 0.0, 0.0, 0.0, 0.0, 0.0, 0.0, 0.0, 0.0, 0.0, 0.0, 0.0, 0.0, 0.0, 0.0, 0.0]\n",
      "True vals: [0.005465102847665548, 0.004668108653277159, 0.009108505211770535, 0.006262097042053938, 0.012068768963217735, 0.010816349647939205, 0.009563930332660675, 0.0034156893379986286, 0.012979620136320591, 0.009450074285268784, 0.006375953555107117, 0.009450074285268784, 0.007856085896492004, 0.012524194084107876, 0.015484458766877651, 0.010702493600547314, 0.006945235189050436, 0.008994649164378643, 0.006148240994662046, 0.010247068479657173, 0.011613343842327595, 0.004212683532387018, 0.007628372870385647, 0.012410338036715984, 0.0064898100681602955, 0.01457360852509737, 0.006603666115552187, 0.007628372870385647, 0.013207332231104374, 0.009563930332660675, 0.019355572760105133, 0.014459751546382904, 0.006945235189050436, 0.008425367064774036, 0.006945235189050436, 0.0036434021312743425, 0.004326540045440197, 0.013548901304602623, 0.008197654969990253, 0.014232039451599121, 0.007856085896492004, 0.006831378675997257, 0.0035295456182211637, 0.006148240994662046, 0.008083797991275787, 0.010930205695331097, 0.006034384481608868, 0.009905499406158924, 0.007514516822993755, 0.009222361259162426, 0.011271774768829346, 0.0047819651663303375, 0.0047819651663303375, 0.009905499406158924, 0.013435045257210732, 0.013662757351994514, 0.005806671921163797, 0.006262097042053938, 0.004554252605885267, 0.008197654969990253, 0.007628372870385647, 0.0070590912364423275, 0.02322668768465519, 0.011499487794935703]\n"
     ]
    },
    {
     "name": "stderr",
     "output_type": "stream",
     "text": [
      "100%|██████████| 827/827 [00:18<00:00, 44.52it/s]"
     ]
    },
    {
     "name": "stdout",
     "output_type": "stream",
     "text": [
      "RMSE: 0.012\n",
      "MAE: 0.010\n",
      "R2: -1.680\n",
      "-------------------\n"
     ]
    },
    {
     "name": "stderr",
     "output_type": "stream",
     "text": [
      "\n"
     ]
    },
    {
     "data": {
      "text/plain": [
       "{'Bic': {'rmse': [0.48574286881278766],\n",
       "  'mae': [0.4793611768663539],\n",
       "  'r2': [-37.309183376881805]},\n",
       " 'Crt': {'rmse': [0.05315096578868614],\n",
       "  'mae': [0.03456101898744428],\n",
       "  'r2': [-0.7325478394361615]},\n",
       " 'Pot': {'rmse': [0.22957351507957063],\n",
       "  'mae': [0.22489106396818662],\n",
       "  'r2': [-23.766821616843746]},\n",
       " 'Sod': {'rmse': [0.6277011791699629],\n",
       "  'mae': [0.6265681715770638],\n",
       "  'r2': [-276.2568333339704]},\n",
       " 'Ure': {'rmse': [0.09737584863968306],\n",
       "  'mae': [0.07527863970508245],\n",
       "  'r2': [-1.4853480506573034]},\n",
       " 'Hgb': {'rmse': [0.5159875282008837],\n",
       "  'mae': [0.507250327078953],\n",
       "  'r2': [-28.78032804847579]},\n",
       " 'Plt': {'rmse': [0.10435480785320787],\n",
       "  'mae': [0.09334520014514568],\n",
       "  'r2': [-4.003183067103118]},\n",
       " 'Wbc': {'rmse': [0.012445089987730659],\n",
       "  'mae': [0.00985360168744061],\n",
       "  'r2': [-1.6802015094659697]}}"
      ]
     },
     "execution_count": 60,
     "metadata": {},
     "output_type": "execute_result"
    }
   ],
   "source": [
    "test_model(trained_model, test_loader, device, COLUMNS)"
   ]
  },
  {
   "cell_type": "code",
   "execution_count": null,
   "id": "ed093933",
   "metadata": {},
   "outputs": [],
   "source": []
  }
 ],
 "metadata": {
  "kernelspec": {
   "display_name": "labrador",
   "language": "python",
   "name": "python3"
  },
  "language_info": {
   "codemirror_mode": {
    "name": "ipython",
    "version": 3
   },
   "file_extension": ".py",
   "mimetype": "text/x-python",
   "name": "python",
   "nbconvert_exporter": "python",
   "pygments_lexer": "ipython3",
   "version": "3.9.18"
  }
 },
 "nbformat": 4,
 "nbformat_minor": 5
}
