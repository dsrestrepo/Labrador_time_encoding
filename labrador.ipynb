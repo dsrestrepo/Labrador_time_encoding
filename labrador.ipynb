{
 "cells": [
  {
   "cell_type": "markdown",
   "id": "3594e220",
   "metadata": {},
   "source": [
    "### BERT Embeddings"
   ]
  },
  {
   "cell_type": "code",
   "execution_count": 1,
   "id": "c8438363",
   "metadata": {},
   "outputs": [],
   "source": [
    "import pandas as pd\n",
    "import torch\n",
    "import numpy as np\n",
    "\n",
    "from src.preprocessing import preprocess_df, TextEncoder, set_labels_features\n",
    "from sklearn.model_selection import train_test_split\n",
    "\n",
    "from src.labrador import Labrador\n",
    "from src.tokenizers import LabradorTokenizer\n",
    "\n",
    "from src.train import train_mlm"
   ]
  },
  {
   "cell_type": "code",
   "execution_count": 2,
   "id": "22c6e50c",
   "metadata": {},
   "outputs": [],
   "source": [
    "### Constants\n",
    "FILE = 'data/morning_lab_values.csv'\n",
    "COLUMNS = ['Bic', 'Crt', 'Pot', 'Sod', 'Ure', 'Hgb', 'Plt', 'Wbc']\n",
    "\n",
    "MASKING = 0.20\n",
    "\n",
    "device = torch.device('cuda') if torch.cuda.is_available() else torch.device('cpu')\n",
    "# device = torch.device('mps') if torch.cuda.is_available() else torch.device('cpu') # Apple Silicon"
   ]
  },
  {
   "cell_type": "markdown",
   "id": "3b42aeb9",
   "metadata": {},
   "source": [
    "### Read dataset"
   ]
  },
  {
   "cell_type": "code",
   "execution_count": 3,
   "id": "a3f2ab99",
   "metadata": {},
   "outputs": [],
   "source": [
    "df = pd.read_csv(FILE)"
   ]
  },
  {
   "cell_type": "code",
   "execution_count": 4,
   "id": "50ea9b69",
   "metadata": {},
   "outputs": [
    {
     "data": {
      "text/html": [
       "<div>\n",
       "<style scoped>\n",
       "    .dataframe tbody tr th:only-of-type {\n",
       "        vertical-align: middle;\n",
       "    }\n",
       "\n",
       "    .dataframe tbody tr th {\n",
       "        vertical-align: top;\n",
       "    }\n",
       "\n",
       "    .dataframe thead th {\n",
       "        text-align: right;\n",
       "    }\n",
       "</style>\n",
       "<table border=\"1\" class=\"dataframe\">\n",
       "  <thead>\n",
       "    <tr style=\"text-align: right;\">\n",
       "      <th></th>\n",
       "      <th>hadm_id</th>\n",
       "      <th>subject_id</th>\n",
       "      <th>itemid</th>\n",
       "      <th>charttime</th>\n",
       "      <th>charthour</th>\n",
       "      <th>storetime</th>\n",
       "      <th>storehour</th>\n",
       "      <th>chartday</th>\n",
       "      <th>valuenum</th>\n",
       "      <th>cnt</th>\n",
       "    </tr>\n",
       "  </thead>\n",
       "  <tbody>\n",
       "    <tr>\n",
       "      <th>0</th>\n",
       "      <td>NaN</td>\n",
       "      <td>10312413</td>\n",
       "      <td>51222</td>\n",
       "      <td>2173-06-05 08:20:00</td>\n",
       "      <td>8</td>\n",
       "      <td>2173-06-05 08:47:00</td>\n",
       "      <td>8</td>\n",
       "      <td>2173-06-05</td>\n",
       "      <td>12.8</td>\n",
       "      <td>8</td>\n",
       "    </tr>\n",
       "    <tr>\n",
       "      <th>1</th>\n",
       "      <td>25669789.0</td>\n",
       "      <td>10390828</td>\n",
       "      <td>51222</td>\n",
       "      <td>2181-10-26 07:55:00</td>\n",
       "      <td>7</td>\n",
       "      <td>2181-10-26 08:46:00</td>\n",
       "      <td>8</td>\n",
       "      <td>2181-10-26</td>\n",
       "      <td>9.4</td>\n",
       "      <td>8</td>\n",
       "    </tr>\n",
       "    <tr>\n",
       "      <th>2</th>\n",
       "      <td>26646522.0</td>\n",
       "      <td>10447634</td>\n",
       "      <td>51222</td>\n",
       "      <td>2165-03-07 06:55:00</td>\n",
       "      <td>6</td>\n",
       "      <td>2165-03-07 07:23:00</td>\n",
       "      <td>7</td>\n",
       "      <td>2165-03-07</td>\n",
       "      <td>11.1</td>\n",
       "      <td>8</td>\n",
       "    </tr>\n",
       "    <tr>\n",
       "      <th>3</th>\n",
       "      <td>27308928.0</td>\n",
       "      <td>10784877</td>\n",
       "      <td>51222</td>\n",
       "      <td>2170-05-11 06:00:00</td>\n",
       "      <td>6</td>\n",
       "      <td>2170-05-11 06:43:00</td>\n",
       "      <td>6</td>\n",
       "      <td>2170-05-11</td>\n",
       "      <td>10.3</td>\n",
       "      <td>8</td>\n",
       "    </tr>\n",
       "    <tr>\n",
       "      <th>4</th>\n",
       "      <td>28740988.0</td>\n",
       "      <td>11298819</td>\n",
       "      <td>51222</td>\n",
       "      <td>2142-09-13 07:15:00</td>\n",
       "      <td>7</td>\n",
       "      <td>2142-09-13 09:23:00</td>\n",
       "      <td>9</td>\n",
       "      <td>2142-09-13</td>\n",
       "      <td>10.2</td>\n",
       "      <td>8</td>\n",
       "    </tr>\n",
       "  </tbody>\n",
       "</table>\n",
       "</div>"
      ],
      "text/plain": [
       "      hadm_id  subject_id  itemid            charttime  charthour  \\\n",
       "0         NaN    10312413   51222  2173-06-05 08:20:00          8   \n",
       "1  25669789.0    10390828   51222  2181-10-26 07:55:00          7   \n",
       "2  26646522.0    10447634   51222  2165-03-07 06:55:00          6   \n",
       "3  27308928.0    10784877   51222  2170-05-11 06:00:00          6   \n",
       "4  28740988.0    11298819   51222  2142-09-13 07:15:00          7   \n",
       "\n",
       "             storetime  storehour    chartday  valuenum  cnt  \n",
       "0  2173-06-05 08:47:00          8  2173-06-05      12.8    8  \n",
       "1  2181-10-26 08:46:00          8  2181-10-26       9.4    8  \n",
       "2  2165-03-07 07:23:00          7  2165-03-07      11.1    8  \n",
       "3  2170-05-11 06:43:00          6  2170-05-11      10.3    8  \n",
       "4  2142-09-13 09:23:00          9  2142-09-13      10.2    8  "
      ]
     },
     "execution_count": 4,
     "metadata": {},
     "output_type": "execute_result"
    }
   ],
   "source": [
    "df.head()"
   ]
  },
  {
   "cell_type": "markdown",
   "id": "252ee2df",
   "metadata": {},
   "source": [
    "### Preprocessing"
   ]
  },
  {
   "cell_type": "code",
   "execution_count": 5,
   "id": "436ec03d",
   "metadata": {},
   "outputs": [],
   "source": [
    "# MinMaxScaler by default\n",
    "mrl = preprocess_df(df, columns_to_scale=COLUMNS)"
   ]
  },
  {
   "cell_type": "markdown",
   "id": "23ad4f82",
   "metadata": {},
   "source": [
    "### Generate Sequences"
   ]
  },
  {
   "cell_type": "code",
   "execution_count": 6,
   "id": "79463800",
   "metadata": {},
   "outputs": [],
   "source": [
    "# Generate the sequences:\n",
    "text_encoder = TextEncoder(Repetition_id=True, labs_as_num=True, return_lists=True)\n",
    "mrl, grouped_mrl = text_encoder.encode_text(mrl)"
   ]
  },
  {
   "cell_type": "code",
   "execution_count": 7,
   "id": "ce194bf8",
   "metadata": {},
   "outputs": [
    {
     "data": {
      "text/html": [
       "<div>\n",
       "<style scoped>\n",
       "    .dataframe tbody tr th:only-of-type {\n",
       "        vertical-align: middle;\n",
       "    }\n",
       "\n",
       "    .dataframe tbody tr th {\n",
       "        vertical-align: top;\n",
       "    }\n",
       "\n",
       "    .dataframe thead th {\n",
       "        text-align: right;\n",
       "    }\n",
       "</style>\n",
       "<table border=\"1\" class=\"dataframe\">\n",
       "  <thead>\n",
       "    <tr style=\"text-align: right;\">\n",
       "      <th>itemid</th>\n",
       "      <th>subject_id</th>\n",
       "      <th>hadm_id</th>\n",
       "      <th>chartday</th>\n",
       "      <th>Bic</th>\n",
       "      <th>Crt</th>\n",
       "      <th>Pot</th>\n",
       "      <th>Sod</th>\n",
       "      <th>Ure</th>\n",
       "      <th>Hgb</th>\n",
       "      <th>Plt</th>\n",
       "      <th>Wbc</th>\n",
       "      <th>nstr</th>\n",
       "      <th>lab_ids</th>\n",
       "      <th>lab_values</th>\n",
       "    </tr>\n",
       "  </thead>\n",
       "  <tbody>\n",
       "    <tr>\n",
       "      <th>0</th>\n",
       "      <td>10000032</td>\n",
       "      <td>22595853.0</td>\n",
       "      <td>2180-05-07</td>\n",
       "      <td>0.530612</td>\n",
       "      <td>0.007895</td>\n",
       "      <td>0.258621</td>\n",
       "      <td>0.609524</td>\n",
       "      <td>0.088028</td>\n",
       "      <td>0.585253</td>\n",
       "      <td>0.027731</td>\n",
       "      <td>0.004782</td>\n",
       "      <td>Bic 0.5306122448979591 Crt 0.00789473684210526...</td>\n",
       "      <td>[Bic, Crt, Pot, Sod, Ure, Hgb, Plt, Wbc]</td>\n",
       "      <td>[0.5306122448979591, 0.007894736842105262, 0.2...</td>\n",
       "    </tr>\n",
       "    <tr>\n",
       "      <th>1</th>\n",
       "      <td>10000032</td>\n",
       "      <td>22841357.0</td>\n",
       "      <td>2180-06-27</td>\n",
       "      <td>0.469388</td>\n",
       "      <td>0.007895</td>\n",
       "      <td>0.318966</td>\n",
       "      <td>0.504762</td>\n",
       "      <td>0.102113</td>\n",
       "      <td>0.571429</td>\n",
       "      <td>0.055462</td>\n",
       "      <td>0.007515</td>\n",
       "      <td>Bic 0.46938775510204084 Crt 0.0078947368421052...</td>\n",
       "      <td>[Bic, Crt, Pot, Sod, Ure, Hgb, Plt, Wbc]</td>\n",
       "      <td>[0.46938775510204084, 0.007894736842105262, 0....</td>\n",
       "    </tr>\n",
       "    <tr>\n",
       "      <th>2</th>\n",
       "      <td>10000032</td>\n",
       "      <td>25742920.0</td>\n",
       "      <td>2180-08-06</td>\n",
       "      <td>0.489796</td>\n",
       "      <td>0.015789</td>\n",
       "      <td>0.413793</td>\n",
       "      <td>0.504762</td>\n",
       "      <td>0.130282</td>\n",
       "      <td>0.557604</td>\n",
       "      <td>0.053782</td>\n",
       "      <td>0.008539</td>\n",
       "      <td>Bic 0.48979591836734687 Crt 0.0157894736842105...</td>\n",
       "      <td>[Bic, Crt, Pot, Sod, Ure, Hgb, Plt, Wbc]</td>\n",
       "      <td>[0.48979591836734687, 0.015789473684210523, 0....</td>\n",
       "    </tr>\n",
       "  </tbody>\n",
       "</table>\n",
       "</div>"
      ],
      "text/plain": [
       "itemid  subject_id     hadm_id    chartday       Bic       Crt       Pot  \\\n",
       "0         10000032  22595853.0  2180-05-07  0.530612  0.007895  0.258621   \n",
       "1         10000032  22841357.0  2180-06-27  0.469388  0.007895  0.318966   \n",
       "2         10000032  25742920.0  2180-08-06  0.489796  0.015789  0.413793   \n",
       "\n",
       "itemid       Sod       Ure       Hgb       Plt       Wbc  \\\n",
       "0       0.609524  0.088028  0.585253  0.027731  0.004782   \n",
       "1       0.504762  0.102113  0.571429  0.055462  0.007515   \n",
       "2       0.504762  0.130282  0.557604  0.053782  0.008539   \n",
       "\n",
       "itemid                                               nstr  \\\n",
       "0       Bic 0.5306122448979591 Crt 0.00789473684210526...   \n",
       "1       Bic 0.46938775510204084 Crt 0.0078947368421052...   \n",
       "2       Bic 0.48979591836734687 Crt 0.0157894736842105...   \n",
       "\n",
       "itemid                                   lab_ids  \\\n",
       "0       [Bic, Crt, Pot, Sod, Ure, Hgb, Plt, Wbc]   \n",
       "1       [Bic, Crt, Pot, Sod, Ure, Hgb, Plt, Wbc]   \n",
       "2       [Bic, Crt, Pot, Sod, Ure, Hgb, Plt, Wbc]   \n",
       "\n",
       "itemid                                         lab_values  \n",
       "0       [0.5306122448979591, 0.007894736842105262, 0.2...  \n",
       "1       [0.46938775510204084, 0.007894736842105262, 0....  \n",
       "2       [0.48979591836734687, 0.015789473684210523, 0....  "
      ]
     },
     "execution_count": 7,
     "metadata": {},
     "output_type": "execute_result"
    }
   ],
   "source": [
    "mrl.head(3)"
   ]
  },
  {
   "cell_type": "code",
   "execution_count": 8,
   "id": "feaf927d",
   "metadata": {},
   "outputs": [
    {
     "data": {
      "text/html": [
       "<div>\n",
       "<style scoped>\n",
       "    .dataframe tbody tr th:only-of-type {\n",
       "        vertical-align: middle;\n",
       "    }\n",
       "\n",
       "    .dataframe tbody tr th {\n",
       "        vertical-align: top;\n",
       "    }\n",
       "\n",
       "    .dataframe thead th {\n",
       "        text-align: right;\n",
       "    }\n",
       "</style>\n",
       "<table border=\"1\" class=\"dataframe\">\n",
       "  <thead>\n",
       "    <tr style=\"text-align: right;\">\n",
       "      <th></th>\n",
       "      <th>hadm_id</th>\n",
       "      <th>nstr</th>\n",
       "      <th>lab_ids</th>\n",
       "      <th>lab_values</th>\n",
       "    </tr>\n",
       "  </thead>\n",
       "  <tbody>\n",
       "    <tr>\n",
       "      <th>0</th>\n",
       "      <td>20000019.0</td>\n",
       "      <td>[Bic 0.4489795918367347 Crt 0.0289473684210526...</td>\n",
       "      <td>[Bic, Crt, Pot, Sod, Ure, Hgb, Plt, Wbc]</td>\n",
       "      <td>[0.4489795918367347, 0.02894736842105263, 0.17...</td>\n",
       "    </tr>\n",
       "    <tr>\n",
       "      <th>1</th>\n",
       "      <td>20000024.0</td>\n",
       "      <td>[Bic 0.46938775510204084 Crt 0.028947368421052...</td>\n",
       "      <td>[Bic, Crt, Pot, Sod, Ure, Hgb, Plt, Wbc]</td>\n",
       "      <td>[0.46938775510204084, 0.02894736842105263, 0.3...</td>\n",
       "    </tr>\n",
       "    <tr>\n",
       "      <th>2</th>\n",
       "      <td>20000034.0</td>\n",
       "      <td>[Bic 0.4489795918367347 Crt 0.0605263157894736...</td>\n",
       "      <td>[Bic, Crt, Pot, Sod, Ure, Hgb, Plt, Wbc]</td>\n",
       "      <td>[0.4489795918367347, 0.06052631578947368, 0.28...</td>\n",
       "    </tr>\n",
       "  </tbody>\n",
       "</table>\n",
       "</div>"
      ],
      "text/plain": [
       "      hadm_id                                               nstr  \\\n",
       "0  20000019.0  [Bic 0.4489795918367347 Crt 0.0289473684210526...   \n",
       "1  20000024.0  [Bic 0.46938775510204084 Crt 0.028947368421052...   \n",
       "2  20000034.0  [Bic 0.4489795918367347 Crt 0.0605263157894736...   \n",
       "\n",
       "                                    lab_ids  \\\n",
       "0  [Bic, Crt, Pot, Sod, Ure, Hgb, Plt, Wbc]   \n",
       "1  [Bic, Crt, Pot, Sod, Ure, Hgb, Plt, Wbc]   \n",
       "2  [Bic, Crt, Pot, Sod, Ure, Hgb, Plt, Wbc]   \n",
       "\n",
       "                                          lab_values  \n",
       "0  [0.4489795918367347, 0.02894736842105263, 0.17...  \n",
       "1  [0.46938775510204084, 0.02894736842105263, 0.3...  \n",
       "2  [0.4489795918367347, 0.06052631578947368, 0.28...  "
      ]
     },
     "execution_count": 8,
     "metadata": {},
     "output_type": "execute_result"
    }
   ],
   "source": [
    "# See the largest element in: \n",
    "grouped_mrl.head(3)"
   ]
  },
  {
   "cell_type": "markdown",
   "id": "7f92fa35",
   "metadata": {},
   "source": [
    "#### Train and Test Split"
   ]
  },
  {
   "cell_type": "code",
   "execution_count": 9,
   "id": "02b3f7d9",
   "metadata": {},
   "outputs": [],
   "source": [
    "lab_ids = grouped_mrl.lab_ids.values\n",
    "lab_values = grouped_mrl.lab_values.values\n",
    "\n",
    "lab_ids_train, lab_ids_test, lab_values_train, lab_values_test = train_test_split(lab_ids, lab_values, test_size=0.2, random_state=42)"
   ]
  },
  {
   "cell_type": "markdown",
   "id": "1b42ae57",
   "metadata": {},
   "source": [
    "#### Tokenize"
   ]
  },
  {
   "cell_type": "code",
   "execution_count": 10,
   "id": "a5da3a70",
   "metadata": {},
   "outputs": [],
   "source": [
    "tokenizer = LabradorTokenizer()\n",
    "# Get unique lab ids:\n",
    "unique_ids = set(np.concatenate(lab_ids_train))\n",
    "# train the tokenizer:\n",
    "tokenizer.train(unique_ids)"
   ]
  },
  {
   "cell_type": "code",
   "execution_count": 11,
   "id": "ab6ff1fb",
   "metadata": {},
   "outputs": [
    {
     "data": {
      "text/plain": [
       "{'input_ids': array([[ 0,  6,  4,  2,  3,  7,  1,  5, 10, 10],\n",
       "        [ 0,  6,  4,  2,  3,  7,  1,  5, 10, 10],\n",
       "        [ 0,  6,  4,  2,  3,  7,  1,  5, 10, 10],\n",
       "        [ 0,  6,  4,  2,  3,  7,  1,  5, 10, 10],\n",
       "        [ 0,  6,  4,  2,  3,  7,  1,  5, 10, 10]]),\n",
       " 'continuous': array([[6.73469388e-01, 7.89473684e-02, 1.46551724e-01, 6.09523810e-01,\n",
       "         3.80281690e-01, 6.31336406e-01, 4.15966387e-02, 6.94523511e-03,\n",
       "         1.00000000e+01, 1.00000000e+01],\n",
       "        [6.12244898e-01, 2.89473684e-02, 1.37931034e-01, 7.04761905e-01,\n",
       "         9.85915493e-02, 3.50230415e-01, 7.85714286e-02, 1.04747808e-02,\n",
       "         1.00000000e+01, 1.00000000e+01],\n",
       "        [5.30612245e-01, 2.10526316e-02, 2.06896552e-01, 6.28571429e-01,\n",
       "         5.63380282e-02, 4.42396313e-01, 1.18067227e-01, 1.04747808e-02,\n",
       "         1.00000000e+01, 1.00000000e+01],\n",
       "        [4.48979592e-01, 1.84210526e-02, 2.32758621e-01, 6.28571429e-01,\n",
       "         3.16901408e-02, 6.77419355e-01, 1.07983193e-01, 1.04747808e-02,\n",
       "         1.00000000e+01, 1.00000000e+01],\n",
       "        [4.48979592e-01, 4.47368421e-02, 3.10344828e-01, 6.00000000e-01,\n",
       "         1.40845070e-01, 5.11520737e-01, 1.05462185e-01, 2.25435500e-02,\n",
       "         1.00000000e+01, 1.00000000e+01]]),\n",
       " 'attention_mask': array([[1, 1, 1, 1, 1, 1, 1, 1, 0, 0],\n",
       "        [1, 1, 1, 1, 1, 1, 1, 1, 0, 0],\n",
       "        [1, 1, 1, 1, 1, 1, 1, 1, 0, 0],\n",
       "        [1, 1, 1, 1, 1, 1, 1, 1, 0, 0],\n",
       "        [1, 1, 1, 1, 1, 1, 1, 1, 0, 0]])}"
      ]
     },
     "execution_count": 11,
     "metadata": {},
     "output_type": "execute_result"
    }
   ],
   "source": [
    "# Example of how to use the tokenizer:\n",
    "tokenizer.tokenize_batch(lab_ids_train[:5], lab_values_train[:5], max_length=10)"
   ]
  },
  {
   "cell_type": "markdown",
   "id": "8c6c9123",
   "metadata": {},
   "source": [
    "### Model"
   ]
  },
  {
   "cell_type": "code",
   "execution_count": 14,
   "id": "d5ed51c1",
   "metadata": {},
   "outputs": [],
   "source": [
    "mask_token = tokenizer.mask_token #-1\n",
    "null_token = tokenizer.null_token #-2\n",
    "pad_token = tokenizer.pad_token #-3\n",
    "vocab_size = tokenizer.vocab_size()\n",
    "\n",
    "# From BERT model:\n",
    "embedding_dim = 756\n",
    "hidden_dim = 756\n",
    "transformer_heads = 12\n",
    "num_blocks = 12\n",
    "transformer_feedforward_dim = 3072\n",
    "dropout_rate = 0.1"
   ]
  },
  {
   "cell_type": "code",
   "execution_count": 17,
   "id": "624cbd1b",
   "metadata": {},
   "outputs": [
    {
     "data": {
      "text/plain": [
       "Labrador(\n",
       "  (categorical_embedding_layer): Embedding(14, 756)\n",
       "  (continuous_embedding_layer): ContinuousEmbedding(\n",
       "    (special_token_embeddings): Embedding(3, 756)\n",
       "    (dense1): Linear(in_features=1, out_features=756, bias=True)\n",
       "    (dense2): Linear(in_features=756, out_features=756, bias=True)\n",
       "    (layernorm): LayerNorm((756,), eps=1e-05, elementwise_affine=True)\n",
       "  )\n",
       "  (projection_layer): Linear(in_features=1512, out_features=756, bias=True)\n",
       "  (blocks): ModuleList(\n",
       "    (0-11): 12 x TransformerBlock(\n",
       "      (att): MultiheadAttention(\n",
       "        (out_proj): NonDynamicallyQuantizableLinear(in_features=756, out_features=756, bias=True)\n",
       "      )\n",
       "      (ffn): Sequential(\n",
       "        (0): Linear(in_features=756, out_features=3072, bias=True)\n",
       "        (1): ReLU()\n",
       "        (2): Linear(in_features=3072, out_features=756, bias=True)\n",
       "      )\n",
       "      (layernorm1): LayerNorm((756,), eps=1e-05, elementwise_affine=True)\n",
       "      (layernorm2): LayerNorm((756,), eps=1e-05, elementwise_affine=True)\n",
       "      (dropout1): Dropout(p=0.1, inplace=False)\n",
       "      (dropout2): Dropout(p=0.1, inplace=False)\n",
       "    )\n",
       "  )\n",
       "  (head): MLMPredictionHead(\n",
       "    (dense_categorical): Linear(in_features=756, out_features=756, bias=True)\n",
       "    (categorical_head): Linear(in_features=756, out_features=11, bias=True)\n",
       "    (dense_continuous): Linear(in_features=767, out_features=767, bias=True)\n",
       "    (continuous_head): Linear(in_features=767, out_features=1, bias=True)\n",
       "    (continuous_head_activation): ReLU()\n",
       "  )\n",
       ")"
      ]
     },
     "execution_count": 17,
     "metadata": {},
     "output_type": "execute_result"
    }
   ],
   "source": [
    "model = Labrador(mask_token=mask_token, pad_token=pad_token, null_token=null_token, vocab_size=vocab_size, embedding_dim=embedding_dim, transformer_heads=transformer_heads, num_blocks=num_blocks, transformer_feedforward_dim=transformer_feedforward_dim, include_head=True, continuous_head_activation='relu', dropout_rate=dropout_rate)\n",
    "model"
   ]
  },
  {
   "cell_type": "markdown",
   "id": "89fd4089",
   "metadata": {},
   "source": [
    "### Train the model"
   ]
  },
  {
   "cell_type": "code",
   "execution_count": 18,
   "id": "b3fe0e3c",
   "metadata": {},
   "outputs": [],
   "source": [
    "tokens = tokenizer.tokenize_batch(lab_ids_train[:5], lab_values_train[:5], max_length=10, return_tensors=\"pt\")\n",
    "lab_id_rand = tokens['input_ids']\n",
    "lab_rand = tokens['continuous']\n",
    "attn_mask_rand = tokens['attention_mask']"
   ]
  },
  {
   "cell_type": "code",
   "execution_count": 20,
   "id": "8604377d",
   "metadata": {},
   "outputs": [
    {
     "data": {
      "text/plain": [
       "{'categorical_output': tensor([[[0.0854, 0.0849, 0.0883, 0.0551, 0.1498, 0.0924, 0.1291, 0.0982,\n",
       "           0.0793, 0.0689, 0.0685],\n",
       "          [0.1020, 0.1050, 0.0908, 0.0733, 0.0933, 0.1017, 0.0906, 0.0874,\n",
       "           0.0907, 0.0793, 0.0859],\n",
       "          [0.0870, 0.0677, 0.0776, 0.0932, 0.1214, 0.0996, 0.1090, 0.0901,\n",
       "           0.0975, 0.0811, 0.0759],\n",
       "          [0.0970, 0.0822, 0.0827, 0.0707, 0.1267, 0.1143, 0.1149, 0.0893,\n",
       "           0.0728, 0.0585, 0.0910],\n",
       "          [0.0953, 0.0708, 0.0691, 0.0713, 0.1112, 0.1236, 0.1140, 0.0962,\n",
       "           0.0898, 0.0671, 0.0917],\n",
       "          [0.1033, 0.0742, 0.0838, 0.0639, 0.1254, 0.1086, 0.1217, 0.0909,\n",
       "           0.0773, 0.0672, 0.0838],\n",
       "          [0.0870, 0.0803, 0.1015, 0.0719, 0.1263, 0.1034, 0.0889, 0.0926,\n",
       "           0.0872, 0.0781, 0.0828],\n",
       "          [0.0819, 0.0707, 0.0864, 0.0588, 0.1192, 0.0846, 0.1407, 0.0968,\n",
       "           0.1020, 0.0832, 0.0756],\n",
       "          [0.0980, 0.0831, 0.1005, 0.0741, 0.1139, 0.0952, 0.1075, 0.0926,\n",
       "           0.0909, 0.0777, 0.0665],\n",
       "          [0.0901, 0.0761, 0.0913, 0.0912, 0.1067, 0.1138, 0.0995, 0.0898,\n",
       "           0.0922, 0.0757, 0.0737]],\n",
       " \n",
       "         [[0.0798, 0.0791, 0.0882, 0.0586, 0.1427, 0.0917, 0.1465, 0.0943,\n",
       "           0.0894, 0.0644, 0.0652],\n",
       "          [0.1049, 0.1029, 0.0815, 0.0747, 0.1040, 0.1119, 0.0754, 0.0950,\n",
       "           0.0890, 0.0714, 0.0895],\n",
       "          [0.1013, 0.0729, 0.0757, 0.0704, 0.1199, 0.1001, 0.1022, 0.1018,\n",
       "           0.1040, 0.0745, 0.0772],\n",
       "          [0.0849, 0.0955, 0.0775, 0.0790, 0.1195, 0.1074, 0.1307, 0.0928,\n",
       "           0.0800, 0.0502, 0.0823],\n",
       "          [0.1011, 0.0889, 0.0698, 0.0687, 0.1312, 0.1049, 0.1206, 0.0908,\n",
       "           0.0810, 0.0548, 0.0881],\n",
       "          [0.1088, 0.0855, 0.0809, 0.0619, 0.1108, 0.0988, 0.1093, 0.0985,\n",
       "           0.0899, 0.0631, 0.0926],\n",
       "          [0.0931, 0.0881, 0.0940, 0.0618, 0.1326, 0.0962, 0.0964, 0.0930,\n",
       "           0.0910, 0.0747, 0.0792],\n",
       "          [0.0934, 0.0697, 0.0873, 0.0640, 0.1366, 0.0840, 0.1319, 0.0906,\n",
       "           0.0945, 0.0699, 0.0781],\n",
       "          [0.0931, 0.0873, 0.0846, 0.0886, 0.1045, 0.1147, 0.1090, 0.0928,\n",
       "           0.0818, 0.0777, 0.0657],\n",
       "          [0.0935, 0.0934, 0.0946, 0.0782, 0.1070, 0.1154, 0.1049, 0.0881,\n",
       "           0.0864, 0.0732, 0.0655]],\n",
       " \n",
       "         [[0.0861, 0.0920, 0.0914, 0.0609, 0.1421, 0.0859, 0.1355, 0.0889,\n",
       "           0.0938, 0.0582, 0.0651],\n",
       "          [0.0988, 0.1022, 0.0928, 0.0747, 0.0777, 0.1106, 0.0976, 0.0927,\n",
       "           0.0996, 0.0750, 0.0783],\n",
       "          [0.0975, 0.0648, 0.0781, 0.0718, 0.1124, 0.1043, 0.1140, 0.1052,\n",
       "           0.1045, 0.0738, 0.0736],\n",
       "          [0.0908, 0.0817, 0.0873, 0.0885, 0.1166, 0.1159, 0.1119, 0.0883,\n",
       "           0.0780, 0.0526, 0.0884],\n",
       "          [0.0852, 0.0937, 0.0782, 0.0684, 0.1286, 0.1021, 0.1152, 0.0843,\n",
       "           0.0845, 0.0666, 0.0934],\n",
       "          [0.1005, 0.0931, 0.0846, 0.0574, 0.1227, 0.1143, 0.1061, 0.0809,\n",
       "           0.0915, 0.0597, 0.0891],\n",
       "          [0.0890, 0.0837, 0.0948, 0.0671, 0.1302, 0.0967, 0.1012, 0.0958,\n",
       "           0.0842, 0.0713, 0.0859],\n",
       "          [0.0905, 0.0713, 0.0881, 0.0607, 0.1475, 0.0762, 0.1192, 0.0983,\n",
       "           0.0960, 0.0866, 0.0655],\n",
       "          [0.0940, 0.0933, 0.1003, 0.0770, 0.1003, 0.1367, 0.0971, 0.0843,\n",
       "           0.0893, 0.0623, 0.0654],\n",
       "          [0.1008, 0.0895, 0.0939, 0.0807, 0.1034, 0.1116, 0.1027, 0.0940,\n",
       "           0.0937, 0.0720, 0.0576]],\n",
       " \n",
       "         [[0.1022, 0.0838, 0.0867, 0.0652, 0.1575, 0.0886, 0.1295, 0.0728,\n",
       "           0.0858, 0.0608, 0.0671],\n",
       "          [0.1019, 0.1031, 0.0886, 0.0611, 0.0958, 0.1241, 0.0891, 0.0915,\n",
       "           0.0887, 0.0775, 0.0786],\n",
       "          [0.1096, 0.0606, 0.0718, 0.0802, 0.1255, 0.0990, 0.1192, 0.0886,\n",
       "           0.1005, 0.0697, 0.0752],\n",
       "          [0.0883, 0.0886, 0.0720, 0.0852, 0.1281, 0.0956, 0.1101, 0.1078,\n",
       "           0.0844, 0.0571, 0.0828],\n",
       "          [0.1011, 0.0882, 0.0727, 0.0655, 0.1139, 0.1110, 0.1262, 0.0974,\n",
       "           0.0829, 0.0588, 0.0824],\n",
       "          [0.0969, 0.0809, 0.0835, 0.0606, 0.1267, 0.1133, 0.1050, 0.0919,\n",
       "           0.0833, 0.0637, 0.0941],\n",
       "          [0.0900, 0.0780, 0.0979, 0.0657, 0.1226, 0.0996, 0.1014, 0.0972,\n",
       "           0.0854, 0.0838, 0.0785],\n",
       "          [0.0860, 0.0778, 0.0776, 0.0713, 0.1337, 0.0765, 0.1307, 0.0902,\n",
       "           0.0908, 0.0861, 0.0792],\n",
       "          [0.0926, 0.0773, 0.0932, 0.0733, 0.1126, 0.1078, 0.1161, 0.0852,\n",
       "           0.0877, 0.0879, 0.0663],\n",
       "          [0.0941, 0.0899, 0.1020, 0.0701, 0.1071, 0.1060, 0.1078, 0.0944,\n",
       "           0.0949, 0.0693, 0.0645]],\n",
       " \n",
       "         [[0.0892, 0.0907, 0.0860, 0.0579, 0.1573, 0.0899, 0.1255, 0.0892,\n",
       "           0.0870, 0.0651, 0.0621],\n",
       "          [0.0888, 0.1093, 0.0856, 0.0804, 0.0903, 0.1141, 0.0841, 0.0851,\n",
       "           0.1002, 0.0692, 0.0929],\n",
       "          [0.1038, 0.0651, 0.0762, 0.0831, 0.1130, 0.0919, 0.0999, 0.1011,\n",
       "           0.1062, 0.0799, 0.0799],\n",
       "          [0.1015, 0.0732, 0.0706, 0.0843, 0.1137, 0.1109, 0.1164, 0.1003,\n",
       "           0.0813, 0.0561, 0.0918],\n",
       "          [0.0832, 0.0937, 0.0676, 0.0685, 0.1325, 0.1079, 0.1083, 0.0882,\n",
       "           0.0871, 0.0630, 0.0999],\n",
       "          [0.0877, 0.0884, 0.0832, 0.0653, 0.1358, 0.1161, 0.0929, 0.0958,\n",
       "           0.0817, 0.0654, 0.0877],\n",
       "          [0.0876, 0.0786, 0.1008, 0.0647, 0.1329, 0.1036, 0.0838, 0.1167,\n",
       "           0.0764, 0.0754, 0.0794],\n",
       "          [0.0948, 0.0670, 0.0890, 0.0571, 0.1183, 0.0775, 0.1450, 0.0996,\n",
       "           0.0846, 0.0824, 0.0846],\n",
       "          [0.0957, 0.0892, 0.0843, 0.0659, 0.1027, 0.1346, 0.0955, 0.1013,\n",
       "           0.0938, 0.0709, 0.0659],\n",
       "          [0.0938, 0.0935, 0.0806, 0.0809, 0.0911, 0.1289, 0.0931, 0.1086,\n",
       "           0.0937, 0.0691, 0.0668]]], grad_fn=<SoftmaxBackward0>),\n",
       " 'continuous_output': tensor([[[0.0000],\n",
       "          [0.0000],\n",
       "          [0.0811],\n",
       "          [0.0000],\n",
       "          [0.0000],\n",
       "          [0.0000],\n",
       "          [0.0000],\n",
       "          [0.0000],\n",
       "          [0.0000],\n",
       "          [0.0000]],\n",
       " \n",
       "         [[0.0000],\n",
       "          [0.0000],\n",
       "          [0.0951],\n",
       "          [0.0000],\n",
       "          [0.0000],\n",
       "          [0.0000],\n",
       "          [0.0000],\n",
       "          [0.0000],\n",
       "          [0.0000],\n",
       "          [0.0000]],\n",
       " \n",
       "         [[0.0000],\n",
       "          [0.0000],\n",
       "          [0.1264],\n",
       "          [0.0000],\n",
       "          [0.0000],\n",
       "          [0.0000],\n",
       "          [0.0000],\n",
       "          [0.0000],\n",
       "          [0.0000],\n",
       "          [0.0000]],\n",
       " \n",
       "         [[0.0000],\n",
       "          [0.0000],\n",
       "          [0.0123],\n",
       "          [0.0000],\n",
       "          [0.0000],\n",
       "          [0.0000],\n",
       "          [0.0000],\n",
       "          [0.0000],\n",
       "          [0.0000],\n",
       "          [0.0000]],\n",
       " \n",
       "         [[0.0000],\n",
       "          [0.0000],\n",
       "          [0.0229],\n",
       "          [0.0000],\n",
       "          [0.0000],\n",
       "          [0.0000],\n",
       "          [0.0008],\n",
       "          [0.0000],\n",
       "          [0.0000],\n",
       "          [0.0000]]], grad_fn=<ReluBackward0>)}"
      ]
     },
     "execution_count": 20,
     "metadata": {},
     "output_type": "execute_result"
    }
   ],
   "source": [
    "# Output: {'categorical_output': tensor of shape (batch_size, max_length, vocab_size), 'continuous_output': tensor of shape (batch_size, max_length, 1)}\n",
    "model(lab_id_rand, lab_rand, attn_mask_rand)"
   ]
  },
  {
   "cell_type": "code",
   "execution_count": null,
   "id": "1ac4990e",
   "metadata": {},
   "outputs": [],
   "source": []
  },
  {
   "cell_type": "code",
   "execution_count": null,
   "id": "ffc59b0c",
   "metadata": {},
   "outputs": [],
   "source": []
  },
  {
   "cell_type": "code",
   "execution_count": null,
   "id": "8bfefe63",
   "metadata": {},
   "outputs": [],
   "source": []
  },
  {
   "cell_type": "code",
   "execution_count": null,
   "id": "23eaf76d",
   "metadata": {},
   "outputs": [],
   "source": []
  },
  {
   "cell_type": "code",
   "execution_count": null,
   "id": "2c629c8c",
   "metadata": {},
   "outputs": [],
   "source": []
  },
  {
   "cell_type": "markdown",
   "id": "4f7f2e3d",
   "metadata": {},
   "source": [
    "### Training"
   ]
  },
  {
   "cell_type": "code",
   "execution_count": 16,
   "id": "cd80a416",
   "metadata": {},
   "outputs": [
    {
     "name": "stderr",
     "output_type": "stream",
     "text": [
      "/home/opc/anaconda3/envs/labrador/lib/python3.9/site-packages/transformers/optimization.py:411: FutureWarning: This implementation of AdamW is deprecated and will be removed in a future version. Use the PyTorch implementation torch.optim.AdamW instead, or set `no_deprecation_warning=True` to disable this warning\n",
      "  warnings.warn(\n",
      "  0%|          | 0/13230 [00:00<?, ?it/s]/home/opc/Labrador/src/dataset.py:56: UserWarning: To copy construct from a tensor, it is recommended to use sourceTensor.clone().detach() or sourceTensor.clone().detach().requires_grad_(True), rather than torch.tensor(sourceTensor).\n",
      "  return {key: torch.tensor(val[idx]) for key, val in self.encodings.items()}\n",
      "Epoch 0: 100%|██████████| 13230/13230 [32:55<00:00,  6.70it/s, loss=0.0821]\n",
      "  0%|          | 0/3308 [00:00<?, ?it/s]/home/opc/Labrador/src/dataset.py:56: UserWarning: To copy construct from a tensor, it is recommended to use sourceTensor.clone().detach() or sourceTensor.clone().detach().requires_grad_(True), rather than torch.tensor(sourceTensor).\n",
      "  return {key: torch.tensor(val[idx]) for key, val in self.encodings.items()}\n",
      "Epoch 0 (Eval): 100%|██████████| 3308/3308 [02:41<00:00, 20.43it/s, loss=0.0781]\n",
      "  0%|          | 0/13230 [00:00<?, ?it/s]/home/opc/Labrador/src/dataset.py:56: UserWarning: To copy construct from a tensor, it is recommended to use sourceTensor.clone().detach() or sourceTensor.clone().detach().requires_grad_(True), rather than torch.tensor(sourceTensor).\n",
      "  return {key: torch.tensor(val[idx]) for key, val in self.encodings.items()}\n",
      "Epoch 1: 100%|██████████| 13230/13230 [32:57<00:00,  6.69it/s, loss=0.0712]\n",
      "  0%|          | 0/3308 [00:00<?, ?it/s]/home/opc/Labrador/src/dataset.py:56: UserWarning: To copy construct from a tensor, it is recommended to use sourceTensor.clone().detach() or sourceTensor.clone().detach().requires_grad_(True), rather than torch.tensor(sourceTensor).\n",
      "  return {key: torch.tensor(val[idx]) for key, val in self.encodings.items()}\n",
      "Epoch 1 (Eval): 100%|██████████| 3308/3308 [02:42<00:00, 20.38it/s, loss=0.0629]\n"
     ]
    },
    {
     "data": {
      "image/png": "[encoded data removed]",
      "text/plain": [
       "<Figure size 640x480 with 1 Axes>"
      ]
     },
     "metadata": {},
     "output_type": "display_data"
    }
   ],
   "source": [
    "train_mlm(model, train_loader, test_loader, device, tokenizer)"
   ]
  },
  {
   "cell_type": "markdown",
   "id": "c3710a9e",
   "metadata": {},
   "source": [
    "### Load model"
   ]
  },
  {
   "cell_type": "code",
   "execution_count": 17,
   "id": "01ccdb8a",
   "metadata": {},
   "outputs": [
    {
     "name": "stderr",
     "output_type": "stream",
     "text": [
      "The tokenizer class you load from this checkpoint is not the same type as the class this function is called from. It may result in unexpected tokenization. \n",
      "The tokenizer class you load from this checkpoint is 'CustomBertTokenizer'. \n",
      "The class this function is called from is 'BertTokenizer'.\n"
     ]
    }
   ],
   "source": [
    "model, tokenizer = load_model(model_path=\"model/\", tokenizer_path=\"tokenizer/\")"
   ]
  },
  {
   "cell_type": "markdown",
   "id": "bb57f5bd",
   "metadata": {},
   "source": [
    "### Generate embeddings"
   ]
  },
  {
   "cell_type": "code",
   "execution_count": 18,
   "id": "9872984d",
   "metadata": {},
   "outputs": [
    {
     "name": "stderr",
     "output_type": "stream",
     "text": [
      "Asking to truncate to max_length but no maximum length is provided and the model has no predefined maximum length. Default to no truncation.\n"
     ]
    },
    {
     "name": "stdout",
     "output_type": "stream",
     "text": [
      "Embeddings Shape: (2, 16, 768)\n",
      "[[[ 0.64982677 -0.10566206 -1.0763104  ... -0.884716   -0.23258324\n",
      "    0.3124034 ]\n",
      "  [ 0.20932955  0.26388958 -0.00180858 ...  0.7378236  -0.09827505\n",
      "    0.77728575]\n",
      "  [-0.68087924 -0.04652615 -0.36006537 ...  0.4278307  -0.20046653\n",
      "    0.08136436]\n",
      "  ...\n",
      "  [-0.5111801  -0.31203678 -0.07627459 ...  0.15283796  0.09480215\n",
      "    0.6543326 ]\n",
      "  [ 0.21486    -0.07867875  0.20442484 ...  0.12487031 -0.2093614\n",
      "   -0.65634257]\n",
      "  [-0.03488328  0.68275726  0.32366392 ... -0.23264171  1.1548079\n",
      "    0.15274379]]\n",
      "\n",
      " [[ 0.63117355 -0.12590797 -1.0669001  ... -0.85015893 -0.24791034\n",
      "    0.3324585 ]\n",
      "  [ 0.338554    0.12149534 -0.15336841 ...  0.74225736 -0.0997276\n",
      "    0.6860133 ]\n",
      "  [-0.29411113 -0.27056044 -0.42256898 ...  0.7843338  -0.27316344\n",
      "    0.03977393]\n",
      "  ...\n",
      "  [-0.2664884   0.14758384  0.2668739  ... -0.05765764 -0.01213734\n",
      "    0.1373523 ]\n",
      "  [-0.19465515  0.19953074  0.2297203  ... -0.07089382 -0.04656379\n",
      "    0.10606101]\n",
      "  [-0.12357531  0.1829904   0.25476268 ... -0.0157154  -0.02435275\n",
      "   -0.09623281]]]\n"
     ]
    }
   ],
   "source": [
    "texts_to_embed = [\"Bic BicAS Crt CrtC Pot PotR Sod SodBI Ure UreG Hgb HgbAQ Plt PltH\", \"Bic BicBD Crt CrtB Pot PotX\"]\n",
    "\n",
    "embeddings = get_embeddings(model, tokenizer, texts_to_embed)\n",
    "print(\"Embeddings Shape:\", embeddings.shape)\n",
    "print(embeddings)"
   ]
  },
  {
   "cell_type": "markdown",
   "id": "47436eae",
   "metadata": {},
   "source": [
    "### Model to Hugging Face"
   ]
  },
  {
   "cell_type": "code",
   "execution_count": 20,
   "id": "16a75496",
   "metadata": {},
   "outputs": [
    {
     "data": {
      "application/vnd.jupyter.widget-view+json": {
       "model_id": "eac0cf70fc524972a9bc6ac6e6742711",
       "version_major": 2,
       "version_minor": 0
      },
      "text/plain": [
       "VBox(children=(HTML(value='<center> <img\\nsrc=https://huggingface.co/front/assets/huggingface_logo-noborder.sv…"
      ]
     },
     "metadata": {},
     "output_type": "display_data"
    }
   ],
   "source": [
    "from huggingface_hub import notebook_login\n",
    "\n",
    "notebook_login()"
   ]
  },
  {
   "cell_type": "code",
   "execution_count": 21,
   "id": "8f18b369",
   "metadata": {},
   "outputs": [
    {
     "data": {
      "application/vnd.jupyter.widget-view+json": {
       "model_id": "5357ac9222ef48cab0a840a369ce2376",
       "version_major": 2,
       "version_minor": 0
      },
      "text/plain": [
       "model.safetensors:   0%|          | 0.00/344M [00:00<?, ?B/s]"
      ]
     },
     "metadata": {},
     "output_type": "display_data"
    },
    {
     "data": {
      "text/plain": [
       "CommitInfo(commit_url='https://huggingface.co/dsrestrepo/BERT_Lab_Values_10B_no_lab_id_no_repetition/commit/740ade6f03a779d4e333d84db85364eab740434a', commit_message='Upload tokenizer', commit_description='', oid='740ade6f03a779d4e333d84db85364eab740434a', pr_url=None, pr_revision=None, pr_num=None)"
      ]
     },
     "execution_count": 21,
     "metadata": {},
     "output_type": "execute_result"
    }
   ],
   "source": [
    "model.push_to_hub(\"dsrestrepo/BERT_Lab_Values_10B_no_lab_id_no_repetition\")\n",
    "tokenizer.push_to_hub('dsrestrepo/BERT_Lab_Values_10B_no_lab_id_no_repetition')"
   ]
  },
  {
   "cell_type": "code",
   "execution_count": null,
   "id": "ed08b65f",
   "metadata": {},
   "outputs": [],
   "source": []
  }
 ],
 "metadata": {
  "kernelspec": {
   "display_name": "labrador",
   "language": "python",
   "name": "python3"
  },
  "language_info": {
   "codemirror_mode": {
    "name": "ipython",
    "version": 3
   },
   "file_extension": ".py",
   "mimetype": "text/x-python",
   "name": "python",
   "nbconvert_exporter": "python",
   "pygments_lexer": "ipython3",
   "version": "3.9.18"
  }
 },
 "nbformat": 4,
 "nbformat_minor": 5
}
