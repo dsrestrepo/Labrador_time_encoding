{
 "cells": [
  {
   "cell_type": "markdown",
   "id": "3594e220",
   "metadata": {},
   "source": [
    "### Labrador Embeddings"
   ]
  },
  {
   "cell_type": "code",
   "execution_count": 1,
   "id": "c8438363",
   "metadata": {},
   "outputs": [],
   "source": [
    "import pandas as pd\n",
    "import torch\n",
    "import numpy as np\n",
    "import torch.nn as nn\n",
    "\n",
    "from src.preprocessing import preprocess_df, TextEncoder\n",
    "from sklearn.model_selection import train_test_split\n",
    "\n",
    "from src.labrador import Labrador\n",
    "from src.tokenizers import LabradorTokenizer\n",
    "from src.dataset import LabradorDataset\n",
    "\n",
    "from src.train import train_labrador\n",
    "from src.test import test_model"
   ]
  },
  {
   "cell_type": "markdown",
   "id": "839103a9",
   "metadata": {},
   "source": [
    "### Constants"
   ]
  },
  {
   "cell_type": "code",
   "execution_count": 2,
   "id": "22c6e50c",
   "metadata": {},
   "outputs": [],
   "source": [
    "# Dataset:\n",
    "FILE = 'data/morning_lab_values.csv'\n",
    "COLUMNS = ['Bic', 'Crt', 'Pot', 'Sod', 'Ure', 'Hgb', 'Plt', 'Wbc']\n",
    "\n",
    "# Device:\n",
    "device = torch.device('cuda') if torch.cuda.is_available() else torch.device('cpu')\n",
    "# device = torch.device('mps') if torch.cuda.is_available() else torch.device('cpu') # Apple Silicon\n",
    "\n",
    "# Data loader: \n",
    "test_size = 0.2\n",
    "batch_size = 512\n",
    "num_workers = 4\n",
    "max_len = 8\n",
    "MASKING = 0.40\n",
    "\n",
    "# Model:\n",
    "embedding_dim = 756\n",
    "hidden_dim = 756\n",
    "transformer_heads = 4 #12\n",
    "num_blocks = 10 #12\n",
    "transformer_feedforward_dim = 1024 #3072\n",
    "dropout_rate = 0.3\n",
    "continuous_head_activation = 'relu'\n",
    "\n",
    "# Training:\n",
    "optimizer = 'Adam'\n",
    "num_epochs = 12\n",
    "save_model = True\n",
    "model_path = 'labrador_model.pth'\n",
    "categorical_loss_weight = 1.0\n",
    "continuous_loss_weight = 1.0\n",
    "lr = 8e-6\n"
   ]
  },
  {
   "cell_type": "markdown",
   "id": "3b42aeb9",
   "metadata": {},
   "source": [
    "### Read dataset"
   ]
  },
  {
   "cell_type": "code",
   "execution_count": 3,
   "id": "50ea9b69",
   "metadata": {},
   "outputs": [
    {
     "data": {
      "text/html": [
       "<div>\n",
       "<style scoped>\n",
       "    .dataframe tbody tr th:only-of-type {\n",
       "        vertical-align: middle;\n",
       "    }\n",
       "\n",
       "    .dataframe tbody tr th {\n",
       "        vertical-align: top;\n",
       "    }\n",
       "\n",
       "    .dataframe thead th {\n",
       "        text-align: right;\n",
       "    }\n",
       "</style>\n",
       "<table border=\"1\" class=\"dataframe\">\n",
       "  <thead>\n",
       "    <tr style=\"text-align: right;\">\n",
       "      <th></th>\n",
       "      <th>hadm_id</th>\n",
       "      <th>subject_id</th>\n",
       "      <th>itemid</th>\n",
       "      <th>charttime</th>\n",
       "      <th>charthour</th>\n",
       "      <th>storetime</th>\n",
       "      <th>storehour</th>\n",
       "      <th>chartday</th>\n",
       "      <th>valuenum</th>\n",
       "      <th>cnt</th>\n",
       "    </tr>\n",
       "  </thead>\n",
       "  <tbody>\n",
       "    <tr>\n",
       "      <th>0</th>\n",
       "      <td>NaN</td>\n",
       "      <td>10312413</td>\n",
       "      <td>51222</td>\n",
       "      <td>2173-06-05 08:20:00</td>\n",
       "      <td>8</td>\n",
       "      <td>2173-06-05 08:47:00</td>\n",
       "      <td>8</td>\n",
       "      <td>2173-06-05</td>\n",
       "      <td>12.8</td>\n",
       "      <td>8</td>\n",
       "    </tr>\n",
       "    <tr>\n",
       "      <th>1</th>\n",
       "      <td>25669789.0</td>\n",
       "      <td>10390828</td>\n",
       "      <td>51222</td>\n",
       "      <td>2181-10-26 07:55:00</td>\n",
       "      <td>7</td>\n",
       "      <td>2181-10-26 08:46:00</td>\n",
       "      <td>8</td>\n",
       "      <td>2181-10-26</td>\n",
       "      <td>9.4</td>\n",
       "      <td>8</td>\n",
       "    </tr>\n",
       "    <tr>\n",
       "      <th>2</th>\n",
       "      <td>26646522.0</td>\n",
       "      <td>10447634</td>\n",
       "      <td>51222</td>\n",
       "      <td>2165-03-07 06:55:00</td>\n",
       "      <td>6</td>\n",
       "      <td>2165-03-07 07:23:00</td>\n",
       "      <td>7</td>\n",
       "      <td>2165-03-07</td>\n",
       "      <td>11.1</td>\n",
       "      <td>8</td>\n",
       "    </tr>\n",
       "    <tr>\n",
       "      <th>3</th>\n",
       "      <td>27308928.0</td>\n",
       "      <td>10784877</td>\n",
       "      <td>51222</td>\n",
       "      <td>2170-05-11 06:00:00</td>\n",
       "      <td>6</td>\n",
       "      <td>2170-05-11 06:43:00</td>\n",
       "      <td>6</td>\n",
       "      <td>2170-05-11</td>\n",
       "      <td>10.3</td>\n",
       "      <td>8</td>\n",
       "    </tr>\n",
       "    <tr>\n",
       "      <th>4</th>\n",
       "      <td>28740988.0</td>\n",
       "      <td>11298819</td>\n",
       "      <td>51222</td>\n",
       "      <td>2142-09-13 07:15:00</td>\n",
       "      <td>7</td>\n",
       "      <td>2142-09-13 09:23:00</td>\n",
       "      <td>9</td>\n",
       "      <td>2142-09-13</td>\n",
       "      <td>10.2</td>\n",
       "      <td>8</td>\n",
       "    </tr>\n",
       "  </tbody>\n",
       "</table>\n",
       "</div>"
      ],
      "text/plain": [
       "      hadm_id  subject_id  itemid            charttime  charthour  \\\n",
       "0         NaN    10312413   51222  2173-06-05 08:20:00          8   \n",
       "1  25669789.0    10390828   51222  2181-10-26 07:55:00          7   \n",
       "2  26646522.0    10447634   51222  2165-03-07 06:55:00          6   \n",
       "3  27308928.0    10784877   51222  2170-05-11 06:00:00          6   \n",
       "4  28740988.0    11298819   51222  2142-09-13 07:15:00          7   \n",
       "\n",
       "             storetime  storehour    chartday  valuenum  cnt  \n",
       "0  2173-06-05 08:47:00          8  2173-06-05      12.8    8  \n",
       "1  2181-10-26 08:46:00          8  2181-10-26       9.4    8  \n",
       "2  2165-03-07 07:23:00          7  2165-03-07      11.1    8  \n",
       "3  2170-05-11 06:43:00          6  2170-05-11      10.3    8  \n",
       "4  2142-09-13 09:23:00          9  2142-09-13      10.2    8  "
      ]
     },
     "execution_count": 3,
     "metadata": {},
     "output_type": "execute_result"
    }
   ],
   "source": [
    "df = pd.read_csv(FILE)\n",
    "df.head()"
   ]
  },
  {
   "cell_type": "markdown",
   "id": "252ee2df",
   "metadata": {},
   "source": [
    "### Preprocessing"
   ]
  },
  {
   "cell_type": "code",
   "execution_count": 4,
   "id": "436ec03d",
   "metadata": {},
   "outputs": [],
   "source": [
    "# MinMaxScaler by default\n",
    "mrl = preprocess_df(df, columns_to_scale=COLUMNS)"
   ]
  },
  {
   "cell_type": "markdown",
   "id": "23ad4f82",
   "metadata": {},
   "source": [
    "### Generate Sequences"
   ]
  },
  {
   "cell_type": "code",
   "execution_count": 5,
   "id": "79463800",
   "metadata": {},
   "outputs": [],
   "source": [
    "# Generate the sequences:\n",
    "text_encoder = TextEncoder(Repetition_id=True, labs_as_num=True, return_lists=True)\n",
    "mrl, grouped_mrl = text_encoder.encode_text(mrl)"
   ]
  },
  {
   "cell_type": "code",
   "execution_count": 6,
   "id": "ce194bf8",
   "metadata": {},
   "outputs": [
    {
     "data": {
      "text/html": [
       "<div>\n",
       "<style scoped>\n",
       "    .dataframe tbody tr th:only-of-type {\n",
       "        vertical-align: middle;\n",
       "    }\n",
       "\n",
       "    .dataframe tbody tr th {\n",
       "        vertical-align: top;\n",
       "    }\n",
       "\n",
       "    .dataframe thead th {\n",
       "        text-align: right;\n",
       "    }\n",
       "</style>\n",
       "<table border=\"1\" class=\"dataframe\">\n",
       "  <thead>\n",
       "    <tr style=\"text-align: right;\">\n",
       "      <th>itemid</th>\n",
       "      <th>subject_id</th>\n",
       "      <th>hadm_id</th>\n",
       "      <th>chartday</th>\n",
       "      <th>Bic</th>\n",
       "      <th>Crt</th>\n",
       "      <th>Pot</th>\n",
       "      <th>Sod</th>\n",
       "      <th>Ure</th>\n",
       "      <th>Hgb</th>\n",
       "      <th>Plt</th>\n",
       "      <th>Wbc</th>\n",
       "      <th>nstr</th>\n",
       "      <th>lab_ids</th>\n",
       "      <th>lab_values</th>\n",
       "    </tr>\n",
       "  </thead>\n",
       "  <tbody>\n",
       "    <tr>\n",
       "      <th>0</th>\n",
       "      <td>10000032</td>\n",
       "      <td>22595853.0</td>\n",
       "      <td>2180-05-07</td>\n",
       "      <td>0.530612</td>\n",
       "      <td>0.007895</td>\n",
       "      <td>0.258621</td>\n",
       "      <td>0.609524</td>\n",
       "      <td>0.088028</td>\n",
       "      <td>0.585253</td>\n",
       "      <td>0.027731</td>\n",
       "      <td>0.004782</td>\n",
       "      <td>Bic 0.5306122448979591 Crt 0.00789473684210526...</td>\n",
       "      <td>[Bic, Crt, Pot, Sod, Ure, Hgb, Plt, Wbc]</td>\n",
       "      <td>[0.5306122448979591, 0.007894736842105262, 0.2...</td>\n",
       "    </tr>\n",
       "    <tr>\n",
       "      <th>1</th>\n",
       "      <td>10000032</td>\n",
       "      <td>22841357.0</td>\n",
       "      <td>2180-06-27</td>\n",
       "      <td>0.469388</td>\n",
       "      <td>0.007895</td>\n",
       "      <td>0.318966</td>\n",
       "      <td>0.504762</td>\n",
       "      <td>0.102113</td>\n",
       "      <td>0.571429</td>\n",
       "      <td>0.055462</td>\n",
       "      <td>0.007515</td>\n",
       "      <td>Bic 0.46938775510204084 Crt 0.0078947368421052...</td>\n",
       "      <td>[Bic, Crt, Pot, Sod, Ure, Hgb, Plt, Wbc]</td>\n",
       "      <td>[0.46938775510204084, 0.007894736842105262, 0....</td>\n",
       "    </tr>\n",
       "    <tr>\n",
       "      <th>2</th>\n",
       "      <td>10000032</td>\n",
       "      <td>25742920.0</td>\n",
       "      <td>2180-08-06</td>\n",
       "      <td>0.489796</td>\n",
       "      <td>0.015789</td>\n",
       "      <td>0.413793</td>\n",
       "      <td>0.504762</td>\n",
       "      <td>0.130282</td>\n",
       "      <td>0.557604</td>\n",
       "      <td>0.053782</td>\n",
       "      <td>0.008539</td>\n",
       "      <td>Bic 0.48979591836734687 Crt 0.0157894736842105...</td>\n",
       "      <td>[Bic, Crt, Pot, Sod, Ure, Hgb, Plt, Wbc]</td>\n",
       "      <td>[0.48979591836734687, 0.015789473684210523, 0....</td>\n",
       "    </tr>\n",
       "  </tbody>\n",
       "</table>\n",
       "</div>"
      ],
      "text/plain": [
       "itemid  subject_id     hadm_id    chartday       Bic       Crt       Pot  \\\n",
       "0         10000032  22595853.0  2180-05-07  0.530612  0.007895  0.258621   \n",
       "1         10000032  22841357.0  2180-06-27  0.469388  0.007895  0.318966   \n",
       "2         10000032  25742920.0  2180-08-06  0.489796  0.015789  0.413793   \n",
       "\n",
       "itemid       Sod       Ure       Hgb       Plt       Wbc  \\\n",
       "0       0.609524  0.088028  0.585253  0.027731  0.004782   \n",
       "1       0.504762  0.102113  0.571429  0.055462  0.007515   \n",
       "2       0.504762  0.130282  0.557604  0.053782  0.008539   \n",
       "\n",
       "itemid                                               nstr  \\\n",
       "0       Bic 0.5306122448979591 Crt 0.00789473684210526...   \n",
       "1       Bic 0.46938775510204084 Crt 0.0078947368421052...   \n",
       "2       Bic 0.48979591836734687 Crt 0.0157894736842105...   \n",
       "\n",
       "itemid                                   lab_ids  \\\n",
       "0       [Bic, Crt, Pot, Sod, Ure, Hgb, Plt, Wbc]   \n",
       "1       [Bic, Crt, Pot, Sod, Ure, Hgb, Plt, Wbc]   \n",
       "2       [Bic, Crt, Pot, Sod, Ure, Hgb, Plt, Wbc]   \n",
       "\n",
       "itemid                                         lab_values  \n",
       "0       [0.5306122448979591, 0.007894736842105262, 0.2...  \n",
       "1       [0.46938775510204084, 0.007894736842105262, 0....  \n",
       "2       [0.48979591836734687, 0.015789473684210523, 0....  "
      ]
     },
     "execution_count": 6,
     "metadata": {},
     "output_type": "execute_result"
    }
   ],
   "source": [
    "mrl.head(3)"
   ]
  },
  {
   "cell_type": "code",
   "execution_count": 7,
   "id": "feaf927d",
   "metadata": {},
   "outputs": [
    {
     "data": {
      "text/html": [
       "<div>\n",
       "<style scoped>\n",
       "    .dataframe tbody tr th:only-of-type {\n",
       "        vertical-align: middle;\n",
       "    }\n",
       "\n",
       "    .dataframe tbody tr th {\n",
       "        vertical-align: top;\n",
       "    }\n",
       "\n",
       "    .dataframe thead th {\n",
       "        text-align: right;\n",
       "    }\n",
       "</style>\n",
       "<table border=\"1\" class=\"dataframe\">\n",
       "  <thead>\n",
       "    <tr style=\"text-align: right;\">\n",
       "      <th></th>\n",
       "      <th>hadm_id</th>\n",
       "      <th>nstr</th>\n",
       "      <th>lab_ids</th>\n",
       "      <th>lab_values</th>\n",
       "    </tr>\n",
       "  </thead>\n",
       "  <tbody>\n",
       "    <tr>\n",
       "      <th>0</th>\n",
       "      <td>20000019.0</td>\n",
       "      <td>[Bic 0.4489795918367347 Crt 0.0289473684210526...</td>\n",
       "      <td>[Bic, Crt, Pot, Sod, Ure, Hgb, Plt, Wbc]</td>\n",
       "      <td>[0.4489795918367347, 0.02894736842105263, 0.17...</td>\n",
       "    </tr>\n",
       "    <tr>\n",
       "      <th>1</th>\n",
       "      <td>20000024.0</td>\n",
       "      <td>[Bic 0.46938775510204084 Crt 0.028947368421052...</td>\n",
       "      <td>[Bic, Crt, Pot, Sod, Ure, Hgb, Plt, Wbc]</td>\n",
       "      <td>[0.46938775510204084, 0.02894736842105263, 0.3...</td>\n",
       "    </tr>\n",
       "    <tr>\n",
       "      <th>2</th>\n",
       "      <td>20000034.0</td>\n",
       "      <td>[Bic 0.4489795918367347 Crt 0.0605263157894736...</td>\n",
       "      <td>[Bic, Crt, Pot, Sod, Ure, Hgb, Plt, Wbc]</td>\n",
       "      <td>[0.4489795918367347, 0.06052631578947368, 0.28...</td>\n",
       "    </tr>\n",
       "  </tbody>\n",
       "</table>\n",
       "</div>"
      ],
      "text/plain": [
       "      hadm_id                                               nstr  \\\n",
       "0  20000019.0  [Bic 0.4489795918367347 Crt 0.0289473684210526...   \n",
       "1  20000024.0  [Bic 0.46938775510204084 Crt 0.028947368421052...   \n",
       "2  20000034.0  [Bic 0.4489795918367347 Crt 0.0605263157894736...   \n",
       "\n",
       "                                    lab_ids  \\\n",
       "0  [Bic, Crt, Pot, Sod, Ure, Hgb, Plt, Wbc]   \n",
       "1  [Bic, Crt, Pot, Sod, Ure, Hgb, Plt, Wbc]   \n",
       "2  [Bic, Crt, Pot, Sod, Ure, Hgb, Plt, Wbc]   \n",
       "\n",
       "                                          lab_values  \n",
       "0  [0.4489795918367347, 0.02894736842105263, 0.17...  \n",
       "1  [0.46938775510204084, 0.02894736842105263, 0.3...  \n",
       "2  [0.4489795918367347, 0.06052631578947368, 0.28...  "
      ]
     },
     "execution_count": 7,
     "metadata": {},
     "output_type": "execute_result"
    }
   ],
   "source": [
    "# See the largest element in: \n",
    "grouped_mrl.head(3)"
   ]
  },
  {
   "cell_type": "markdown",
   "id": "7f92fa35",
   "metadata": {},
   "source": [
    "#### Train and Test Split"
   ]
  },
  {
   "cell_type": "code",
   "execution_count": 8,
   "id": "02b3f7d9",
   "metadata": {},
   "outputs": [],
   "source": [
    "lab_ids = grouped_mrl.lab_ids.values\n",
    "lab_values = grouped_mrl.lab_values.values\n",
    "\n",
    "lab_ids_train, lab_ids_test, lab_values_train, lab_values_test = train_test_split(lab_ids, lab_values, test_size=test_size, random_state=42)"
   ]
  },
  {
   "cell_type": "markdown",
   "id": "1b42ae57",
   "metadata": {},
   "source": [
    "#### Tokenize"
   ]
  },
  {
   "cell_type": "code",
   "execution_count": 9,
   "id": "a5da3a70",
   "metadata": {},
   "outputs": [],
   "source": [
    "tokenizer = LabradorTokenizer()\n",
    "# Get unique lab ids:\n",
    "unique_ids = set(np.concatenate(lab_ids_train))\n",
    "# train the tokenizer:\n",
    "tokenizer.train(unique_ids)"
   ]
  },
  {
   "cell_type": "code",
   "execution_count": 10,
   "id": "ab6ff1fb",
   "metadata": {},
   "outputs": [
    {
     "data": {
      "text/plain": [
       "{'input_ids': array([[ 7,  0,  6,  5,  4,  2,  3,  1, 10, 10],\n",
       "        [ 7,  0,  6,  5,  4,  2,  3,  1, 10, 10],\n",
       "        [ 7,  0,  6,  5,  4,  2,  3,  1, 10, 10],\n",
       "        [ 7,  0,  6,  5,  4,  2,  3,  1, 10, 10],\n",
       "        [ 7,  0,  6,  5,  4,  2,  3,  1, 10, 10]]),\n",
       " 'continuous': array([[6.73469388e-01, 7.89473684e-02, 1.46551724e-01, 6.09523810e-01,\n",
       "         3.80281690e-01, 6.31336406e-01, 4.15966387e-02, 6.94523511e-03,\n",
       "         1.00000000e+01, 1.00000000e+01],\n",
       "        [6.12244898e-01, 2.89473684e-02, 1.37931034e-01, 7.04761905e-01,\n",
       "         9.85915493e-02, 3.50230415e-01, 7.85714286e-02, 1.04747808e-02,\n",
       "         1.00000000e+01, 1.00000000e+01],\n",
       "        [5.30612245e-01, 2.10526316e-02, 2.06896552e-01, 6.28571429e-01,\n",
       "         5.63380282e-02, 4.42396313e-01, 1.18067227e-01, 1.04747808e-02,\n",
       "         1.00000000e+01, 1.00000000e+01],\n",
       "        [4.48979592e-01, 1.84210526e-02, 2.32758621e-01, 6.28571429e-01,\n",
       "         3.16901408e-02, 6.77419355e-01, 1.07983193e-01, 1.04747808e-02,\n",
       "         1.00000000e+01, 1.00000000e+01],\n",
       "        [4.48979592e-01, 4.47368421e-02, 3.10344828e-01, 6.00000000e-01,\n",
       "         1.40845070e-01, 5.11520737e-01, 1.05462185e-01, 2.25435500e-02,\n",
       "         1.00000000e+01, 1.00000000e+01]]),\n",
       " 'attention_mask': array([[1, 1, 1, 1, 1, 1, 1, 1, 0, 0],\n",
       "        [1, 1, 1, 1, 1, 1, 1, 1, 0, 0],\n",
       "        [1, 1, 1, 1, 1, 1, 1, 1, 0, 0],\n",
       "        [1, 1, 1, 1, 1, 1, 1, 1, 0, 0],\n",
       "        [1, 1, 1, 1, 1, 1, 1, 1, 0, 0]])}"
      ]
     },
     "execution_count": 10,
     "metadata": {},
     "output_type": "execute_result"
    }
   ],
   "source": [
    "# Example of how to use the tokenizer:\n",
    "tokenizer.tokenize_batch(lab_ids_train[:5], lab_values_train[:5], max_length=10)"
   ]
  },
  {
   "cell_type": "markdown",
   "id": "f4b7d54c",
   "metadata": {},
   "source": [
    "### Dataloader"
   ]
  },
  {
   "cell_type": "code",
   "execution_count": 11,
   "id": "62fbb38b",
   "metadata": {},
   "outputs": [
    {
     "name": "stdout",
     "output_type": "stream",
     "text": [
      "{'[MASK]': 8, '[NULL]': 9, '[PAD]': 10, 'Crt': 0, 'Wbc': 1, 'Hgb': 2, 'Plt': 3, 'Ure': 4, 'Sod': 5, 'Pot': 6, 'Bic': 7}\n",
      "{'[MASK]': 8, '[NULL]': 9, '[PAD]': 10, 'Crt': 0, 'Wbc': 1, 'Hgb': 2, 'Plt': 3, 'Ure': 4, 'Sod': 5, 'Pot': 6, 'Bic': 7}\n"
     ]
    }
   ],
   "source": [
    "dataset_train = LabradorDataset(continuous=lab_values_train, categorical=lab_ids_train, tokenizer=tokenizer, max_len=max_len, masking_prob=MASKING)\n",
    "dataset_test = LabradorDataset(continuous=lab_values_test, categorical=lab_ids_test, tokenizer=tokenizer, max_len=max_len, masking_prob=MASKING)\n",
    "\n",
    "# Dataloader:\n",
    "train_loader = torch.utils.data.DataLoader(dataset_train, batch_size=batch_size, shuffle=True, num_workers=num_workers)\n",
    "test_loader = torch.utils.data.DataLoader(dataset_test, batch_size=batch_size, shuffle=True, num_workers=num_workers)"
   ]
  },
  {
   "cell_type": "markdown",
   "id": "8c6c9123",
   "metadata": {},
   "source": [
    "### Model"
   ]
  },
  {
   "cell_type": "code",
   "execution_count": 12,
   "id": "d5ed51c1",
   "metadata": {},
   "outputs": [],
   "source": [
    "mask_token = tokenizer.mask_token #-1\n",
    "null_token = tokenizer.null_token #-2\n",
    "pad_token = tokenizer.pad_token #-3\n",
    "vocab_size = tokenizer.vocab_size()"
   ]
  },
  {
   "cell_type": "code",
   "execution_count": 13,
   "id": "624cbd1b",
   "metadata": {},
   "outputs": [
    {
     "data": {
      "text/plain": [
       "Labrador(\n",
       "  (categorical_embedding_layer): Embedding(14, 756)\n",
       "  (continuous_embedding_layer): ContinuousEmbedding(\n",
       "    (special_token_embeddings): Embedding(3, 756)\n",
       "    (dense1): Linear(in_features=1, out_features=756, bias=True)\n",
       "    (dense2): Linear(in_features=756, out_features=756, bias=True)\n",
       "    (layernorm): LayerNorm((756,), eps=1e-05, elementwise_affine=True)\n",
       "  )\n",
       "  (projection_layer): Linear(in_features=1512, out_features=756, bias=True)\n",
       "  (blocks): ModuleList(\n",
       "    (0-9): 10 x TransformerBlock(\n",
       "      (att): MultiheadAttention(\n",
       "        (out_proj): NonDynamicallyQuantizableLinear(in_features=756, out_features=756, bias=True)\n",
       "      )\n",
       "      (ffn): Sequential(\n",
       "        (0): Linear(in_features=756, out_features=1024, bias=True)\n",
       "        (1): ReLU()\n",
       "        (2): Linear(in_features=1024, out_features=756, bias=True)\n",
       "      )\n",
       "      (layernorm1): LayerNorm((756,), eps=1e-05, elementwise_affine=True)\n",
       "      (layernorm2): LayerNorm((756,), eps=1e-05, elementwise_affine=True)\n",
       "      (dropout1): Dropout(p=0.3, inplace=False)\n",
       "      (dropout2): Dropout(p=0.3, inplace=False)\n",
       "    )\n",
       "  )\n",
       "  (head): MLMPredictionHead(\n",
       "    (dense_categorical): Linear(in_features=756, out_features=756, bias=True)\n",
       "    (categorical_head): Linear(in_features=756, out_features=11, bias=True)\n",
       "    (dense_continuous): Linear(in_features=767, out_features=767, bias=True)\n",
       "    (continuous_head): Linear(in_features=767, out_features=1, bias=True)\n",
       "    (continuous_head_activation): ReLU()\n",
       "  )\n",
       ")"
      ]
     },
     "execution_count": 13,
     "metadata": {},
     "output_type": "execute_result"
    }
   ],
   "source": [
    "model = Labrador(mask_token=mask_token, pad_token=pad_token, null_token=null_token, vocab_size=vocab_size, embedding_dim=embedding_dim, transformer_heads=transformer_heads, num_blocks=num_blocks, transformer_feedforward_dim=transformer_feedforward_dim, include_head=True, continuous_head_activation=continuous_head_activation, dropout_rate=dropout_rate)\n",
    "model"
   ]
  },
  {
   "cell_type": "markdown",
   "id": "89fd4089",
   "metadata": {},
   "source": [
    "### Train the model"
   ]
  },
  {
   "cell_type": "code",
   "execution_count": 14,
   "id": "145b5fbe",
   "metadata": {},
   "outputs": [],
   "source": [
    "# Loss functions\n",
    "categorical_loss_fn = nn.CrossEntropyLoss()\n",
    "continuous_loss_fn = nn.MSELoss()"
   ]
  },
  {
   "cell_type": "code",
   "execution_count": 15,
   "id": "3f1eacdb",
   "metadata": {},
   "outputs": [
    {
     "name": "stderr",
     "output_type": "stream",
     "text": [
      "100%|██████████| 414/414 [01:15<00:00,  5.50it/s]\n",
      "100%|██████████| 104/104 [00:06<00:00, 16.97it/s]\n"
     ]
    },
    {
     "name": "stdout",
     "output_type": "stream",
     "text": [
      "Epoch 1/12, Training Loss: 2.2413588736368264, Validation Loss: 1.9858163801523356\n"
     ]
    },
    {
     "name": "stderr",
     "output_type": "stream",
     "text": [
      "100%|██████████| 414/414 [01:15<00:00,  5.51it/s]\n",
      "100%|██████████| 104/104 [00:06<00:00, 16.87it/s]\n"
     ]
    },
    {
     "name": "stdout",
     "output_type": "stream",
     "text": [
      "Epoch 2/12, Training Loss: 1.9672557993787498, Validation Loss: 1.9439135159437473\n"
     ]
    },
    {
     "name": "stderr",
     "output_type": "stream",
     "text": [
      "100%|██████████| 414/414 [01:15<00:00,  5.50it/s]\n",
      "100%|██████████| 104/104 [00:06<00:00, 16.87it/s]\n"
     ]
    },
    {
     "name": "stdout",
     "output_type": "stream",
     "text": [
      "Epoch 3/12, Training Loss: 1.940094983232194, Validation Loss: 1.926604790183214\n"
     ]
    },
    {
     "name": "stderr",
     "output_type": "stream",
     "text": [
      "100%|██████████| 414/414 [01:15<00:00,  5.50it/s]\n",
      "100%|██████████| 104/104 [00:06<00:00, 17.02it/s]\n"
     ]
    },
    {
     "name": "stdout",
     "output_type": "stream",
     "text": [
      "Epoch 4/12, Training Loss: 1.932235980667354, Validation Loss: 1.934294195129321\n"
     ]
    },
    {
     "name": "stderr",
     "output_type": "stream",
     "text": [
      "100%|██████████| 414/414 [01:15<00:00,  5.51it/s]\n",
      "100%|██████████| 104/104 [00:06<00:00, 16.88it/s]\n"
     ]
    },
    {
     "name": "stdout",
     "output_type": "stream",
     "text": [
      "Epoch 5/12, Training Loss: 1.9290834495410827, Validation Loss: 1.9242398887872696\n"
     ]
    },
    {
     "name": "stderr",
     "output_type": "stream",
     "text": [
      "100%|██████████| 414/414 [01:15<00:00,  5.50it/s]\n",
      "100%|██████████| 104/104 [00:06<00:00, 17.02it/s]\n"
     ]
    },
    {
     "name": "stdout",
     "output_type": "stream",
     "text": [
      "Epoch 6/12, Training Loss: 1.9249660637643602, Validation Loss: 1.919661739697823\n"
     ]
    },
    {
     "name": "stderr",
     "output_type": "stream",
     "text": [
      "100%|██████████| 414/414 [01:15<00:00,  5.51it/s]\n",
      "100%|██████████| 104/104 [00:06<00:00, 16.86it/s]\n"
     ]
    },
    {
     "name": "stdout",
     "output_type": "stream",
     "text": [
      "Epoch 7/12, Training Loss: 1.9218617395502358, Validation Loss: 1.9246218777619875\n"
     ]
    },
    {
     "name": "stderr",
     "output_type": "stream",
     "text": [
      "100%|██████████| 414/414 [01:15<00:00,  5.49it/s]\n",
      "100%|██████████| 104/104 [00:06<00:00, 16.92it/s]\n"
     ]
    },
    {
     "name": "stdout",
     "output_type": "stream",
     "text": [
      "Epoch 8/12, Training Loss: 1.9230684327042622, Validation Loss: 1.9177280091322386\n"
     ]
    },
    {
     "name": "stderr",
     "output_type": "stream",
     "text": [
      "100%|██████████| 414/414 [01:15<00:00,  5.51it/s]\n",
      "100%|██████████| 104/104 [00:06<00:00, 16.98it/s]\n"
     ]
    },
    {
     "name": "stdout",
     "output_type": "stream",
     "text": [
      "Epoch 9/12, Training Loss: 1.920074728951938, Validation Loss: 1.915937262085768\n"
     ]
    },
    {
     "name": "stderr",
     "output_type": "stream",
     "text": [
      "100%|██████████| 414/414 [01:15<00:00,  5.49it/s]\n",
      "100%|██████████| 104/104 [00:06<00:00, 16.81it/s]\n"
     ]
    },
    {
     "name": "stdout",
     "output_type": "stream",
     "text": [
      "Epoch 10/12, Training Loss: 1.920303461632291, Validation Loss: 1.9146514534950256\n"
     ]
    },
    {
     "name": "stderr",
     "output_type": "stream",
     "text": [
      "100%|██████████| 414/414 [01:15<00:00,  5.49it/s]\n",
      "100%|██████████| 104/104 [00:06<00:00, 16.94it/s]\n"
     ]
    },
    {
     "name": "stdout",
     "output_type": "stream",
     "text": [
      "Epoch 11/12, Training Loss: 1.91868687885395, Validation Loss: 1.9168558487525353\n"
     ]
    },
    {
     "name": "stderr",
     "output_type": "stream",
     "text": [
      "100%|██████████| 414/414 [01:15<00:00,  5.51it/s]\n",
      "100%|██████████| 104/104 [00:06<00:00, 16.85it/s]\n"
     ]
    },
    {
     "name": "stdout",
     "output_type": "stream",
     "text": [
      "Epoch 12/12, Training Loss: 1.9190885214413997, Validation Loss: 1.9156311119978244\n"
     ]
    },
    {
     "data": {
      "image/png": "[encoded data removed]",
      "text/plain": [
       "<Figure size 1200x800 with 2 Axes>"
      ]
     },
     "metadata": {},
     "output_type": "display_data"
    }
   ],
   "source": [
    "# Train and validate the model\n",
    "trained_model = train_labrador(model, train_loader, test_loader, categorical_loss_fn, continuous_loss_fn, optimizer=optimizer, num_epochs=num_epochs, device=device, save_model=save_model, model_path=model_path, categorical_loss_weight=categorical_loss_weight, continuous_loss_weight=continuous_loss_weight, lr=lr)"
   ]
  },
  {
   "cell_type": "code",
   "execution_count": null,
   "id": "8713e374",
   "metadata": {},
   "outputs": [],
   "source": [
    "# Save tokenizer\n",
    "tokenizer.save_pretrained('labrador_tokenizer/')"
   ]
  },
  {
   "cell_type": "markdown",
   "id": "c88031f0",
   "metadata": {},
   "source": [
    "### Test the model"
   ]
  },
  {
   "cell_type": "code",
   "execution_count": 16,
   "id": "b58e682d",
   "metadata": {},
   "outputs": [
    {
     "name": "stdout",
     "output_type": "stream",
     "text": [
      "{'[MASK]': 8, '[NULL]': 9, '[PAD]': 10, 'Crt': 0, 'Wbc': 1, 'Hgb': 2, 'Plt': 3, 'Ure': 4, 'Sod': 5, 'Pot': 6, 'Bic': 7}\n"
     ]
    }
   ],
   "source": [
    "dataset_test = LabradorDataset(continuous=lab_values_test, categorical=lab_ids_test, tokenizer=tokenizer, max_len=max_len, masking_prob=0)\n",
    "# Dataloader:\n",
    "test_loader = torch.utils.data.DataLoader(dataset_test, batch_size=batch_size, shuffle=False, num_workers=num_workers)"
   ]
  },
  {
   "cell_type": "code",
   "execution_count": 21,
   "id": "9b2cb6ec",
   "metadata": {},
   "outputs": [
    {
     "name": "stderr",
     "output_type": "stream",
     "text": [
      "100%|██████████| 104/104 [00:05<00:00, 17.47it/s]\n",
      "100%|██████████| 104/104 [00:05<00:00, 17.49it/s]\n",
      "100%|██████████| 104/104 [00:05<00:00, 17.45it/s]\n",
      "100%|██████████| 104/104 [00:05<00:00, 17.44it/s]\n",
      "100%|██████████| 104/104 [00:05<00:00, 17.36it/s]\n",
      "100%|██████████| 104/104 [00:05<00:00, 17.35it/s]\n",
      "100%|██████████| 104/104 [00:06<00:00, 17.31it/s]\n",
      "100%|██████████| 104/104 [00:05<00:00, 17.37it/s]\n"
     ]
    },
    {
     "data": {
      "text/plain": [
       "{'Bic': {'rmse': [0.086016738195594],\n",
       "  'mae': [0.06613384850597469],\n",
       "  'r2': [-0.20131242006529027]},\n",
       " 'Crt': {'rmse': [0.042110525297904704],\n",
       "  'mae': [0.020773371241305585],\n",
       "  'r2': [-0.08753747856980088]},\n",
       " 'Pot': {'rmse': [0.04585034396300611],\n",
       "  'mae': [0.034253659384675235],\n",
       "  'r2': [0.012102459024660561]},\n",
       " 'Sod': {'rmse': [0.06622855158581785],\n",
       "  'mae': [0.05665971828306621],\n",
       "  'r2': [-2.086504283292569]},\n",
       " 'Ure': {'rmse': [0.0637500391866958],\n",
       "  'mae': [0.03618826496614874],\n",
       "  'r2': [-0.06523546560134696]},\n",
       " 'Hgb': {'rmse': [0.09948469824450878],\n",
       "  'mae': [0.08100428777511412],\n",
       "  'r2': [-0.10704083890135707]},\n",
       " 'Plt': {'rmse': [0.049975810210515205],\n",
       "  'mae': [0.03447125158892357],\n",
       "  'r2': [-0.1474695135895432]},\n",
       " 'Wbc': {'rmse': [0.012445089987730659],\n",
       "  'mae': [0.00985360168744061],\n",
       "  'r2': [-1.6802015094659697]}}"
      ]
     },
     "execution_count": 21,
     "metadata": {},
     "output_type": "execute_result"
    }
   ],
   "source": [
    "test_model(trained_model, test_loader, device, COLUMNS)"
   ]
  },
  {
   "cell_type": "markdown",
   "id": "930a5683",
   "metadata": {},
   "source": [
    "##### Push to HuggingFace (Optional)"
   ]
  },
  {
   "cell_type": "code",
   "execution_count": 26,
   "id": "0312956e",
   "metadata": {},
   "outputs": [
    {
     "data": {
      "application/vnd.jupyter.widget-view+json": {
       "model_id": "c0c9a560bc714884ba290e898f8b0dc3",
       "version_major": 2,
       "version_minor": 0
      },
      "text/plain": [
       "labrador_model.pth:   0%|          | 0.00/165M [00:00<?, ?B/s]"
      ]
     },
     "metadata": {},
     "output_type": "display_data"
    },
    {
     "data": {
      "text/plain": [
       "'https://huggingface.co/dsrestrepo/Labrador_pt/blob/main/tokenizer_config.json'"
      ]
     },
     "execution_count": 26,
     "metadata": {},
     "output_type": "execute_result"
    }
   ],
   "source": [
    "from huggingface_hub import notebook_login\n",
    "from huggingface_hub import upload_file\n",
    "from huggingface_hub import HfApi, HfFolder\n",
    "\n",
    "notebook_login()\n",
    "\n",
    "api = HfApi()\n",
    "\n",
    "model_path = \"labrador_model.pth\"\n",
    "tokenizer_config_path = \"labrador_tokenizer/tokenizer_config.json\"\n",
    "\n",
    "repo_id = \"dsrestrepo/Labrador_pt\"\n",
    "repo_url = f\"https://huggingface.co/{repo_id}\"\n",
    "\n",
    "# Upload the model\n",
    "upload_file(path_or_fileobj=model_path, path_in_repo=\"labrador_model.pth\", repo_id=repo_id, token=HfFolder.get_token())\n",
    "\n",
    "# Upload the tokenizer configuration\n",
    "upload_file(path_or_fileobj=tokenizer_config_path, path_in_repo=\"tokenizer_config.json\", repo_id=repo_id, token=HfFolder.get_token())\n"
   ]
  },
  {
   "cell_type": "code",
   "execution_count": null,
   "id": "cd78e5ce",
   "metadata": {},
   "outputs": [],
   "source": []
  }
 ],
 "metadata": {
  "kernelspec": {
   "display_name": "labrador",
   "language": "python",
   "name": "python3"
  },
  "language_info": {
   "codemirror_mode": {
    "name": "ipython",
    "version": 3
   },
   "file_extension": ".py",
   "mimetype": "text/x-python",
   "name": "python",
   "nbconvert_exporter": "python",
   "pygments_lexer": "ipython3",
   "version": "3.9.18"
  }
 },
 "nbformat": 4,
 "nbformat_minor": 5
}
