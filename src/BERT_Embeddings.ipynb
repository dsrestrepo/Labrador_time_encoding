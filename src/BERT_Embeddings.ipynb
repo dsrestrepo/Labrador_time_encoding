{
  "cells": [
    {
      "cell_type": "code",
      "execution_count": 1,
      "metadata": {
        "colab": {
          "base_uri": "https://localhost:8080/"
        },
        "id": "y5TmEYvWCM0_",
        "outputId": "1c15c15e-1e92-4d2c-b03e-b3db4e60fff3"
      },
      "outputs": [],
      "source": [
        "import matplotlib.pyplot as plt\n",
        "import pandas as pd\n",
        "import numpy as np\n",
        "from sklearn.preprocessing import MinMaxScaler\n",
        "\n",
        "import torch\n",
        "from transformers import BertTokenizer, BertForMaskedLM\n",
        "from transformers import AdamW\n",
        "from tqdm import tqdm\n",
        "\n",
        "#from google.colab import drive\n",
        "#drive.mount('/content/drive')"
      ]
    },
    {
      "cell_type": "markdown",
      "metadata": {
        "id": "wnlvrhwrabdS"
      },
      "source": [
        "### Big Query Integration:\n",
        "```\n",
        "%%bigquery morningroutinelab --project Cancer-Causal\n",
        "WITH cohort AS (\n",
        "  SELECT\n",
        "    hadm_id,\n",
        "    subject_id,\n",
        "    itemid,\n",
        "    charttime,\n",
        "    EXTRACT(HOUR FROM charttime) AS charthour,\n",
        "    storetime,\n",
        "    EXTRACT(HOUR FROM storetime) AS storehour,\n",
        "    EXTRACT(DATE FROM charttime) AS chartday,\n",
        "    valuenum\n",
        "  FROM\n",
        "    `physionet-data.mimiciv_hosp.labevents`\n",
        "  WHERE EXTRACT(HOUR FROM charttime) BETWEEN 5 AND 8\n",
        "    AND itemid IN (50912, 51265, 51222, 51301, 51006, 50983, 50882, 50971)\n",
        "),\n",
        "patdailycnt AS (\n",
        "  SELECT\n",
        "    subject_id,\n",
        "    chartday,\n",
        "    COUNT(DISTINCT itemid) AS cnt\n",
        "  FROM cohort where SAFE_CAST(valuenum AS FLOAT64) IS NOT NULL AND valuenum IS NOT NULL\n",
        "  GROUP BY subject_id, chartday\n",
        ")\n",
        "  SELECT cohort.*,patdailycnt.cnt\n",
        "  FROM cohort\n",
        "  RIGHT JOIN patdailycnt\n",
        "  ON cohort.subject_id = patdailycnt.subject_id AND cohort.chartday = patdailycnt.chartday\n",
        "  WHERE patdailycnt.cnt = 8\n",
        "  ```"
      ]
    },
    {
      "cell_type": "code",
      "execution_count": 2,
      "metadata": {
        "colab": {
          "base_uri": "https://localhost:8080/"
        },
        "id": "FKTdEz1XbInW",
        "outputId": "ed863b22-3947-4481-b608-e1d6bdc49f50"
      },
      "outputs": [],
      "source": [
        "### I'll read the dataset froma csv file\n",
        "#%cd '/content/drive/MyDrive/lab_values'\n",
        "FILE = 'morningroutinelab.csv'\n",
        "\n",
        "morningroutinelab = pd.read_csv(FILE)"
      ]
    },
    {
      "cell_type": "code",
      "execution_count": 3,
      "metadata": {
        "colab": {
          "base_uri": "https://localhost:8080/",
          "height": 206
        },
        "id": "nr_W_-j_CQ5X",
        "outputId": "47867ebb-e016-4267-f021-0e6fea385ad6"
      },
      "outputs": [
        {
          "data": {
            "text/html": [
              "<div>\n",
              "<style scoped>\n",
              "    .dataframe tbody tr th:only-of-type {\n",
              "        vertical-align: middle;\n",
              "    }\n",
              "\n",
              "    .dataframe tbody tr th {\n",
              "        vertical-align: top;\n",
              "    }\n",
              "\n",
              "    .dataframe thead th {\n",
              "        text-align: right;\n",
              "    }\n",
              "</style>\n",
              "<table border=\"1\" class=\"dataframe\">\n",
              "  <thead>\n",
              "    <tr style=\"text-align: right;\">\n",
              "      <th></th>\n",
              "      <th>hadm_id</th>\n",
              "      <th>subject_id</th>\n",
              "      <th>itemid</th>\n",
              "      <th>charttime</th>\n",
              "      <th>charthour</th>\n",
              "      <th>storetime</th>\n",
              "      <th>storehour</th>\n",
              "      <th>chartday</th>\n",
              "      <th>valuenum</th>\n",
              "      <th>cnt</th>\n",
              "    </tr>\n",
              "  </thead>\n",
              "  <tbody>\n",
              "    <tr>\n",
              "      <th>0</th>\n",
              "      <td>NaN</td>\n",
              "      <td>10312413</td>\n",
              "      <td>51222</td>\n",
              "      <td>2173-06-05 08:20:00</td>\n",
              "      <td>8</td>\n",
              "      <td>2173-06-05 08:47:00</td>\n",
              "      <td>8</td>\n",
              "      <td>2173-06-05</td>\n",
              "      <td>12.8</td>\n",
              "      <td>8</td>\n",
              "    </tr>\n",
              "    <tr>\n",
              "      <th>1</th>\n",
              "      <td>25669789.0</td>\n",
              "      <td>10390828</td>\n",
              "      <td>51222</td>\n",
              "      <td>2181-10-26 07:55:00</td>\n",
              "      <td>7</td>\n",
              "      <td>2181-10-26 08:46:00</td>\n",
              "      <td>8</td>\n",
              "      <td>2181-10-26</td>\n",
              "      <td>9.4</td>\n",
              "      <td>8</td>\n",
              "    </tr>\n",
              "    <tr>\n",
              "      <th>2</th>\n",
              "      <td>26646522.0</td>\n",
              "      <td>10447634</td>\n",
              "      <td>51222</td>\n",
              "      <td>2165-03-07 06:55:00</td>\n",
              "      <td>6</td>\n",
              "      <td>2165-03-07 07:23:00</td>\n",
              "      <td>7</td>\n",
              "      <td>2165-03-07</td>\n",
              "      <td>11.1</td>\n",
              "      <td>8</td>\n",
              "    </tr>\n",
              "    <tr>\n",
              "      <th>3</th>\n",
              "      <td>27308928.0</td>\n",
              "      <td>10784877</td>\n",
              "      <td>51222</td>\n",
              "      <td>2170-05-11 06:00:00</td>\n",
              "      <td>6</td>\n",
              "      <td>2170-05-11 06:43:00</td>\n",
              "      <td>6</td>\n",
              "      <td>2170-05-11</td>\n",
              "      <td>10.3</td>\n",
              "      <td>8</td>\n",
              "    </tr>\n",
              "    <tr>\n",
              "      <th>4</th>\n",
              "      <td>28740988.0</td>\n",
              "      <td>11298819</td>\n",
              "      <td>51222</td>\n",
              "      <td>2142-09-13 07:15:00</td>\n",
              "      <td>7</td>\n",
              "      <td>2142-09-13 09:23:00</td>\n",
              "      <td>9</td>\n",
              "      <td>2142-09-13</td>\n",
              "      <td>10.2</td>\n",
              "      <td>8</td>\n",
              "    </tr>\n",
              "  </tbody>\n",
              "</table>\n",
              "</div>"
            ],
            "text/plain": [
              "      hadm_id  subject_id  itemid            charttime  charthour  \\\n",
              "0         NaN    10312413   51222  2173-06-05 08:20:00          8   \n",
              "1  25669789.0    10390828   51222  2181-10-26 07:55:00          7   \n",
              "2  26646522.0    10447634   51222  2165-03-07 06:55:00          6   \n",
              "3  27308928.0    10784877   51222  2170-05-11 06:00:00          6   \n",
              "4  28740988.0    11298819   51222  2142-09-13 07:15:00          7   \n",
              "\n",
              "             storetime  storehour    chartday  valuenum  cnt  \n",
              "0  2173-06-05 08:47:00          8  2173-06-05      12.8    8  \n",
              "1  2181-10-26 08:46:00          8  2181-10-26       9.4    8  \n",
              "2  2165-03-07 07:23:00          7  2165-03-07      11.1    8  \n",
              "3  2170-05-11 06:43:00          6  2170-05-11      10.3    8  \n",
              "4  2142-09-13 09:23:00          9  2142-09-13      10.2    8  "
            ]
          },
          "execution_count": 3,
          "metadata": {},
          "output_type": "execute_result"
        }
      ],
      "source": [
        "morningroutinelab.head()"
      ]
    },
    {
      "cell_type": "markdown",
      "metadata": {
        "id": "Mn8GfYa_bhiM"
      },
      "source": [
        "### Preprocessing"
      ]
    },
    {
      "cell_type": "code",
      "execution_count": 4,
      "metadata": {
        "id": "fKw_i14XCTbQ"
      },
      "outputs": [],
      "source": [
        "mrl_sorted = morningroutinelab.sort_values(by=['subject_id', 'hadm_id', 'chartday', 'itemid', 'charthour'])\n",
        "mrl_sampled = mrl_sorted.groupby(['subject_id', 'hadm_id', 'chartday', 'itemid']).first().reset_index()\n",
        "mrl_full = mrl_sampled.pivot(index=['subject_id', 'hadm_id', 'chartday'], columns='itemid', values='valuenum').reset_index()\n",
        "mrl = mrl_full.dropna()\n",
        "mrl = mrl.rename(columns={50882: 'Bic', 50912: 'Crt', 50971: 'Pot', 50983: 'Sod', 51006: 'Ure', 51222: 'Hgb', 51265: 'Plt', 51301: 'Wbc'})\n",
        "columns_to_scale = ['Bic', 'Crt', 'Pot', 'Sod', 'Ure', 'Hgb', 'Plt', 'Wbc']\n",
        "# Initialize MinMaxScaler\n",
        "scaler = MinMaxScaler()\n",
        "# Scale selected columns\n",
        "mrl[columns_to_scale] = scaler.fit_transform(mrl[columns_to_scale])"
      ]
    },
    {
      "cell_type": "code",
      "execution_count": 5,
      "metadata": {
        "colab": {
          "base_uri": "https://localhost:8080/",
          "height": 206
        },
        "id": "cZIVhPYtcatV",
        "outputId": "ed24c971-5d16-43ca-9c29-cf1e2d14b06a"
      },
      "outputs": [
        {
          "data": {
            "text/html": [
              "<div>\n",
              "<style scoped>\n",
              "    .dataframe tbody tr th:only-of-type {\n",
              "        vertical-align: middle;\n",
              "    }\n",
              "\n",
              "    .dataframe tbody tr th {\n",
              "        vertical-align: top;\n",
              "    }\n",
              "\n",
              "    .dataframe thead th {\n",
              "        text-align: right;\n",
              "    }\n",
              "</style>\n",
              "<table border=\"1\" class=\"dataframe\">\n",
              "  <thead>\n",
              "    <tr style=\"text-align: right;\">\n",
              "      <th>itemid</th>\n",
              "      <th>subject_id</th>\n",
              "      <th>hadm_id</th>\n",
              "      <th>chartday</th>\n",
              "      <th>Bic</th>\n",
              "      <th>Crt</th>\n",
              "      <th>Pot</th>\n",
              "      <th>Sod</th>\n",
              "      <th>Ure</th>\n",
              "      <th>Hgb</th>\n",
              "      <th>Plt</th>\n",
              "      <th>Wbc</th>\n",
              "    </tr>\n",
              "  </thead>\n",
              "  <tbody>\n",
              "    <tr>\n",
              "      <th>0</th>\n",
              "      <td>10000935</td>\n",
              "      <td>26381316.0</td>\n",
              "      <td>2187-08-25</td>\n",
              "      <td>0.463415</td>\n",
              "      <td>0.019417</td>\n",
              "      <td>0.217949</td>\n",
              "      <td>0.500000</td>\n",
              "      <td>0.044304</td>\n",
              "      <td>0.254902</td>\n",
              "      <td>0.318553</td>\n",
              "      <td>0.048686</td>\n",
              "    </tr>\n",
              "    <tr>\n",
              "      <th>1</th>\n",
              "      <td>10000980</td>\n",
              "      <td>25242409.0</td>\n",
              "      <td>2191-04-05</td>\n",
              "      <td>0.414634</td>\n",
              "      <td>0.111650</td>\n",
              "      <td>0.256410</td>\n",
              "      <td>0.739130</td>\n",
              "      <td>0.594937</td>\n",
              "      <td>0.385621</td>\n",
              "      <td>0.065344</td>\n",
              "      <td>0.015491</td>\n",
              "    </tr>\n",
              "    <tr>\n",
              "      <th>2</th>\n",
              "      <td>10001401</td>\n",
              "      <td>21544441.0</td>\n",
              "      <td>2131-06-06</td>\n",
              "      <td>0.487805</td>\n",
              "      <td>0.029126</td>\n",
              "      <td>0.282051</td>\n",
              "      <td>0.521739</td>\n",
              "      <td>0.107595</td>\n",
              "      <td>0.464052</td>\n",
              "      <td>0.126021</td>\n",
              "      <td>0.029876</td>\n",
              "    </tr>\n",
              "    <tr>\n",
              "      <th>4</th>\n",
              "      <td>10001884</td>\n",
              "      <td>26170293.0</td>\n",
              "      <td>2130-04-17</td>\n",
              "      <td>0.487805</td>\n",
              "      <td>0.033981</td>\n",
              "      <td>0.217949</td>\n",
              "      <td>0.543478</td>\n",
              "      <td>0.056962</td>\n",
              "      <td>0.581699</td>\n",
              "      <td>0.122520</td>\n",
              "      <td>0.015214</td>\n",
              "    </tr>\n",
              "    <tr>\n",
              "      <th>6</th>\n",
              "      <td>10004235</td>\n",
              "      <td>22187210.0</td>\n",
              "      <td>2196-06-21</td>\n",
              "      <td>0.365854</td>\n",
              "      <td>0.058252</td>\n",
              "      <td>0.256410</td>\n",
              "      <td>0.456522</td>\n",
              "      <td>0.056962</td>\n",
              "      <td>0.326797</td>\n",
              "      <td>0.137690</td>\n",
              "      <td>0.037068</td>\n",
              "    </tr>\n",
              "  </tbody>\n",
              "</table>\n",
              "</div>"
            ],
            "text/plain": [
              "itemid  subject_id     hadm_id    chartday       Bic       Crt       Pot  \\\n",
              "0         10000935  26381316.0  2187-08-25  0.463415  0.019417  0.217949   \n",
              "1         10000980  25242409.0  2191-04-05  0.414634  0.111650  0.256410   \n",
              "2         10001401  21544441.0  2131-06-06  0.487805  0.029126  0.282051   \n",
              "4         10001884  26170293.0  2130-04-17  0.487805  0.033981  0.217949   \n",
              "6         10004235  22187210.0  2196-06-21  0.365854  0.058252  0.256410   \n",
              "\n",
              "itemid       Sod       Ure       Hgb       Plt       Wbc  \n",
              "0       0.500000  0.044304  0.254902  0.318553  0.048686  \n",
              "1       0.739130  0.594937  0.385621  0.065344  0.015491  \n",
              "2       0.521739  0.107595  0.464052  0.126021  0.029876  \n",
              "4       0.543478  0.056962  0.581699  0.122520  0.015214  \n",
              "6       0.456522  0.056962  0.326797  0.137690  0.037068  "
            ]
          },
          "execution_count": 5,
          "metadata": {},
          "output_type": "execute_result"
        }
      ],
      "source": [
        "mrl.head()"
      ]
    },
    {
      "cell_type": "markdown",
      "metadata": {
        "id": "4MvPEsCMclaF"
      },
      "source": [
        "### Encode Numbers -> Text"
      ]
    },
    {
      "cell_type": "code",
      "execution_count": 6,
      "metadata": {
        "colab": {
          "base_uri": "https://localhost:8080/",
          "height": 381
        },
        "id": "ixrIG7jdck5W",
        "outputId": "b9668b24-b101-4844-c0f8-378369191240"
      },
      "outputs": [],
      "source": [
        "def int_to_letters(number):\n",
        "    result = \"\"\n",
        "    while number >= 0:\n",
        "        number, remainder = divmod(number, 26)\n",
        "        result = chr(65 + remainder) + result\n",
        "        if number == 0:\n",
        "            break\n",
        "        number -= 1  # Adjust for 0-based indexing\n",
        "    return result\n",
        "\n",
        "# Generate letters for numbers from 0 to 99\n",
        "letters_mapping = {i: int_to_letters(i) for i in range(101)}\n",
        "def scale_to_letter(value):\n",
        "    return letters_mapping[int(value * 100)]\n",
        "\n",
        "mrl['nstr'] = mrl[columns_to_scale].apply(lambda row: ' '.join(f'{col}{scale_to_letter(val)}' for col, val in zip(columns_to_scale, row)), axis=1)\n",
        "grouped_mrl = mrl.groupby('hadm_id')['nstr'].apply(list).reset_index()"
      ]
    },
    {
      "cell_type": "code",
      "execution_count": 7,
      "metadata": {
        "id": "Giq7MpMDc1WC"
      },
      "outputs": [
        {
          "data": {
            "text/html": [
              "<div>\n",
              "<style scoped>\n",
              "    .dataframe tbody tr th:only-of-type {\n",
              "        vertical-align: middle;\n",
              "    }\n",
              "\n",
              "    .dataframe tbody tr th {\n",
              "        vertical-align: top;\n",
              "    }\n",
              "\n",
              "    .dataframe thead th {\n",
              "        text-align: right;\n",
              "    }\n",
              "</style>\n",
              "<table border=\"1\" class=\"dataframe\">\n",
              "  <thead>\n",
              "    <tr style=\"text-align: right;\">\n",
              "      <th></th>\n",
              "      <th>hadm_id</th>\n",
              "      <th>nstr</th>\n",
              "    </tr>\n",
              "  </thead>\n",
              "  <tbody>\n",
              "    <tr>\n",
              "      <th>0</th>\n",
              "      <td>20000235.0</td>\n",
              "      <td>[BicAR CrtU PotY SodAI UreV HgbAE PltB WbcA]</td>\n",
              "    </tr>\n",
              "    <tr>\n",
              "      <th>1</th>\n",
              "      <td>20004357.0</td>\n",
              "      <td>[BicBE CrtD PotAG SodBA UreL HgbAE PltP WbcC]</td>\n",
              "    </tr>\n",
              "    <tr>\n",
              "      <th>2</th>\n",
              "      <td>20005361.0</td>\n",
              "      <td>[BicAU CrtE PotAC SodBP UreL HgbAE PltK WbcB]</td>\n",
              "    </tr>\n",
              "    <tr>\n",
              "      <th>3</th>\n",
              "      <td>20005721.0</td>\n",
              "      <td>[BicAI CrtA PotZ SodAR UreB HgbAG PltR WbcB]</td>\n",
              "    </tr>\n",
              "    <tr>\n",
              "      <th>4</th>\n",
              "      <td>20007831.0</td>\n",
              "      <td>[BicBG CrtE PotAE SodAY UreP HgbZ PltT WbcE]</td>\n",
              "    </tr>\n",
              "    <tr>\n",
              "      <th>...</th>\n",
              "      <td>...</td>\n",
              "      <td>...</td>\n",
              "    </tr>\n",
              "    <tr>\n",
              "      <th>8555</th>\n",
              "      <td>29991539.0</td>\n",
              "      <td>[BicAP CrtI PotV SodBI UreS HgbAI PltN WbcD]</td>\n",
              "    </tr>\n",
              "    <tr>\n",
              "      <th>8556</th>\n",
              "      <td>29995410.0</td>\n",
              "      <td>[BicAU CrtD PotV SodAP UreF HgbAJ PltG WbcA]</td>\n",
              "    </tr>\n",
              "    <tr>\n",
              "      <th>8557</th>\n",
              "      <td>29997206.0</td>\n",
              "      <td>[BicAR CrtC PotAL SodAY UreC HgbAG PltP WbcD]</td>\n",
              "    </tr>\n",
              "    <tr>\n",
              "      <th>8558</th>\n",
              "      <td>29998928.0</td>\n",
              "      <td>[BicAR CrtF PotAG SodAK UreO HgbAV PltS WbcC]</td>\n",
              "    </tr>\n",
              "    <tr>\n",
              "      <th>8559</th>\n",
              "      <td>29999596.0</td>\n",
              "      <td>[BicAP CrtE PotAL SodAC UreR HgbAL PltAE WbcE]</td>\n",
              "    </tr>\n",
              "  </tbody>\n",
              "</table>\n",
              "<p>8560 rows × 2 columns</p>\n",
              "</div>"
            ],
            "text/plain": [
              "         hadm_id                                            nstr\n",
              "0     20000235.0    [BicAR CrtU PotY SodAI UreV HgbAE PltB WbcA]\n",
              "1     20004357.0   [BicBE CrtD PotAG SodBA UreL HgbAE PltP WbcC]\n",
              "2     20005361.0   [BicAU CrtE PotAC SodBP UreL HgbAE PltK WbcB]\n",
              "3     20005721.0    [BicAI CrtA PotZ SodAR UreB HgbAG PltR WbcB]\n",
              "4     20007831.0    [BicBG CrtE PotAE SodAY UreP HgbZ PltT WbcE]\n",
              "...          ...                                             ...\n",
              "8555  29991539.0    [BicAP CrtI PotV SodBI UreS HgbAI PltN WbcD]\n",
              "8556  29995410.0    [BicAU CrtD PotV SodAP UreF HgbAJ PltG WbcA]\n",
              "8557  29997206.0   [BicAR CrtC PotAL SodAY UreC HgbAG PltP WbcD]\n",
              "8558  29998928.0   [BicAR CrtF PotAG SodAK UreO HgbAV PltS WbcC]\n",
              "8559  29999596.0  [BicAP CrtE PotAL SodAC UreR HgbAL PltAE WbcE]\n",
              "\n",
              "[8560 rows x 2 columns]"
            ]
          },
          "execution_count": 7,
          "metadata": {},
          "output_type": "execute_result"
        }
      ],
      "source": [
        "grouped_mrl"
      ]
    },
    {
      "cell_type": "markdown",
      "metadata": {
        "id": "IREewDITdA_t"
      },
      "source": [
        "### Tokenize"
      ]
    },
    {
      "cell_type": "code",
      "execution_count": 8,
      "metadata": {},
      "outputs": [],
      "source": [
        "from transformers import BertTokenizer\n",
        "\n",
        "# Insert special tokens into the list\n",
        "def insert_special_tokens(input_list, special_tokens):\n",
        "    result_list = input_list.copy()\n",
        "    for position, token in special_tokens.items():\n",
        "        result_list.insert(position, token)\n",
        "    return result_list\n",
        "\n",
        "# Create a vocab.txt file\n",
        "def create_vocab_file(vocab_list, vocab_file_path):\n",
        "    with open(vocab_file_path, 'w', encoding='utf-8') as vocab_file:\n",
        "        for token in vocab_list:\n",
        "            vocab_file.write(token + '\\n')\n",
        "\n",
        "# Create a BERT tokenizer\n",
        "def create_bert_tokenizer(vocab_file_path):\n",
        "    tokenizer = BertTokenizer(vocab_file_path, do_lower_case=False)\n",
        "    return tokenizer"
      ]
    },
    {
      "cell_type": "code",
      "execution_count": 21,
      "metadata": {},
      "outputs": [],
      "source": [
        "vocab_list = mrl['nstr'].str.split(' ').explode().unique().tolist()\n",
        "special_tokens = {0: '[PAD]', 101: '[CLS]', 102: '[SEP]', 103: '[MASK]'}\n",
        "\n",
        "# Insert special tokens into the list\n",
        "modified_vocab = insert_special_tokens(vocab_list, special_tokens)"
      ]
    },
    {
      "cell_type": "code",
      "execution_count": 27,
      "metadata": {},
      "outputs": [],
      "source": [
        "# Create a vocab.txt file\n",
        "vocab_file_path = 'vocab.txt'\n",
        "create_vocab_file(modified_vocab, vocab_file_path)"
      ]
    },
    {
      "cell_type": "code",
      "execution_count": 28,
      "metadata": {},
      "outputs": [],
      "source": [
        "# Create a BERT tokenizer\n",
        "tokenizer = create_bert_tokenizer(vocab_file_path)"
      ]
    },
    {
      "cell_type": "code",
      "execution_count": 29,
      "metadata": {},
      "outputs": [
        {
          "data": {
            "text/plain": [
              "496"
            ]
          },
          "execution_count": 29,
          "metadata": {},
          "output_type": "execute_result"
        }
      ],
      "source": [
        "len(tokenizer)"
      ]
    },
    {
      "cell_type": "code",
      "execution_count": 31,
      "metadata": {
        "id": "LT2H1lgQiOoX"
      },
      "outputs": [],
      "source": [
        "text = grouped_mrl['nstr'].apply(lambda x: ' [SEP] '.join(x)).tolist()"
      ]
    },
    {
      "cell_type": "code",
      "execution_count": 32,
      "metadata": {},
      "outputs": [],
      "source": [
        "def random_train_test_split(data, train_percent=.8):\n",
        "    # Randomly split data into training and test sets.\n",
        "    np.random.seed(42)\n",
        "    data = np.array(data)\n",
        "    np.random.shuffle(data)\n",
        "    train_size = int(len(data) * train_percent)\n",
        "    train = data[:train_size]\n",
        "    test = data[train_size:]\n",
        "    # Convert to list\n",
        "    train = train.tolist()\n",
        "    test = test.tolist()\n",
        "    return train, test\n",
        "\n",
        "train, test = random_train_test_split(text)"
      ]
    },
    {
      "cell_type": "code",
      "execution_count": 33,
      "metadata": {
        "id": "sRmj98miCb2F"
      },
      "outputs": [],
      "source": [
        "train_inputs = tokenizer(train, return_tensors='pt', max_length=100, truncation=True, padding='max_length')\n",
        "\n",
        "test_inputs = tokenizer(test, return_tensors='pt', max_length=100, truncation=True, padding='max_length')"
      ]
    },
    {
      "cell_type": "markdown",
      "metadata": {
        "id": "rzuD84Uqi2Sm"
      },
      "source": [
        "### Dataset Perparation"
      ]
    },
    {
      "cell_type": "code",
      "execution_count": 34,
      "metadata": {
        "id": "yzceFOWui5qP"
      },
      "outputs": [],
      "source": [
        "train_inputs['labels'] = train_inputs.input_ids.detach().clone()\n",
        "test_inputs['labels'] = test_inputs.input_ids.detach().clone()"
      ]
    },
    {
      "cell_type": "code",
      "execution_count": 35,
      "metadata": {
        "id": "0QVfluICjDO9"
      },
      "outputs": [
        {
          "data": {
            "text/plain": [
              "dict_keys(['input_ids', 'token_type_ids', 'attention_mask', 'labels'])"
            ]
          },
          "execution_count": 35,
          "metadata": {},
          "output_type": "execute_result"
        }
      ],
      "source": [
        "train_inputs.keys()"
      ]
    },
    {
      "cell_type": "markdown",
      "metadata": {
        "id": "nMSXaGp1jOoY"
      },
      "source": [
        "Model Masked Language Model (MLM):\n",
        "\n",
        "Pretraining method: The idea is to mask some words (lab values) so the model use the rest of the values to predict the missing values. That way the model will learn the relations between the lab values.\n",
        "\n",
        "To pre-train the model we'll need to mask some values randomly. In this case 20%. We will ignore the tokens CLS (101), SEP (102) and PAD (0)."
      ]
    },
    {
      "cell_type": "code",
      "execution_count": 36,
      "metadata": {
        "id": "W2bSMtiYkjU5"
      },
      "outputs": [
        {
          "name": "stdout",
          "output_type": "stream",
          "text": [
            "[CLS] [SEP] [PAD]\n"
          ]
        }
      ],
      "source": [
        "# List of token IDs\n",
        "token_ids = [101, 102, 0]\n",
        "\n",
        "# Decode token IDs to get corresponding values\n",
        "decoded_values = tokenizer.decode(token_ids)\n",
        "\n",
        "print(decoded_values)"
      ]
    },
    {
      "cell_type": "code",
      "execution_count": 37,
      "metadata": {
        "id": "q6mPeqVTi5tT"
      },
      "outputs": [],
      "source": [
        "def randomly_mask_dataset(inputs, parcentage=0.20, CLS=101, SEP=102, PAD=0):\n",
        "\n",
        "    # create random array of floats with equal dimensions to input_ids tensor\n",
        "    rand = torch.rand(inputs.input_ids.shape)\n",
        "    # Create mask array\n",
        "    mask_arr = (rand < parcentage) * (inputs.input_ids != CLS) * (inputs.input_ids != SEP) * (inputs.input_ids != PAD)\n",
        "\n",
        "    # Take the index of each masked token and replace with the token 103\n",
        "    masked = []\n",
        "\n",
        "    for i in range(inputs.input_ids.shape[0]):\n",
        "        masked.append(torch.flatten(mask_arr[i].nonzero()).tolist())\n",
        "\n",
        "    for i in range(inputs.input_ids.shape[0]):\n",
        "        inputs.input_ids[i, masked[i]] = 103\n",
        "\n",
        "    return inputs"
      ]
    },
    {
      "cell_type": "code",
      "execution_count": 38,
      "metadata": {
        "id": "Av5tqfETlKYt"
      },
      "outputs": [],
      "source": [
        "MASKING = 0.20\n",
        "\n",
        "train_inputs = randomly_mask_dataset(train_inputs, parcentage=MASKING)\n",
        "test_inputs = randomly_mask_dataset(test_inputs, parcentage=MASKING)"
      ]
    },
    {
      "cell_type": "code",
      "execution_count": 39,
      "metadata": {
        "id": "jNorTFbOlfoh"
      },
      "outputs": [
        {
          "data": {
            "text/plain": [
              "tensor([[101,  40, 103,  ...,   0,   0,   0],\n",
              "        [101, 103,  18,  ...,   0,   0,   0],\n",
              "        [101, 160, 103,  ...,   0,   0,   0],\n",
              "        ...,\n",
              "        [101,  51, 103,  ...,   0,   0,   0],\n",
              "        [101, 160,  25,  ...,   0,   0,   0],\n",
              "        [101, 108, 103,  ...,   0,   0,   0]])"
            ]
          },
          "execution_count": 39,
          "metadata": {},
          "output_type": "execute_result"
        }
      ],
      "source": [
        "train_inputs.input_ids"
      ]
    },
    {
      "cell_type": "markdown",
      "metadata": {
        "id": "v0RSiCWkmJhA"
      },
      "source": [
        "### Dataleader"
      ]
    },
    {
      "cell_type": "code",
      "execution_count": 40,
      "metadata": {
        "id": "RnbC1DqAmJEn"
      },
      "outputs": [],
      "source": [
        "class LabValuesDataset(torch.utils.data.Dataset):\n",
        "    def __init__(self, encodings):\n",
        "        self.encodings = encodings\n",
        "\n",
        "    def __getitem__(self, idx):\n",
        "        return {key: torch.tensor(val[idx]) for key, val in self.encodings.items()}\n",
        "\n",
        "    def __len__(self):\n",
        "        return len(self.encodings.input_ids)"
      ]
    },
    {
      "cell_type": "code",
      "execution_count": 41,
      "metadata": {
        "id": "5Sl55pSpmnKm"
      },
      "outputs": [],
      "source": [
        "train_dataset = LabValuesDataset(train_inputs)\n",
        "test_dataset = LabValuesDataset(test_inputs)"
      ]
    },
    {
      "cell_type": "code",
      "execution_count": 42,
      "metadata": {},
      "outputs": [],
      "source": [
        "train_loader = torch.utils.data.DataLoader(train_dataset, batch_size=16, shuffle=True)\n",
        "test_loader = torch.utils.data.DataLoader(test_dataset, batch_size=16, shuffle=True)"
      ]
    },
    {
      "cell_type": "markdown",
      "metadata": {
        "id": "NhE8Gkpni6mY"
      },
      "source": [
        "### Model"
      ]
    },
    {
      "cell_type": "code",
      "execution_count": 43,
      "metadata": {
        "id": "WpQkrtf4m5jJ"
      },
      "outputs": [],
      "source": [
        "device = torch.device('cuda') if torch.cuda.is_available() else torch.device('cpu')\n",
        "\n",
        "# Apple slilicon:\n",
        "device = torch.device('mps') if torch.cuda.is_available() else torch.device('cpu')"
      ]
    },
    {
      "cell_type": "code",
      "execution_count": 44,
      "metadata": {
        "id": "x-dCPF3mejwi"
      },
      "outputs": [
        {
          "name": "stderr",
          "output_type": "stream",
          "text": [
            "Some weights of the model checkpoint at bert-base-uncased were not used when initializing BertForMaskedLM: ['bert.pooler.dense.weight', 'cls.seq_relationship.bias', 'cls.seq_relationship.weight', 'bert.pooler.dense.bias']\n",
            "- This IS expected if you are initializing BertForMaskedLM from the checkpoint of a model trained on another task or with another architecture (e.g. initializing a BertForSequenceClassification model from a BertForPreTraining model).\n",
            "- This IS NOT expected if you are initializing BertForMaskedLM from the checkpoint of a model that you expect to be exactly identical (initializing a BertForSequenceClassification model from a BertForSequenceClassification model).\n"
          ]
        },
        {
          "data": {
            "text/plain": [
              "BertForMaskedLM(\n",
              "  (bert): BertModel(\n",
              "    (embeddings): BertEmbeddings(\n",
              "      (word_embeddings): Embedding(496, 768)\n",
              "      (position_embeddings): Embedding(512, 768)\n",
              "      (token_type_embeddings): Embedding(2, 768)\n",
              "      (LayerNorm): LayerNorm((768,), eps=1e-12, elementwise_affine=True)\n",
              "      (dropout): Dropout(p=0.1, inplace=False)\n",
              "    )\n",
              "    (encoder): BertEncoder(\n",
              "      (layer): ModuleList(\n",
              "        (0-11): 12 x BertLayer(\n",
              "          (attention): BertAttention(\n",
              "            (self): BertSelfAttention(\n",
              "              (query): Linear(in_features=768, out_features=768, bias=True)\n",
              "              (key): Linear(in_features=768, out_features=768, bias=True)\n",
              "              (value): Linear(in_features=768, out_features=768, bias=True)\n",
              "              (dropout): Dropout(p=0.1, inplace=False)\n",
              "            )\n",
              "            (output): BertSelfOutput(\n",
              "              (dense): Linear(in_features=768, out_features=768, bias=True)\n",
              "              (LayerNorm): LayerNorm((768,), eps=1e-12, elementwise_affine=True)\n",
              "              (dropout): Dropout(p=0.1, inplace=False)\n",
              "            )\n",
              "          )\n",
              "          (intermediate): BertIntermediate(\n",
              "            (dense): Linear(in_features=768, out_features=3072, bias=True)\n",
              "            (intermediate_act_fn): GELUActivation()\n",
              "          )\n",
              "          (output): BertOutput(\n",
              "            (dense): Linear(in_features=3072, out_features=768, bias=True)\n",
              "            (LayerNorm): LayerNorm((768,), eps=1e-12, elementwise_affine=True)\n",
              "            (dropout): Dropout(p=0.1, inplace=False)\n",
              "          )\n",
              "        )\n",
              "      )\n",
              "    )\n",
              "  )\n",
              "  (cls): BertOnlyMLMHead(\n",
              "    (predictions): BertLMPredictionHead(\n",
              "      (transform): BertPredictionHeadTransform(\n",
              "        (dense): Linear(in_features=768, out_features=768, bias=True)\n",
              "        (transform_act_fn): GELUActivation()\n",
              "        (LayerNorm): LayerNorm((768,), eps=1e-12, elementwise_affine=True)\n",
              "      )\n",
              "      (decoder): Linear(in_features=768, out_features=496, bias=True)\n",
              "    )\n",
              "  )\n",
              ")"
            ]
          },
          "execution_count": 44,
          "metadata": {},
          "output_type": "execute_result"
        }
      ],
      "source": [
        "model = BertForMaskedLM.from_pretrained('bert-base-uncased')\n",
        "model.resize_token_embeddings(len(tokenizer))\n",
        "# and move our model over to the selected device\n",
        "model.to(device)"
      ]
    },
    {
      "cell_type": "markdown",
      "metadata": {
        "id": "cq1WpCYFnE_N"
      },
      "source": [
        "### Training"
      ]
    },
    {
      "cell_type": "code",
      "execution_count": 45,
      "metadata": {
        "id": "rMiEGMzQm6S1"
      },
      "outputs": [
        {
          "name": "stderr",
          "output_type": "stream",
          "text": [
            "/Users/davidrestrepo/miniforge3/envs/labrador/lib/python3.9/site-packages/transformers/optimization.py:411: FutureWarning: This implementation of AdamW is deprecated and will be removed in a future version. Use the PyTorch implementation torch.optim.AdamW instead, or set `no_deprecation_warning=True` to disable this warning\n",
            "  warnings.warn(\n"
          ]
        }
      ],
      "source": [
        "# activate training mode\n",
        "model.train()\n",
        "# initialize optimizer\n",
        "optim = AdamW(model.parameters(), lr=5e-5)"
      ]
    },
    {
      "cell_type": "code",
      "execution_count": 46,
      "metadata": {},
      "outputs": [
        {
          "name": "stderr",
          "output_type": "stream",
          "text": [
            "  0%|          | 0/428 [00:00<?, ?it/s]/var/folders/4w/k6c16td51cv9ytcmnnvx3mpw0000gn/T/ipykernel_94955/302765012.py:6: UserWarning: To copy construct from a tensor, it is recommended to use sourceTensor.clone().detach() or sourceTensor.clone().detach().requires_grad_(True), rather than torch.tensor(sourceTensor).\n",
            "  return {key: torch.tensor(val[idx]) for key, val in self.encodings.items()}\n",
            "Epoch 0: 100%|██████████| 428/428 [45:40<00:00,  6.40s/it, loss=0.235]  \n",
            "Epoch 0 (Eval): 100%|██████████| 107/107 [01:00<00:00,  1.76it/s, loss=0.244]\n",
            "Epoch 1: 100%|██████████| 428/428 [26:04<00:00,  3.65s/it, loss=0.0781]\n",
            "Epoch 1 (Eval): 100%|██████████| 107/107 [01:03<00:00,  1.68it/s, loss=0.0608]\n"
          ]
        },
        {
          "data": {
            "image/png": "[encoded data removed]",
            "text/plain": [
              "<Figure size 640x480 with 1 Axes>"
            ]
          },
          "metadata": {},
          "output_type": "display_data"
        }
      ],
      "source": [
        "epochs = 2\n",
        "train_losses = []\n",
        "test_losses = []\n",
        "\n",
        "for epoch in range(epochs):\n",
        "    # Training\n",
        "    model.train()\n",
        "    train_loop = tqdm(train_loader, leave=True)\n",
        "    for batch in train_loop:\n",
        "        optim.zero_grad()\n",
        "        input_ids = batch['input_ids'].to(device)\n",
        "        attention_mask = batch['attention_mask'].to(device)\n",
        "        labels = batch['labels'].to(device)\n",
        "        outputs = model(input_ids, attention_mask=attention_mask, labels=labels)\n",
        "        loss = outputs.loss\n",
        "        loss.backward()\n",
        "        optim.step()\n",
        "        train_losses.append(loss.item())\n",
        "        train_loop.set_description(f'Epoch {epoch}')\n",
        "        train_loop.set_postfix(loss=loss.item())\n",
        "\n",
        "    # Evaluation\n",
        "    model.eval()\n",
        "    test_loop = tqdm(test_loader, leave=True)\n",
        "    for batch in test_loop:\n",
        "        with torch.no_grad():\n",
        "            input_ids = batch['input_ids'].to(device)\n",
        "            attention_mask = batch['attention_mask'].to(device)\n",
        "            labels = batch['labels'].to(device)\n",
        "            outputs = model(input_ids, attention_mask=attention_mask, labels=labels)\n",
        "            loss = outputs.loss\n",
        "            test_losses.append(loss.item())\n",
        "            test_loop.set_description(f'Epoch {epoch} (Eval)')\n",
        "            test_loop.set_postfix(loss=loss.item())\n",
        "\n",
        "\n",
        "model.save_pretrained(\"model/\")\n",
        "tokenizer.save_pretrained(\"tokenizer/\")\n",
        "\n",
        "# Plotting\n",
        "plt.plot(train_losses, label='Train Loss')\n",
        "plt.xlabel('Iteration')\n",
        "plt.ylabel('Loss')\n",
        "plt.legend()\n",
        "plt.show()"
      ]
    },
    {
      "cell_type": "markdown",
      "metadata": {},
      "source": [
        "#### Load the model"
      ]
    },
    {
      "cell_type": "code",
      "execution_count": 47,
      "metadata": {},
      "outputs": [],
      "source": [
        "from transformers import BertForMaskedLM, BertTokenizer\n",
        "\n",
        "# Load the saved model and tokenizer\n",
        "model = BertForMaskedLM.from_pretrained(\"model/\")\n",
        "tokenizer = BertTokenizer.from_pretrained(\"tokenizer/\")"
      ]
    },
    {
      "cell_type": "markdown",
      "metadata": {},
      "source": [
        "### Get Embeddings"
      ]
    },
    {
      "cell_type": "code",
      "execution_count": 48,
      "metadata": {},
      "outputs": [],
      "source": [
        "def get_embeddings(model, tokenizer, texts):\n",
        "\n",
        "    model.eval()\n",
        "    \n",
        "    # Tokenize and convert the input texts to tensors\n",
        "    tokens = tokenizer(texts, return_tensors=\"pt\", padding=True, truncation=True)\n",
        "    \n",
        "    # Forward pass to obtain the embeddings\n",
        "    with torch.no_grad():\n",
        "        embeddings = model(**tokens, output_hidden_states=True, return_dict=True)\n",
        "\n",
        "    # Extract the embeddings from the last hidden state\n",
        "    embeddings = np.array(embeddings.hidden_states[-1])\n",
        "\n",
        "    return embeddings"
      ]
    },
    {
      "cell_type": "code",
      "execution_count": 49,
      "metadata": {},
      "outputs": [
        {
          "name": "stderr",
          "output_type": "stream",
          "text": [
            "Asking to truncate to max_length but no maximum length is provided and the model has no predefined maximum length. Default to no truncation.\n"
          ]
        },
        {
          "name": "stdout",
          "output_type": "stream",
          "text": [
            "Embeddings Shape: (2, 8, 768)\n",
            "[[[-0.49939942 -0.3252505  -0.30454722 ...  0.1831341   0.15631016\n",
            "    0.0508475 ]\n",
            "  [ 0.8420637   0.7331135   0.06322432 ...  0.7596819  -0.72309816\n",
            "    0.1683993 ]\n",
            "  [ 0.67765754  0.35475954  0.45529342 ...  0.9190105  -0.93369794\n",
            "   -0.20882437]\n",
            "  ...\n",
            "  [ 1.2109077  -0.23138356 -0.23602165 ...  0.7183799  -0.9758155\n",
            "   -0.19742072]\n",
            "  [ 1.7765887   0.2612248   0.46532738 ...  0.59862673 -0.70830154\n",
            "   -0.81637096]\n",
            "  [ 0.369804   -0.38128763 -0.47079998 ...  1.0526273  -0.24447265\n",
            "   -0.499013  ]]\n",
            "\n",
            " [[-0.49586958 -0.35578215 -0.32065305 ...  0.24539039  0.20613106\n",
            "    0.04686604]\n",
            "  [ 0.8305602   0.7563559   0.05792234 ...  0.77873474 -0.75425863\n",
            "    0.15379828]\n",
            "  [ 0.6755165   0.35896558  0.43717715 ...  1.0163783  -0.9384985\n",
            "   -0.26118717]\n",
            "  ...\n",
            "  [ 1.3808904  -0.11981761 -0.27989095 ...  0.5025964  -0.7696203\n",
            "   -0.59993446]\n",
            "  [ 0.39476097 -0.4111559  -0.50136316 ...  1.0499966  -0.22167918\n",
            "   -0.49201792]\n",
            "  [ 0.76907027  0.52228135  1.4269865  ... -0.85269755  0.20391731\n",
            "   -1.4261863 ]]]\n"
          ]
        }
      ],
      "source": [
        "texts_to_embed = [\"This is a sample sentence.\", \"Another example for embeddings.\"]\n",
        "\n",
        "embeddings = get_embeddings(model, tokenizer, texts_to_embed)\n",
        "print(\"Embeddings Shape:\", embeddings.shape)\n",
        "print(embeddings)"
      ]
    },
    {
      "cell_type": "code",
      "execution_count": null,
      "metadata": {},
      "outputs": [],
      "source": []
    }
  ],
  "metadata": {
    "colab": {
      "provenance": []
    },
    "kernelspec": {
      "display_name": "Python 3",
      "name": "python3"
    },
    "language_info": {
      "codemirror_mode": {
        "name": "ipython",
        "version": 3
      },
      "file_extension": ".py",
      "mimetype": "text/x-python",
      "name": "python",
      "nbconvert_exporter": "python",
      "pygments_lexer": "ipython3",
      "version": "3.9.18"
    }
  },
  "nbformat": 4,
  "nbformat_minor": 0
}
