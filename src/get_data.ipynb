{
 "cells": [
  {
   "cell_type": "markdown",
   "metadata": {},
   "source": [
    "### Set up environment"
   ]
  },
  {
   "cell_type": "code",
   "execution_count": 1,
   "metadata": {},
   "outputs": [],
   "source": [
    "from google.cloud import bigquery\n",
    "\n",
    "import os\n",
    "from dotenv import load_dotenv\n",
    "\n",
    "import pandas as pd"
   ]
  },
  {
   "cell_type": "code",
   "execution_count": 2,
   "metadata": {},
   "outputs": [],
   "source": [
    "# Load .env file\n",
    "load_dotenv()\n",
    "\n",
    "# Get GCP keys file path\n",
    "KEYS_FILE = os.getenv(\"KEYS_FILE\")\n",
    "\n",
    "# Set environment variables\n",
    "os.environ['GOOGLE_APPLICATION_CREDENTIALS'] = KEYS_FILE\n",
    "\n",
    "# Initialize the BigQuery client\n",
    "client = bigquery.Client()"
   ]
  },
  {
   "cell_type": "markdown",
   "metadata": {},
   "source": [
    "### Run the Query"
   ]
  },
  {
   "cell_type": "code",
   "execution_count": null,
   "metadata": {},
   "outputs": [],
   "source": [
    "# Write the SQL query\n",
    "\n",
    "## OPTION 1: Filter by grouping hadmid and itemid (Lab counts 1 independently on how many times the lab was taken in the admission)\n",
    "# Filtering by 500: Returns 6188\n",
    "# Filtering by 5: Returns 40557000 rows\n",
    "query = \"\"\"\n",
    "WITH LabCounts AS (\n",
    "    SELECT hadm_id, itemid, COUNT(*) AS lab_count\n",
    "    FROM `physionet-data.mimiciv_hosp.labevents`\n",
    "    GROUP BY hadm_id, itemid\n",
    "    HAVING COUNT(*) >= 500\n",
    ")\n",
    "\n",
    "SELECT l.hadm_id, l.,l.itemid, l.charttime, l.value, l.valuenum, l.valueuom, l.ref_range_lower, l.ref_range_upper, l.flag\n",
    "FROM `physionet-data.mimiciv_hosp.labevents` AS l\n",
    "INNER JOIN LabCounts AS c\n",
    "ON l.hadm_id = c.hadm_id AND l.itemid = c.itemid\n",
    "ORDER BY l.hadm_id, l.charttime;\n",
    "\"\"\""
   ]
  },
  {
   "cell_type": "code",
   "execution_count": null,
   "metadata": {},
   "outputs": [],
   "source": [
    "# Write the SQL query\n",
    "\n",
    "## OPTION 1: Filter by grouping hadmid and itemid (Lab counts per admission 1 independently on how many times the lab was taken in the admission) \n",
    "# E.g. Lab taken 3 times in the same admission, counts as 1\n",
    "# Filtering by 500: Returns 6188\n",
    "# Filtering by 5: Returns 40,557,000 rows\n",
    "query = \"\"\"\n",
    "WITH LabCounts AS (\n",
    "    SELECT hadm_id, itemid, COUNT(*) AS lab_count\n",
    "    FROM `physionet-data.mimiciv_hosp.labevents`\n",
    "    GROUP BY hadm_id, itemid\n",
    "    HAVING COUNT(*) >= 500\n",
    ")\n",
    "\n",
    "SELECT l.hadm_id, l.,l.itemid, l.charttime, l.value, l.valuenum, l.valueuom, l.ref_range_lower, l.ref_range_upper, l.flag\n",
    "FROM `physionet-data.mimiciv_hosp.labevents` AS l\n",
    "INNER JOIN LabCounts AS c\n",
    "ON l.hadm_id = c.hadm_id AND l.itemid = c.itemid\n",
    "ORDER BY l.hadm_id, l.charttime;\n",
    "\"\"\"\n",
    "\n",
    "## OPTION 2: Filter by just itemid (Lab counts 1 every time lab was taken): \n",
    "# E.g. Lab taken 10 times in the same admission, counts as 10\n",
    "# Filtering by 500: Returns 118,128,502 rows\n",
    "query = \"\"\"\n",
    "WITH LabCodeCounts AS (\n",
    "  SELECT\n",
    "    itemid,\n",
    "    COUNT(*) AS code_count\n",
    "  FROM\n",
    "    `physionet-data.mimiciv_hosp.labevents`\n",
    "  GROUP BY\n",
    "    itemid\n",
    "  HAVING\n",
    "    code_count > 500\n",
    ")\n",
    "\n",
    "SELECT\n",
    "  le.hadm_id,\n",
    "  le.subject_id,\n",
    "  le.itemid,\n",
    "  le.charttime,\n",
    "  le.storetime,\n",
    "  le.valuenum\n",
    "FROM\n",
    "  `physionet-data.mimiciv_hosp.labevents` AS le\n",
    "JOIN\n",
    "  LabCodeCounts AS lcc\n",
    "ON\n",
    "  le.itemid = lcc.itemid;\n",
    "\"\"\""
   ]
  },
  {
   "cell_type": "code",
   "execution_count": null,
   "metadata": {},
   "outputs": [],
   "source": [
    "# Run the query\n",
    "query_job = client.query(query)\n",
    "\n",
    "# Wait for the query to complete\n",
    "results = query_job.result()\n",
    "\n",
    "# Convert the results to a Pandas DataFrame\n",
    "df = results.to_dataframe()"
   ]
  }
 ],
 "metadata": {
  "kernelspec": {
   "display_name": "labrador",
   "language": "python",
   "name": "python3"
  },
  "language_info": {
   "codemirror_mode": {
    "name": "ipython",
    "version": 3
   },
   "file_extension": ".py",
   "mimetype": "text/x-python",
   "name": "python",
   "nbconvert_exporter": "python",
   "pygments_lexer": "ipython3",
   "version": "3.9.18"
  }
 },
 "nbformat": 4,
 "nbformat_minor": 2
}
